{
 "cells": [
  {
   "cell_type": "markdown",
   "metadata": {},
   "source": [
    "# 4번"
   ]
  },
  {
   "cell_type": "code",
   "execution_count": 1,
   "metadata": {},
   "outputs": [
    {
     "name": "stdout",
     "output_type": "stream",
     "text": [
      "2\n",
      "GCF\n",
      "ACDEB\n",
      "99437\n"
     ]
    }
   ],
   "source": [
    "num = int(input())\n",
    "wordlist = [input() for i in range(num)]\n",
    "    \n",
    "output = []\n",
    "for word in wordlist: \n",
    "    for i in range(len(word)): \n",
    "        output.append(str(10**(len(word)-i-1))+\"*\"+word[i])\n",
    "        \n",
    "output = sorted(output, reverse=True)\n",
    "\n",
    "alphabet = [o[-1] for o in output]\n",
    "alphabet2 = [alphabet[0]]\n",
    "\n",
    "for i in range(1, len(alphabet)):\n",
    "    if alphabet[i] not in alphabet2:\n",
    "        alphabet2.append(alphabet[i])\n",
    "\n",
    "abcdic = {} \n",
    "numlist = list(range(9,-1,-1)) \n",
    "for word, num in zip(alphabet2, numlist[:len(alphabet2)]): \n",
    "    abcdic[word] = num\n",
    "    \n",
    "final = []\n",
    "for o in output: \n",
    "    for a, n in abcdic.items(): \n",
    "        if o[-1] == a:\n",
    "            final.append(o.replace(o[-1], str(n)))\n",
    "            \n",
    "print(eval(\"+\".join(final)))"
   ]
  },
  {
   "cell_type": "markdown",
   "metadata": {},
   "source": [
    "# 2번"
   ]
  },
  {
   "cell_type": "code",
   "execution_count": 18,
   "metadata": {},
   "outputs": [
    {
     "name": "stdout",
     "output_type": "stream",
     "text": [
      "4\n",
      "0 1 2 3\n",
      "4 0 5 6\n",
      "7 1 0 2\n",
      "3 4 5 0\n",
      "0\n"
     ]
    }
   ],
   "source": [
    "import itertools\n",
    "\n",
    "N = int(input())\n",
    "S = [list(map(int, input().split())) for _ in range(N)]\n",
    "\n",
    "indexlist = [i for i in range(N)]\n",
    "\n",
    "team1 = []\n",
    "for ii in range(1, N//2 + 1):\n",
    "    for subset in itertools.combinations(indexlist , ii):\n",
    "        team1.append(list(subset))\n",
    "        \n",
    "team2 = []\n",
    "for t in team1: \n",
    "    team2.append(list(set(indexlist) - set(t)))\n",
    "    \n",
    "def score(team, S): \n",
    "    scorelist = []\n",
    "    for t in team: \n",
    "        s = 0\n",
    "        for i in t: \n",
    "            for j in t: \n",
    "                if i!=j: \n",
    "                    s += S[i][j]\n",
    "        scorelist.append(s)        \n",
    "    return scorelist\n",
    "\n",
    "minlist = [abs(t1-t2) for t1, t2 in zip(score(team1,S), score(team2,S))]\n",
    "print(min(minlist))"
   ]
  },
  {
   "cell_type": "markdown",
   "metadata": {},
   "source": [
    "# 3번"
   ]
  },
  {
   "cell_type": "markdown",
   "metadata": {},
   "source": [
    "* 1 -> 3\n",
    "* 4 -> 41\n",
    "* 50000 -> 2404\n",
    "* 100000 -> 8379"
   ]
  },
  {
   "cell_type": "code",
   "execution_count": 55,
   "metadata": {},
   "outputs": [],
   "source": [
    "# 틀린 답 ^_^ ~~~\n",
    "import math\n",
    "\n",
    "def nCr(n,r):\n",
    "    f = math.factorial\n",
    "    return f(n) // f(r) // f(n-r)\n",
    "\n",
    "def solution(N):\n",
    "    score = 1 + (nCr(N,1))*2\n",
    "    for i in range(2, N+1): \n",
    "        score += ((N+1)-i)*2 + (nCr(N,i)-((N+1)-i))*2*2\n",
    "    return score % 9901"
   ]
  },
  {
   "cell_type": "code",
   "execution_count": 62,
   "metadata": {},
   "outputs": [
    {
     "name": "stdout",
     "output_type": "stream",
     "text": [
      "50000\n",
      "2404\n"
     ]
    }
   ],
   "source": [
    "a,b = 1,3\n",
    "for _ in range(int(input())):\n",
    "    a,b = b,(2*b+a)%9901\n",
    "print(a)"
   ]
  },
  {
   "cell_type": "markdown",
   "metadata": {},
   "source": [
    "# 1번"
   ]
  },
  {
   "cell_type": "markdown",
   "metadata": {},
   "source": [
    "1) test case     \n",
    "2 4     \n",
    "CAAB     \n",
    "ADCB      \n",
    "-> 3\n",
    " \n",
    " \n",
    "2) \n",
    "2 4    \n",
    "ACDB         \n",
    "CBBD      \n",
    "-> 4 \n",
    "\n",
    "\n",
    "3)    \n",
    "3 4    \n",
    "CCBD     \n",
    "BDAE     \n",
    "ECBA     \n",
    "-> 5\n",
    "\n",
    "\n",
    "\n",
    "4) test case     \n",
    "3 6    \n",
    "HFDFFB     \n",
    "AJHGDH     \n",
    "DGAGEH     \n",
    "6      \n",
    "\n",
    "\n",
    "\n",
    "5) test case     \n",
    "10 10    \n",
    "AAAAAAAAAA    \n",
    "BBBBBBBBBB    \n",
    "CCCCCCCCCC    \n",
    "DDDDDDDDDD    \n",
    "EEEEEEEEEE    \n",
    "FFFFFFFFFF    \n",
    "GGGGGGGGGG        \n",
    "HHHHHHHHHH    \n",
    "IIIIIIIIII    \n",
    "JJJJJJJJJJ    \n",
    "10  \n",
    "    \n",
    "    \n",
    "    \n",
    "    \n",
    "6) test case     \n",
    "10 10    \n",
    "AAAAAAAAAA    \n",
    "BBBBBBBBBB    \n",
    "CCCCCCCCCZ    \n",
    "DDDDDDDDDY    \n",
    "EEEEEEEEEX    \n",
    "FFFFFFFFFW    \n",
    "GGGGGGGGGV    \n",
    "HHHHHHHHHU    \n",
    "IIIIIIIIIT    \n",
    "JKLMNOPQRS    \n",
    "26     "
   ]
  },
  {
   "cell_type": "markdown",
   "metadata": {},
   "source": [
    "1) test case        \n",
    "2 4      \n",
    "CAAB      \n",
    "ADCB        \n",
    "-> 3   "
   ]
  },
  {
   "cell_type": "code",
   "execution_count": null,
   "metadata": {},
   "outputs": [],
   "source": [
    "# 1번\n",
    "inputs = list(map(int, input().split()))\n",
    "num_row = inputs[0] # R행\n",
    "num_column = inputs[1] # C열\n",
    "\n",
    "board = []\n",
    "for _ in range(num_row):\n",
    "    board.append(list(input()))\n",
    "answer = 0\n",
    "\n",
    "dx = [-1, 1, 0, 0] # 좌(-1), 우(+1)\n",
    "dy = [0, 0, 1, -1] # 상(+1), 하(-1)\n",
    "\n",
    "routine = [0] * 26 # A~Z 값의 존재 유무를 체크하는 리스트\n",
    "\n",
    "def forward(row, column, routine):\n",
    "    # (row, column): 좌표, routine: 지금까지 모은 알파벳\n",
    "    ret = 0\n",
    "    for i in range(4): # index 0,1,2,3 - 상하좌우 움직임\n",
    "        next_row = row + dx[i]\n",
    "        next_col = column + dy[i]\n",
    "\n",
    "        # 이동 후 (R,C) 범위 안에 있으면, 이동 후 위치에서의 알파벳 출력\n",
    "        if (0 <= next_col < num_column) and (0 <= next_row < num_row):\n",
    "            alphabet = board[next_row][next_col] # 상하좌우 값 알파벳\n",
    "\n",
    "            # ord: 유니코드 출력하는 파이썬 내장함수 (cf. <-> chr)\n",
    "            # A: 65 ~ Z: 90\n",
    "            if routine[ord(alphabet)-65] == False: # 기존 루트에 값이 없으면\n",
    "                routine[ord(alphabet)-65] = True # 일단 추가해준다\n",
    "                ret = max(ret, forward(next_row, next_col, routine)+1)\n",
    "                # 새롭게 업데이트 된 위치에서 함수를 다시 돌게 되고,\n",
    "                # 한 번 이동했다는 의미이므로 +1을 해서\n",
    "                # 원래 값과 비교해 더 큰 값을 출력한다\n",
    "                routine[ord(alphabet)-65] = False\n",
    "                # 새롭게 체크해야 하므로 False로 바꿔준다\n",
    "                # forward(next_row, next_col, routine)에서\n",
    "                # routine[ord(다음alphabet)-65]으로 체크해야 하므로...\n",
    "    return ret\n",
    "routine[ord(board[0][0])-65] = True # (1,1) 값 저장\n",
    "answer = forward(0, 0, routine) + 1\n",
    "print(answer)"
   ]
  }
 ],
 "metadata": {
  "kernelspec": {
   "display_name": "Python 3",
   "language": "python",
   "name": "python3"
  },
  "language_info": {
   "codemirror_mode": {
    "name": "ipython",
    "version": 3
   },
   "file_extension": ".py",
   "mimetype": "text/x-python",
   "name": "python",
   "nbconvert_exporter": "python",
   "pygments_lexer": "ipython3",
   "version": "3.6.8rc1"
  },
  "toc": {
   "base_numbering": 1,
   "nav_menu": {},
   "number_sections": true,
   "sideBar": true,
   "skip_h1_title": false,
   "title_cell": "Table of Contents",
   "title_sidebar": "Contents",
   "toc_cell": false,
   "toc_position": {},
   "toc_section_display": true,
   "toc_window_display": false
  },
  "varInspector": {
   "cols": {
    "lenName": 16,
    "lenType": 16,
    "lenVar": 40
   },
   "kernels_config": {
    "python": {
     "delete_cmd_postfix": "",
     "delete_cmd_prefix": "del ",
     "library": "var_list.py",
     "varRefreshCmd": "print(var_dic_list())"
    },
    "r": {
     "delete_cmd_postfix": ") ",
     "delete_cmd_prefix": "rm(",
     "library": "var_list.r",
     "varRefreshCmd": "cat(var_dic_list()) "
    }
   },
   "position": {
    "height": "494.86px",
    "left": "1269.57px",
    "right": "20px",
    "top": "35px",
    "width": "378px"
   },
   "types_to_exclude": [
    "module",
    "function",
    "builtin_function_or_method",
    "instance",
    "_Feature"
   ],
   "window_display": false
  }
 },
 "nbformat": 4,
 "nbformat_minor": 2
}
