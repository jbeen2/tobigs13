{
 "cells": [
  {
   "cell_type": "markdown",
   "metadata": {},
   "source": [
    "# Multi Class SVM"
   ]
  },
  {
   "cell_type": "code",
   "execution_count": 1,
   "metadata": {},
   "outputs": [
    {
     "name": "stdout",
     "output_type": "stream",
     "text": [
      "0         setosa\n",
      "1         setosa\n",
      "2         setosa\n",
      "3         setosa\n",
      "4         setosa\n",
      "         ...    \n",
      "145    virginica\n",
      "146    virginica\n",
      "147    virginica\n",
      "148    virginica\n",
      "149    virginica\n",
      "Name: species, Length: 150, dtype: object\n"
     ]
    }
   ],
   "source": [
    "import numpy as np\n",
    "import pandas as pd\n",
    "import matplotlib.pyplot as plt\n",
    "import seaborn as sns\n",
    "\n",
    "from sklearn.svm import SVC\n",
    "from sklearn.model_selection import train_test_split\n",
    "\n",
    "from sklearn.pipeline import Pipeline\n",
    "from sklearn.preprocessing import StandardScaler\n",
    "\n",
    "iris =  sns.load_dataset('iris') #data load\n",
    "X= iris.iloc[:,:4]\n",
    "y = iris.iloc[:,-1]\n",
    "print(y)"
   ]
  },
  {
   "cell_type": "code",
   "execution_count": 2,
   "metadata": {},
   "outputs": [],
   "source": [
    "scal = StandardScaler() #scaling\n",
    "X = scal.fit_transform(X)"
   ]
  },
  {
   "cell_type": "markdown",
   "metadata": {},
   "source": [
    "### One vs Rest\n",
    "* 하나와 나머지, 플러스가 나오면 그 하나에 속하는 것이고, 마이너스가 나오면 속하지 않는 것이다 \n",
    "* 만약 동일한 부호가 나온다면(동점이면) 거리를 비교해서 가까운쪽으로 분류하겠다 "
   ]
  },
  {
   "cell_type": "code",
   "execution_count": 3,
   "metadata": {},
   "outputs": [],
   "source": [
    "# One Versus Rest \n",
    "svm_1 = SVC(kernel ='rbf', gamma = 5, C = 100)\n",
    "svm_2 = SVC(kernel ='rbf', gamma = 5, C = 100)\n",
    "svm_3 = SVC(kernel ='rbf', gamma = 5, C = 100)"
   ]
  },
  {
   "cell_type": "code",
   "execution_count": 4,
   "metadata": {},
   "outputs": [],
   "source": [
    "X_train, X_test, y_train, y_test = train_test_split(X, y, test_size=0.2, random_state=48)"
   ]
  },
  {
   "cell_type": "code",
   "execution_count": 5,
   "metadata": {},
   "outputs": [],
   "source": [
    "y_train = pd.get_dummies(y_train) #one hot encoding"
   ]
  },
  {
   "cell_type": "code",
   "execution_count": 6,
   "metadata": {},
   "outputs": [
    {
     "data": {
      "text/html": [
       "<div>\n",
       "<style scoped>\n",
       "    .dataframe tbody tr th:only-of-type {\n",
       "        vertical-align: middle;\n",
       "    }\n",
       "\n",
       "    .dataframe tbody tr th {\n",
       "        vertical-align: top;\n",
       "    }\n",
       "\n",
       "    .dataframe thead th {\n",
       "        text-align: right;\n",
       "    }\n",
       "</style>\n",
       "<table border=\"1\" class=\"dataframe\">\n",
       "  <thead>\n",
       "    <tr style=\"text-align: right;\">\n",
       "      <th></th>\n",
       "      <th>setosa</th>\n",
       "      <th>versicolor</th>\n",
       "      <th>virginica</th>\n",
       "    </tr>\n",
       "  </thead>\n",
       "  <tbody>\n",
       "    <tr>\n",
       "      <th>110</th>\n",
       "      <td>0</td>\n",
       "      <td>0</td>\n",
       "      <td>1</td>\n",
       "    </tr>\n",
       "    <tr>\n",
       "      <th>69</th>\n",
       "      <td>0</td>\n",
       "      <td>1</td>\n",
       "      <td>0</td>\n",
       "    </tr>\n",
       "    <tr>\n",
       "      <th>148</th>\n",
       "      <td>0</td>\n",
       "      <td>0</td>\n",
       "      <td>1</td>\n",
       "    </tr>\n",
       "    <tr>\n",
       "      <th>39</th>\n",
       "      <td>1</td>\n",
       "      <td>0</td>\n",
       "      <td>0</td>\n",
       "    </tr>\n",
       "    <tr>\n",
       "      <th>53</th>\n",
       "      <td>0</td>\n",
       "      <td>1</td>\n",
       "      <td>0</td>\n",
       "    </tr>\n",
       "  </tbody>\n",
       "</table>\n",
       "</div>"
      ],
      "text/plain": [
       "     setosa  versicolor  virginica\n",
       "110       0           0          1\n",
       "69        0           1          0\n",
       "148       0           0          1\n",
       "39        1           0          0\n",
       "53        0           1          0"
      ]
     },
     "execution_count": 6,
     "metadata": {},
     "output_type": "execute_result"
    }
   ],
   "source": [
    "y_train.head()"
   ]
  },
  {
   "cell_type": "code",
   "execution_count": 7,
   "metadata": {},
   "outputs": [
    {
     "name": "stdout",
     "output_type": "stream",
     "text": [
      "[-1.12470845 -0.86326953 -0.65281099 -0.50248821 -0.76284323 -0.87465573\n",
      "  1.07709345 -0.99281647  0.47441336 -0.99842743 -0.83989348  0.15633457\n",
      "  0.32871788 -0.97965464 -0.72385083 -0.92638376  1.28322481 -0.56240455\n",
      " -0.72719892 -0.99509775  0.43166724 -0.96451557 -0.82991366 -1.03020581\n",
      " -0.75166835  1.13461335  0.39943974 -1.04194106 -0.93376548 -1.06133798]\n",
      "[ 1.36054602  0.62859488  0.0580828  -0.36987093 -0.25686625 -0.79229874\n",
      " -1.03195247 -0.87132049 -0.77957234  0.99327762 -0.73309581 -0.64607768\n",
      " -0.71843897 -0.80882458  0.47748663  0.69953462 -1.11879121 -0.1870504\n",
      " -0.24458236 -0.99337352 -0.76149141 -0.96812018  0.11310267  1.06892719\n",
      " -0.56749692 -1.05639624 -0.74817515 -1.0537858  -0.89721836  1.17126024]\n",
      "[-1.26277651 -0.77964936 -0.40539105 -0.13070947  0.02643314  0.57365649\n",
      " -1.04443118  0.88027844 -0.69605517 -0.99074328  0.52442024 -0.51171892\n",
      " -0.61157919  0.78148257 -0.75517707 -0.76905925 -1.16380018 -0.25333938\n",
      " -0.0251979   0.98843144 -0.67129528  0.89577306 -0.30363489 -1.03647008\n",
      "  0.31622662 -1.07758405 -0.65251719  1.09632055  0.85541707 -1.11042784]\n"
     ]
    }
   ],
   "source": [
    "svm_1.fit(X_train,y_train.iloc[:,0]) # setosa  \n",
    "svm_2.fit(X_train,y_train.iloc[:,1]) # versicolor \n",
    "svm_3.fit(X_train,y_train.iloc[:,2]) # virginica  \n",
    "\n",
    "print(svm_1.decision_function(X_test))\n",
    "print(svm_2.decision_function(X_test))\n",
    "print(svm_3.decision_function(X_test)) #decision_function = hyperplane과의 거리!"
   ]
  },
  {
   "cell_type": "code",
   "execution_count": 8,
   "metadata": {},
   "outputs": [],
   "source": [
    "y_pred = []\n",
    "\n",
    "for i in range(len(X_test)):\n",
    "    if ((np.sign(svm_1.decision_function(X_test)[i]) > 0) and (np.sign(svm_2.decision_function(X_test)[i]) < 0) and (np.sign(svm_3.decision_function(X_test)[i]) < 0)): \n",
    "        y_pred.append(\"setosa\")\n",
    "    elif ((np.sign(svm_2.decision_function(X_test)[i]) > 0) and (np.sign(svm_1.decision_function(X_test)[i]) < 0) and (np.sign(svm_3.decision_function(X_test)[i]) < 0)): \n",
    "        y_pred.append(\"versicolor\") \n",
    "    elif ((np.sign(svm_3.decision_function(X_test)[i]) > 0) and (np.sign(svm_1.decision_function(X_test)[i]) < 0) and (np.sign(svm_2.decision_function(X_test)[i]) < 0)): \n",
    "        y_pred.append(\"virginica\") \n",
    "    else:\n",
    "        y_pred.append(3)"
   ]
  },
  {
   "cell_type": "markdown",
   "metadata": {},
   "source": [
    "* 플러스 부호인 경우 그 군집에 속하는 것으로 처리 \n",
    "* 모두 같은 부호가 나오면 일단 보류 "
   ]
  },
  {
   "cell_type": "code",
   "execution_count": 9,
   "metadata": {},
   "outputs": [
    {
     "data": {
      "text/plain": [
       "['versicolor',\n",
       " 'versicolor',\n",
       " 'versicolor',\n",
       " 3,\n",
       " 'virginica',\n",
       " 'virginica',\n",
       " 'setosa',\n",
       " 'virginica',\n",
       " 'setosa',\n",
       " 'versicolor',\n",
       " 'virginica',\n",
       " 'setosa',\n",
       " 'setosa',\n",
       " 'virginica',\n",
       " 'versicolor',\n",
       " 'versicolor',\n",
       " 'setosa',\n",
       " 3,\n",
       " 3,\n",
       " 'virginica',\n",
       " 'setosa',\n",
       " 'virginica',\n",
       " 'versicolor',\n",
       " 'versicolor',\n",
       " 'virginica',\n",
       " 'setosa',\n",
       " 'setosa',\n",
       " 'virginica',\n",
       " 'virginica',\n",
       " 'versicolor']"
      ]
     },
     "execution_count": 9,
     "metadata": {},
     "output_type": "execute_result"
    }
   ],
   "source": [
    "y_pred"
   ]
  },
  {
   "cell_type": "code",
   "execution_count": 10,
   "metadata": {},
   "outputs": [
    {
     "name": "stdout",
     "output_type": "stream",
     "text": [
      "3\n",
      "17\n",
      "18\n"
     ]
    }
   ],
   "source": [
    "# 부호가 모든 같은 경우가 있는가? < 모두 동점인 경우!! \n",
    "for i in range(len(X_test)):\n",
    "    if (np.sign(svm_1.decision_function(X_test)[i]) == np.sign(svm_2.decision_function(X_test)[i]) == np.sign(svm_3.decision_function(X_test)[i])):\n",
    "        print(i)"
   ]
  },
  {
   "cell_type": "code",
   "execution_count": 11,
   "metadata": {
    "scrolled": true
   },
   "outputs": [
    {
     "name": "stdout",
     "output_type": "stream",
     "text": [
      "-0.5024882107322184 -0.36987092513822756 -0.13070947139128608\n",
      "-0.562404550285589 -0.18705039695337913 -0.2533393758266559\n",
      "-0.7271989224328648 -0.24458235766281572 -0.025197903756274675\n"
     ]
    }
   ],
   "source": [
    "for i in [3,17,18]:\n",
    "    print(svm_1.decision_function(X_test)[i], svm_2.decision_function(X_test)[i], svm_3.decision_function(X_test)[i])"
   ]
  },
  {
   "cell_type": "markdown",
   "metadata": {},
   "source": [
    "#### decision function이 가까운 것 (= 절댓값이 작은 것)으로 분류: \n",
    "* 3: 'virginica'\n",
    "* 17: 'versicolor'\n",
    "* 18: 'virginica'"
   ]
  },
  {
   "cell_type": "code",
   "execution_count": 12,
   "metadata": {},
   "outputs": [],
   "source": [
    "y_pred[3] = 'virginica'\n",
    "y_pred[17] = 'versicolor'\n",
    "y_pred[18] = 'virginica'"
   ]
  },
  {
   "cell_type": "code",
   "execution_count": 13,
   "metadata": {
    "scrolled": true
   },
   "outputs": [
    {
     "data": {
      "text/plain": [
       "0.8666666666666667"
      ]
     },
     "execution_count": 13,
     "metadata": {},
     "output_type": "execute_result"
    }
   ],
   "source": [
    "from sklearn import metrics\n",
    "\n",
    "metrics.accuracy_score(y_test,y_pred)"
   ]
  },
  {
   "cell_type": "markdown",
   "metadata": {},
   "source": [
    "#### sklearn MultiClass SVM과 비교"
   ]
  },
  {
   "cell_type": "code",
   "execution_count": 14,
   "metadata": {},
   "outputs": [
    {
     "data": {
      "text/plain": [
       "0.8333333333333334"
      ]
     },
     "execution_count": 14,
     "metadata": {},
     "output_type": "execute_result"
    }
   ],
   "source": [
    "X_train_2, X_test_2, y_train_2, y_test_2 = train_test_split(X, y, test_size=0.2, random_state=48)\n",
    "\n",
    "svm_4 = SVC(kernel ='rbf', C = 5, gamma = 5)\n",
    "svm_4.fit(X_train_2, y_train_2)\n",
    "y_pred = svm_4.predict(X_test_2)\n",
    "\n",
    "metrics.accuracy_score(y_test_2,y_pred)"
   ]
  },
  {
   "cell_type": "markdown",
   "metadata": {},
   "source": [
    "내장된 함수를 그냥 사용하는 것 보다 one vs rest 방법으로 군집을 분류하는 것이 성능이 더 좋다 "
   ]
  }
 ],
 "metadata": {
  "file_extension": ".py",
  "kernelspec": {
   "display_name": "Python 3",
   "language": "python",
   "name": "python3"
  },
  "language_info": {
   "codemirror_mode": {
    "name": "ipython",
    "version": 3
   },
   "file_extension": ".py",
   "mimetype": "text/x-python",
   "name": "python",
   "nbconvert_exporter": "python",
   "pygments_lexer": "ipython3",
   "version": "3.6.8rc1"
  },
  "mimetype": "text/x-python",
  "name": "python",
  "npconvert_exporter": "python",
  "pygments_lexer": "ipython3",
  "version": 3
 },
 "nbformat": 4,
 "nbformat_minor": 2
}
