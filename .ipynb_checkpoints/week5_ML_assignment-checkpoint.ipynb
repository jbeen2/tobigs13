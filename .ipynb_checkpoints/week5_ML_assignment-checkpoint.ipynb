{
 "cells": [
  {
   "cell_type": "code",
   "execution_count": 1,
   "metadata": {},
   "outputs": [],
   "source": [
    "%matplotlib inline\n",
    "\n",
    "import pandas as pd\n",
    "import numpy as np\n",
    "\n",
    "import seaborn as sns\n",
    "import matplotlib.pyplot as plt\n",
    "plt.rc('font', family='Malgun Gothic')\n",
    "plt.rc('axes', unicode_minus=False)\n",
    "\n",
    "import warnings\n",
    "warnings.filterwarnings('ignore')"
   ]
  },
  {
   "cell_type": "code",
   "execution_count": 2,
   "metadata": {},
   "outputs": [],
   "source": [
    "from sklearn.preprocessing import LabelEncoder\n",
    "from sklearn.model_selection import GridSearchCV, RandomizedSearchCV\n",
    "\n",
    "from sklearn.linear_model import ElasticNet, Lasso, Ridge\n",
    "from sklearn.ensemble import RandomForestRegressor, GradientBoostingRegressor\n",
    "\n",
    "import xgboost as xgb\n",
    "import lightgbm as lgb\n",
    "\n",
    "from sklearn.pipeline import make_pipeline\n",
    "from sklearn.preprocessing import RobustScaler\n",
    "from sklearn.model_selection import KFold, cross_val_score, train_test_split\n",
    "from sklearn.metrics import mean_squared_error"
   ]
  },
  {
   "cell_type": "markdown",
   "metadata": {},
   "source": [
    "# 1. Data Description\n",
    "### 출처: Dacon 13회 제주 퇴근시간 버스승차인원 예측\n",
    "평가지표: RMSE"
   ]
  },
  {
   "cell_type": "code",
   "execution_count": 3,
   "metadata": {},
   "outputs": [],
   "source": [
    "train = pd.read_csv(\"train.csv\")\n",
    "test = pd.read_csv(\"test.csv\")\n",
    "bus = pd.read_csv(\"bus_bts.csv\")"
   ]
  },
  {
   "cell_type": "markdown",
   "metadata": {},
   "source": [
    "#### 1. train.csv / test.csv"
   ]
  },
  {
   "cell_type": "markdown",
   "metadata": {},
   "source": [
    "**train**: 2019-09-01 ~ 2019-09-30 / **test**: 2019-10-01 ~ 2019-10-16   \n",
    "\n",
    "* id : id 해당 데이터에서의 고유한 ID(train, test와의 중복은 없음)\n",
    "* data : 날짜\n",
    "* bus_route_id : 노선 ID\n",
    "* in_out : 시내버스, 시외버스 구분\n",
    "* station_code : 승하차 정류소 ID\n",
    "* station_name : 승하차 정류소 이름\n",
    "* lattitude : 위도 (같은 정류장 이름이어도 버스의 진행 방향에 따라 다를 수 있음)\n",
    "* logitude : 경도 (같은 정류장 이름이어도 버스의 진행 방향에 따라 다를 수 있음)\n",
    "* h~h+1_ride : 해당 시간 사이 승차한 인원수\n",
    "* h~h+1_takeoff : 해당 시간 사이 하차한 인원수\n",
    "* **18~20_ride** : 해당시간 사이 승차한 인원수 (target variable)"
   ]
  },
  {
   "cell_type": "code",
   "execution_count": 4,
   "metadata": {},
   "outputs": [],
   "source": [
    "def display_data(data, num):\n",
    "    with pd.option_context('display.max_rows', None, 'display.max_columns', None): # temporarily unleash limit\n",
    "        print('dataset shape is: {}'.format(data.shape))\n",
    "        display(data.head(num).append(data.tail(num)))\n",
    "        print(\"Number of missing values:\\n\",data.isnull().sum(),\"\\n\")"
   ]
  },
  {
   "cell_type": "code",
   "execution_count": 5,
   "metadata": {
    "scrolled": false
   },
   "outputs": [
    {
     "name": "stdout",
     "output_type": "stream",
     "text": [
      "dataset shape is: (415423, 21)\n"
     ]
    },
    {
     "data": {
      "text/html": [
       "<div>\n",
       "<style scoped>\n",
       "    .dataframe tbody tr th:only-of-type {\n",
       "        vertical-align: middle;\n",
       "    }\n",
       "\n",
       "    .dataframe tbody tr th {\n",
       "        vertical-align: top;\n",
       "    }\n",
       "\n",
       "    .dataframe thead th {\n",
       "        text-align: right;\n",
       "    }\n",
       "</style>\n",
       "<table border=\"1\" class=\"dataframe\">\n",
       "  <thead>\n",
       "    <tr style=\"text-align: right;\">\n",
       "      <th></th>\n",
       "      <th>id</th>\n",
       "      <th>date</th>\n",
       "      <th>bus_route_id</th>\n",
       "      <th>in_out</th>\n",
       "      <th>station_code</th>\n",
       "      <th>station_name</th>\n",
       "      <th>latitude</th>\n",
       "      <th>longitude</th>\n",
       "      <th>6~7_ride</th>\n",
       "      <th>7~8_ride</th>\n",
       "      <th>8~9_ride</th>\n",
       "      <th>9~10_ride</th>\n",
       "      <th>10~11_ride</th>\n",
       "      <th>11~12_ride</th>\n",
       "      <th>6~7_takeoff</th>\n",
       "      <th>7~8_takeoff</th>\n",
       "      <th>8~9_takeoff</th>\n",
       "      <th>9~10_takeoff</th>\n",
       "      <th>10~11_takeoff</th>\n",
       "      <th>11~12_takeoff</th>\n",
       "      <th>18~20_ride</th>\n",
       "    </tr>\n",
       "  </thead>\n",
       "  <tbody>\n",
       "    <tr>\n",
       "      <th>0</th>\n",
       "      <td>0</td>\n",
       "      <td>2019-09-01</td>\n",
       "      <td>4270000</td>\n",
       "      <td>시외</td>\n",
       "      <td>344</td>\n",
       "      <td>제주썬호텔</td>\n",
       "      <td>33.48990</td>\n",
       "      <td>126.49373</td>\n",
       "      <td>0.0</td>\n",
       "      <td>1.0</td>\n",
       "      <td>2.0</td>\n",
       "      <td>5.0</td>\n",
       "      <td>2.0</td>\n",
       "      <td>6.0</td>\n",
       "      <td>0.0</td>\n",
       "      <td>0.0</td>\n",
       "      <td>0.0</td>\n",
       "      <td>0.0</td>\n",
       "      <td>0.0</td>\n",
       "      <td>0.0</td>\n",
       "      <td>0.0</td>\n",
       "    </tr>\n",
       "    <tr>\n",
       "      <th>1</th>\n",
       "      <td>1</td>\n",
       "      <td>2019-09-01</td>\n",
       "      <td>4270000</td>\n",
       "      <td>시외</td>\n",
       "      <td>357</td>\n",
       "      <td>한라병원</td>\n",
       "      <td>33.48944</td>\n",
       "      <td>126.48508</td>\n",
       "      <td>1.0</td>\n",
       "      <td>4.0</td>\n",
       "      <td>4.0</td>\n",
       "      <td>2.0</td>\n",
       "      <td>5.0</td>\n",
       "      <td>6.0</td>\n",
       "      <td>0.0</td>\n",
       "      <td>0.0</td>\n",
       "      <td>0.0</td>\n",
       "      <td>0.0</td>\n",
       "      <td>0.0</td>\n",
       "      <td>0.0</td>\n",
       "      <td>5.0</td>\n",
       "    </tr>\n",
       "    <tr>\n",
       "      <th>2</th>\n",
       "      <td>2</td>\n",
       "      <td>2019-09-01</td>\n",
       "      <td>4270000</td>\n",
       "      <td>시외</td>\n",
       "      <td>432</td>\n",
       "      <td>정존마을</td>\n",
       "      <td>33.48181</td>\n",
       "      <td>126.47352</td>\n",
       "      <td>1.0</td>\n",
       "      <td>1.0</td>\n",
       "      <td>0.0</td>\n",
       "      <td>2.0</td>\n",
       "      <td>0.0</td>\n",
       "      <td>0.0</td>\n",
       "      <td>0.0</td>\n",
       "      <td>0.0</td>\n",
       "      <td>0.0</td>\n",
       "      <td>0.0</td>\n",
       "      <td>0.0</td>\n",
       "      <td>0.0</td>\n",
       "      <td>2.0</td>\n",
       "    </tr>\n",
       "    <tr>\n",
       "      <th>3</th>\n",
       "      <td>3</td>\n",
       "      <td>2019-09-01</td>\n",
       "      <td>4270000</td>\n",
       "      <td>시내</td>\n",
       "      <td>1579</td>\n",
       "      <td>제주국제공항(600번)</td>\n",
       "      <td>33.50577</td>\n",
       "      <td>126.49252</td>\n",
       "      <td>0.0</td>\n",
       "      <td>17.0</td>\n",
       "      <td>6.0</td>\n",
       "      <td>26.0</td>\n",
       "      <td>14.0</td>\n",
       "      <td>16.0</td>\n",
       "      <td>0.0</td>\n",
       "      <td>0.0</td>\n",
       "      <td>0.0</td>\n",
       "      <td>0.0</td>\n",
       "      <td>0.0</td>\n",
       "      <td>0.0</td>\n",
       "      <td>53.0</td>\n",
       "    </tr>\n",
       "    <tr>\n",
       "      <th>4</th>\n",
       "      <td>4</td>\n",
       "      <td>2019-09-01</td>\n",
       "      <td>4270000</td>\n",
       "      <td>시내</td>\n",
       "      <td>1646</td>\n",
       "      <td>중문관광단지입구</td>\n",
       "      <td>33.25579</td>\n",
       "      <td>126.41260</td>\n",
       "      <td>0.0</td>\n",
       "      <td>0.0</td>\n",
       "      <td>0.0</td>\n",
       "      <td>0.0</td>\n",
       "      <td>0.0</td>\n",
       "      <td>0.0</td>\n",
       "      <td>0.0</td>\n",
       "      <td>0.0</td>\n",
       "      <td>0.0</td>\n",
       "      <td>1.0</td>\n",
       "      <td>0.0</td>\n",
       "      <td>0.0</td>\n",
       "      <td>0.0</td>\n",
       "    </tr>\n",
       "    <tr>\n",
       "      <th>415418</th>\n",
       "      <td>415418</td>\n",
       "      <td>2019-09-30</td>\n",
       "      <td>32820000</td>\n",
       "      <td>시내</td>\n",
       "      <td>1129</td>\n",
       "      <td>한림환승정류장(한림리)</td>\n",
       "      <td>33.41437</td>\n",
       "      <td>126.26336</td>\n",
       "      <td>4.0</td>\n",
       "      <td>0.0</td>\n",
       "      <td>0.0</td>\n",
       "      <td>0.0</td>\n",
       "      <td>0.0</td>\n",
       "      <td>0.0</td>\n",
       "      <td>0.0</td>\n",
       "      <td>0.0</td>\n",
       "      <td>0.0</td>\n",
       "      <td>0.0</td>\n",
       "      <td>0.0</td>\n",
       "      <td>0.0</td>\n",
       "      <td>0.0</td>\n",
       "    </tr>\n",
       "    <tr>\n",
       "      <th>415419</th>\n",
       "      <td>415419</td>\n",
       "      <td>2019-09-30</td>\n",
       "      <td>32820000</td>\n",
       "      <td>시내</td>\n",
       "      <td>1564</td>\n",
       "      <td>제주시외버스터미널</td>\n",
       "      <td>33.49946</td>\n",
       "      <td>126.51479</td>\n",
       "      <td>4.0</td>\n",
       "      <td>0.0</td>\n",
       "      <td>0.0</td>\n",
       "      <td>0.0</td>\n",
       "      <td>0.0</td>\n",
       "      <td>0.0</td>\n",
       "      <td>0.0</td>\n",
       "      <td>0.0</td>\n",
       "      <td>0.0</td>\n",
       "      <td>0.0</td>\n",
       "      <td>0.0</td>\n",
       "      <td>0.0</td>\n",
       "      <td>0.0</td>\n",
       "    </tr>\n",
       "    <tr>\n",
       "      <th>415420</th>\n",
       "      <td>415420</td>\n",
       "      <td>2019-09-30</td>\n",
       "      <td>32820000</td>\n",
       "      <td>시내</td>\n",
       "      <td>2322</td>\n",
       "      <td>해병부대</td>\n",
       "      <td>33.23100</td>\n",
       "      <td>126.26273</td>\n",
       "      <td>0.0</td>\n",
       "      <td>0.0</td>\n",
       "      <td>0.0</td>\n",
       "      <td>0.0</td>\n",
       "      <td>0.0</td>\n",
       "      <td>0.0</td>\n",
       "      <td>0.0</td>\n",
       "      <td>1.0</td>\n",
       "      <td>0.0</td>\n",
       "      <td>0.0</td>\n",
       "      <td>0.0</td>\n",
       "      <td>0.0</td>\n",
       "      <td>0.0</td>\n",
       "    </tr>\n",
       "    <tr>\n",
       "      <th>415421</th>\n",
       "      <td>415421</td>\n",
       "      <td>2019-09-30</td>\n",
       "      <td>32820000</td>\n",
       "      <td>시내</td>\n",
       "      <td>3291</td>\n",
       "      <td>애월환승정류장(애월리)</td>\n",
       "      <td>33.46483</td>\n",
       "      <td>126.31870</td>\n",
       "      <td>1.0</td>\n",
       "      <td>0.0</td>\n",
       "      <td>0.0</td>\n",
       "      <td>0.0</td>\n",
       "      <td>0.0</td>\n",
       "      <td>0.0</td>\n",
       "      <td>0.0</td>\n",
       "      <td>0.0</td>\n",
       "      <td>0.0</td>\n",
       "      <td>0.0</td>\n",
       "      <td>0.0</td>\n",
       "      <td>0.0</td>\n",
       "      <td>0.0</td>\n",
       "    </tr>\n",
       "    <tr>\n",
       "      <th>415422</th>\n",
       "      <td>415422</td>\n",
       "      <td>2019-09-30</td>\n",
       "      <td>32820000</td>\n",
       "      <td>시내</td>\n",
       "      <td>6115100</td>\n",
       "      <td>서귀포시외버스터미널</td>\n",
       "      <td>33.24873</td>\n",
       "      <td>126.50799</td>\n",
       "      <td>0.0</td>\n",
       "      <td>0.0</td>\n",
       "      <td>0.0</td>\n",
       "      <td>0.0</td>\n",
       "      <td>0.0</td>\n",
       "      <td>0.0</td>\n",
       "      <td>0.0</td>\n",
       "      <td>0.0</td>\n",
       "      <td>4.0</td>\n",
       "      <td>0.0</td>\n",
       "      <td>0.0</td>\n",
       "      <td>0.0</td>\n",
       "      <td>0.0</td>\n",
       "    </tr>\n",
       "  </tbody>\n",
       "</table>\n",
       "</div>"
      ],
      "text/plain": [
       "            id        date  bus_route_id in_out  station_code  station_name  \\\n",
       "0            0  2019-09-01       4270000     시외           344         제주썬호텔   \n",
       "1            1  2019-09-01       4270000     시외           357          한라병원   \n",
       "2            2  2019-09-01       4270000     시외           432          정존마을   \n",
       "3            3  2019-09-01       4270000     시내          1579  제주국제공항(600번)   \n",
       "4            4  2019-09-01       4270000     시내          1646      중문관광단지입구   \n",
       "415418  415418  2019-09-30      32820000     시내          1129  한림환승정류장(한림리)   \n",
       "415419  415419  2019-09-30      32820000     시내          1564     제주시외버스터미널   \n",
       "415420  415420  2019-09-30      32820000     시내          2322          해병부대   \n",
       "415421  415421  2019-09-30      32820000     시내          3291  애월환승정류장(애월리)   \n",
       "415422  415422  2019-09-30      32820000     시내       6115100    서귀포시외버스터미널   \n",
       "\n",
       "        latitude  longitude  6~7_ride  7~8_ride  8~9_ride  9~10_ride  \\\n",
       "0       33.48990  126.49373       0.0       1.0       2.0        5.0   \n",
       "1       33.48944  126.48508       1.0       4.0       4.0        2.0   \n",
       "2       33.48181  126.47352       1.0       1.0       0.0        2.0   \n",
       "3       33.50577  126.49252       0.0      17.0       6.0       26.0   \n",
       "4       33.25579  126.41260       0.0       0.0       0.0        0.0   \n",
       "415418  33.41437  126.26336       4.0       0.0       0.0        0.0   \n",
       "415419  33.49946  126.51479       4.0       0.0       0.0        0.0   \n",
       "415420  33.23100  126.26273       0.0       0.0       0.0        0.0   \n",
       "415421  33.46483  126.31870       1.0       0.0       0.0        0.0   \n",
       "415422  33.24873  126.50799       0.0       0.0       0.0        0.0   \n",
       "\n",
       "        10~11_ride  11~12_ride  6~7_takeoff  7~8_takeoff  8~9_takeoff  \\\n",
       "0              2.0         6.0          0.0          0.0          0.0   \n",
       "1              5.0         6.0          0.0          0.0          0.0   \n",
       "2              0.0         0.0          0.0          0.0          0.0   \n",
       "3             14.0        16.0          0.0          0.0          0.0   \n",
       "4              0.0         0.0          0.0          0.0          0.0   \n",
       "415418         0.0         0.0          0.0          0.0          0.0   \n",
       "415419         0.0         0.0          0.0          0.0          0.0   \n",
       "415420         0.0         0.0          0.0          1.0          0.0   \n",
       "415421         0.0         0.0          0.0          0.0          0.0   \n",
       "415422         0.0         0.0          0.0          0.0          4.0   \n",
       "\n",
       "        9~10_takeoff  10~11_takeoff  11~12_takeoff  18~20_ride  \n",
       "0                0.0            0.0            0.0         0.0  \n",
       "1                0.0            0.0            0.0         5.0  \n",
       "2                0.0            0.0            0.0         2.0  \n",
       "3                0.0            0.0            0.0        53.0  \n",
       "4                1.0            0.0            0.0         0.0  \n",
       "415418           0.0            0.0            0.0         0.0  \n",
       "415419           0.0            0.0            0.0         0.0  \n",
       "415420           0.0            0.0            0.0         0.0  \n",
       "415421           0.0            0.0            0.0         0.0  \n",
       "415422           0.0            0.0            0.0         0.0  "
      ]
     },
     "metadata": {},
     "output_type": "display_data"
    },
    {
     "name": "stdout",
     "output_type": "stream",
     "text": [
      "Number of missing values:\n",
      " id               0\n",
      "date             0\n",
      "bus_route_id     0\n",
      "in_out           0\n",
      "station_code     0\n",
      "station_name     0\n",
      "latitude         0\n",
      "longitude        0\n",
      "6~7_ride         0\n",
      "7~8_ride         0\n",
      "8~9_ride         0\n",
      "9~10_ride        0\n",
      "10~11_ride       0\n",
      "11~12_ride       0\n",
      "6~7_takeoff      0\n",
      "7~8_takeoff      0\n",
      "8~9_takeoff      0\n",
      "9~10_takeoff     0\n",
      "10~11_takeoff    0\n",
      "11~12_takeoff    0\n",
      "18~20_ride       0\n",
      "dtype: int64 \n",
      "\n"
     ]
    }
   ],
   "source": [
    "display_data(train, 5)"
   ]
  },
  {
   "cell_type": "code",
   "execution_count": 6,
   "metadata": {},
   "outputs": [
    {
     "name": "stdout",
     "output_type": "stream",
     "text": [
      "dataset shape is: (228170, 20)\n"
     ]
    },
    {
     "data": {
      "text/html": [
       "<div>\n",
       "<style scoped>\n",
       "    .dataframe tbody tr th:only-of-type {\n",
       "        vertical-align: middle;\n",
       "    }\n",
       "\n",
       "    .dataframe tbody tr th {\n",
       "        vertical-align: top;\n",
       "    }\n",
       "\n",
       "    .dataframe thead th {\n",
       "        text-align: right;\n",
       "    }\n",
       "</style>\n",
       "<table border=\"1\" class=\"dataframe\">\n",
       "  <thead>\n",
       "    <tr style=\"text-align: right;\">\n",
       "      <th></th>\n",
       "      <th>id</th>\n",
       "      <th>date</th>\n",
       "      <th>bus_route_id</th>\n",
       "      <th>in_out</th>\n",
       "      <th>station_code</th>\n",
       "      <th>station_name</th>\n",
       "      <th>latitude</th>\n",
       "      <th>longitude</th>\n",
       "      <th>6~7_ride</th>\n",
       "      <th>7~8_ride</th>\n",
       "      <th>8~9_ride</th>\n",
       "      <th>9~10_ride</th>\n",
       "      <th>10~11_ride</th>\n",
       "      <th>11~12_ride</th>\n",
       "      <th>6~7_takeoff</th>\n",
       "      <th>7~8_takeoff</th>\n",
       "      <th>8~9_takeoff</th>\n",
       "      <th>9~10_takeoff</th>\n",
       "      <th>10~11_takeoff</th>\n",
       "      <th>11~12_takeoff</th>\n",
       "    </tr>\n",
       "  </thead>\n",
       "  <tbody>\n",
       "    <tr>\n",
       "      <th>0</th>\n",
       "      <td>415423</td>\n",
       "      <td>2019-10-01</td>\n",
       "      <td>4270000</td>\n",
       "      <td>시외</td>\n",
       "      <td>344</td>\n",
       "      <td>제주썬호텔</td>\n",
       "      <td>33.48990</td>\n",
       "      <td>126.49373</td>\n",
       "      <td>4.0</td>\n",
       "      <td>4.0</td>\n",
       "      <td>7.0</td>\n",
       "      <td>2.0</td>\n",
       "      <td>9.0</td>\n",
       "      <td>1.0</td>\n",
       "      <td>0.0</td>\n",
       "      <td>0.0</td>\n",
       "      <td>0.0</td>\n",
       "      <td>0.0</td>\n",
       "      <td>0.0</td>\n",
       "      <td>1.0</td>\n",
       "    </tr>\n",
       "    <tr>\n",
       "      <th>1</th>\n",
       "      <td>415424</td>\n",
       "      <td>2019-10-01</td>\n",
       "      <td>4270000</td>\n",
       "      <td>시외</td>\n",
       "      <td>357</td>\n",
       "      <td>한라병원</td>\n",
       "      <td>33.48944</td>\n",
       "      <td>126.48508</td>\n",
       "      <td>1.0</td>\n",
       "      <td>6.0</td>\n",
       "      <td>6.0</td>\n",
       "      <td>1.0</td>\n",
       "      <td>8.0</td>\n",
       "      <td>11.0</td>\n",
       "      <td>0.0</td>\n",
       "      <td>0.0</td>\n",
       "      <td>0.0</td>\n",
       "      <td>0.0</td>\n",
       "      <td>0.0</td>\n",
       "      <td>0.0</td>\n",
       "    </tr>\n",
       "    <tr>\n",
       "      <th>2</th>\n",
       "      <td>415425</td>\n",
       "      <td>2019-10-01</td>\n",
       "      <td>4270000</td>\n",
       "      <td>시외</td>\n",
       "      <td>432</td>\n",
       "      <td>정존마을</td>\n",
       "      <td>33.48181</td>\n",
       "      <td>126.47352</td>\n",
       "      <td>2.0</td>\n",
       "      <td>4.0</td>\n",
       "      <td>2.0</td>\n",
       "      <td>2.0</td>\n",
       "      <td>2.0</td>\n",
       "      <td>1.0</td>\n",
       "      <td>0.0</td>\n",
       "      <td>0.0</td>\n",
       "      <td>0.0</td>\n",
       "      <td>0.0</td>\n",
       "      <td>0.0</td>\n",
       "      <td>0.0</td>\n",
       "    </tr>\n",
       "    <tr>\n",
       "      <th>3</th>\n",
       "      <td>415426</td>\n",
       "      <td>2019-10-01</td>\n",
       "      <td>4270000</td>\n",
       "      <td>시내</td>\n",
       "      <td>1579</td>\n",
       "      <td>제주국제공항(600번)</td>\n",
       "      <td>33.50577</td>\n",
       "      <td>126.49252</td>\n",
       "      <td>1.0</td>\n",
       "      <td>11.0</td>\n",
       "      <td>18.0</td>\n",
       "      <td>8.0</td>\n",
       "      <td>26.0</td>\n",
       "      <td>20.0</td>\n",
       "      <td>0.0</td>\n",
       "      <td>0.0</td>\n",
       "      <td>0.0</td>\n",
       "      <td>0.0</td>\n",
       "      <td>0.0</td>\n",
       "      <td>0.0</td>\n",
       "    </tr>\n",
       "    <tr>\n",
       "      <th>4</th>\n",
       "      <td>415427</td>\n",
       "      <td>2019-10-01</td>\n",
       "      <td>4270000</td>\n",
       "      <td>시내</td>\n",
       "      <td>1636</td>\n",
       "      <td>롯데호텔</td>\n",
       "      <td>33.24872</td>\n",
       "      <td>126.41032</td>\n",
       "      <td>0.0</td>\n",
       "      <td>0.0</td>\n",
       "      <td>0.0</td>\n",
       "      <td>0.0</td>\n",
       "      <td>0.0</td>\n",
       "      <td>0.0</td>\n",
       "      <td>0.0</td>\n",
       "      <td>0.0</td>\n",
       "      <td>0.0</td>\n",
       "      <td>1.0</td>\n",
       "      <td>0.0</td>\n",
       "      <td>0.0</td>\n",
       "    </tr>\n",
       "    <tr>\n",
       "      <th>228165</th>\n",
       "      <td>643588</td>\n",
       "      <td>2019-10-16</td>\n",
       "      <td>32820000</td>\n",
       "      <td>시내</td>\n",
       "      <td>786</td>\n",
       "      <td>고산환승정류장(고산1리)</td>\n",
       "      <td>33.30073</td>\n",
       "      <td>126.18044</td>\n",
       "      <td>0.0</td>\n",
       "      <td>0.0</td>\n",
       "      <td>0.0</td>\n",
       "      <td>0.0</td>\n",
       "      <td>0.0</td>\n",
       "      <td>0.0</td>\n",
       "      <td>0.0</td>\n",
       "      <td>3.0</td>\n",
       "      <td>0.0</td>\n",
       "      <td>0.0</td>\n",
       "      <td>0.0</td>\n",
       "      <td>0.0</td>\n",
       "    </tr>\n",
       "    <tr>\n",
       "      <th>228166</th>\n",
       "      <td>643589</td>\n",
       "      <td>2019-10-16</td>\n",
       "      <td>32820000</td>\n",
       "      <td>시내</td>\n",
       "      <td>1080</td>\n",
       "      <td>애월고등학교</td>\n",
       "      <td>33.46262</td>\n",
       "      <td>126.33447</td>\n",
       "      <td>0.0</td>\n",
       "      <td>0.0</td>\n",
       "      <td>0.0</td>\n",
       "      <td>0.0</td>\n",
       "      <td>0.0</td>\n",
       "      <td>0.0</td>\n",
       "      <td>1.0</td>\n",
       "      <td>0.0</td>\n",
       "      <td>0.0</td>\n",
       "      <td>0.0</td>\n",
       "      <td>0.0</td>\n",
       "      <td>0.0</td>\n",
       "    </tr>\n",
       "    <tr>\n",
       "      <th>228167</th>\n",
       "      <td>643590</td>\n",
       "      <td>2019-10-16</td>\n",
       "      <td>32820000</td>\n",
       "      <td>시내</td>\n",
       "      <td>1129</td>\n",
       "      <td>한림환승정류장(한림리)</td>\n",
       "      <td>33.41437</td>\n",
       "      <td>126.26336</td>\n",
       "      <td>3.0</td>\n",
       "      <td>0.0</td>\n",
       "      <td>0.0</td>\n",
       "      <td>0.0</td>\n",
       "      <td>0.0</td>\n",
       "      <td>0.0</td>\n",
       "      <td>0.0</td>\n",
       "      <td>0.0</td>\n",
       "      <td>0.0</td>\n",
       "      <td>0.0</td>\n",
       "      <td>0.0</td>\n",
       "      <td>0.0</td>\n",
       "    </tr>\n",
       "    <tr>\n",
       "      <th>228168</th>\n",
       "      <td>643591</td>\n",
       "      <td>2019-10-16</td>\n",
       "      <td>32820000</td>\n",
       "      <td>시내</td>\n",
       "      <td>1564</td>\n",
       "      <td>제주시외버스터미널</td>\n",
       "      <td>33.49946</td>\n",
       "      <td>126.51479</td>\n",
       "      <td>3.0</td>\n",
       "      <td>0.0</td>\n",
       "      <td>0.0</td>\n",
       "      <td>0.0</td>\n",
       "      <td>0.0</td>\n",
       "      <td>0.0</td>\n",
       "      <td>0.0</td>\n",
       "      <td>0.0</td>\n",
       "      <td>0.0</td>\n",
       "      <td>0.0</td>\n",
       "      <td>0.0</td>\n",
       "      <td>0.0</td>\n",
       "    </tr>\n",
       "    <tr>\n",
       "      <th>228169</th>\n",
       "      <td>643592</td>\n",
       "      <td>2019-10-16</td>\n",
       "      <td>32820000</td>\n",
       "      <td>시내</td>\n",
       "      <td>6115100</td>\n",
       "      <td>서귀포시외버스터미널</td>\n",
       "      <td>33.24873</td>\n",
       "      <td>126.50799</td>\n",
       "      <td>0.0</td>\n",
       "      <td>0.0</td>\n",
       "      <td>0.0</td>\n",
       "      <td>0.0</td>\n",
       "      <td>0.0</td>\n",
       "      <td>0.0</td>\n",
       "      <td>0.0</td>\n",
       "      <td>0.0</td>\n",
       "      <td>3.0</td>\n",
       "      <td>0.0</td>\n",
       "      <td>0.0</td>\n",
       "      <td>0.0</td>\n",
       "    </tr>\n",
       "  </tbody>\n",
       "</table>\n",
       "</div>"
      ],
      "text/plain": [
       "            id        date  bus_route_id in_out  station_code   station_name  \\\n",
       "0       415423  2019-10-01       4270000     시외           344          제주썬호텔   \n",
       "1       415424  2019-10-01       4270000     시외           357           한라병원   \n",
       "2       415425  2019-10-01       4270000     시외           432           정존마을   \n",
       "3       415426  2019-10-01       4270000     시내          1579   제주국제공항(600번)   \n",
       "4       415427  2019-10-01       4270000     시내          1636           롯데호텔   \n",
       "228165  643588  2019-10-16      32820000     시내           786  고산환승정류장(고산1리)   \n",
       "228166  643589  2019-10-16      32820000     시내          1080         애월고등학교   \n",
       "228167  643590  2019-10-16      32820000     시내          1129   한림환승정류장(한림리)   \n",
       "228168  643591  2019-10-16      32820000     시내          1564      제주시외버스터미널   \n",
       "228169  643592  2019-10-16      32820000     시내       6115100     서귀포시외버스터미널   \n",
       "\n",
       "        latitude  longitude  6~7_ride  7~8_ride  8~9_ride  9~10_ride  \\\n",
       "0       33.48990  126.49373       4.0       4.0       7.0        2.0   \n",
       "1       33.48944  126.48508       1.0       6.0       6.0        1.0   \n",
       "2       33.48181  126.47352       2.0       4.0       2.0        2.0   \n",
       "3       33.50577  126.49252       1.0      11.0      18.0        8.0   \n",
       "4       33.24872  126.41032       0.0       0.0       0.0        0.0   \n",
       "228165  33.30073  126.18044       0.0       0.0       0.0        0.0   \n",
       "228166  33.46262  126.33447       0.0       0.0       0.0        0.0   \n",
       "228167  33.41437  126.26336       3.0       0.0       0.0        0.0   \n",
       "228168  33.49946  126.51479       3.0       0.0       0.0        0.0   \n",
       "228169  33.24873  126.50799       0.0       0.0       0.0        0.0   \n",
       "\n",
       "        10~11_ride  11~12_ride  6~7_takeoff  7~8_takeoff  8~9_takeoff  \\\n",
       "0              9.0         1.0          0.0          0.0          0.0   \n",
       "1              8.0        11.0          0.0          0.0          0.0   \n",
       "2              2.0         1.0          0.0          0.0          0.0   \n",
       "3             26.0        20.0          0.0          0.0          0.0   \n",
       "4              0.0         0.0          0.0          0.0          0.0   \n",
       "228165         0.0         0.0          0.0          3.0          0.0   \n",
       "228166         0.0         0.0          1.0          0.0          0.0   \n",
       "228167         0.0         0.0          0.0          0.0          0.0   \n",
       "228168         0.0         0.0          0.0          0.0          0.0   \n",
       "228169         0.0         0.0          0.0          0.0          3.0   \n",
       "\n",
       "        9~10_takeoff  10~11_takeoff  11~12_takeoff  \n",
       "0                0.0            0.0            1.0  \n",
       "1                0.0            0.0            0.0  \n",
       "2                0.0            0.0            0.0  \n",
       "3                0.0            0.0            0.0  \n",
       "4                1.0            0.0            0.0  \n",
       "228165           0.0            0.0            0.0  \n",
       "228166           0.0            0.0            0.0  \n",
       "228167           0.0            0.0            0.0  \n",
       "228168           0.0            0.0            0.0  \n",
       "228169           0.0            0.0            0.0  "
      ]
     },
     "metadata": {},
     "output_type": "display_data"
    },
    {
     "name": "stdout",
     "output_type": "stream",
     "text": [
      "Number of missing values:\n",
      " id               0\n",
      "date             0\n",
      "bus_route_id     0\n",
      "in_out           0\n",
      "station_code     0\n",
      "station_name     0\n",
      "latitude         0\n",
      "longitude        0\n",
      "6~7_ride         0\n",
      "7~8_ride         0\n",
      "8~9_ride         0\n",
      "9~10_ride        0\n",
      "10~11_ride       0\n",
      "11~12_ride       0\n",
      "6~7_takeoff      0\n",
      "7~8_takeoff      0\n",
      "8~9_takeoff      0\n",
      "9~10_takeoff     0\n",
      "10~11_takeoff    0\n",
      "11~12_takeoff    0\n",
      "dtype: int64 \n",
      "\n"
     ]
    }
   ],
   "source": [
    "display_data(test, 5)"
   ]
  },
  {
   "cell_type": "code",
   "execution_count": 8,
   "metadata": {},
   "outputs": [
    {
     "data": {
      "text/plain": [
       "<matplotlib.axes._subplots.AxesSubplot at 0x180c98fb128>"
      ]
     },
     "execution_count": 8,
     "metadata": {},
     "output_type": "execute_result"
    },
    {
     "data": {
      "image/png": "[encoded data removed]",
      "text/plain": [
       "<Figure size 864x288 with 2 Axes>"
      ]
     },
     "metadata": {
      "needs_background": "light"
     },
     "output_type": "display_data"
    }
   ],
   "source": [
    "figure, (ax1, ax2) = plt.subplots(ncols=2)\n",
    "figure.set_size_inches(12,4)\n",
    "\n",
    "sns.scatterplot( x = 'longitude', y = 'latitude', data = train, alpha = 0.1, ax=ax1)\n",
    "sns.scatterplot( x = 'longitude', y = 'latitude', data = test, alpha = 0.1, ax=ax2)"
   ]
  },
  {
   "cell_type": "markdown",
   "metadata": {},
   "source": [
    "왼쪽 위의 값이 이상치처럼 보이지만, test data에도 이러한 값이 존재하므로 제거하지 않기로 한다 "
   ]
  },
  {
   "cell_type": "markdown",
   "metadata": {},
   "source": [
    "#### 2. bus_bts.csv"
   ]
  },
  {
   "cell_type": "markdown",
   "metadata": {},
   "source": [
    "2019-09-01 ~ 2019-10-16\n",
    "\n",
    "\n",
    "* user_card_id: 승객의 버스카드ID\n",
    "* bus_route_id: 노선ID\n",
    "* vhc_id: 차량ID\n",
    "* geton_date: 승객이 탑승한 날짜\n",
    "* geton_time: 승객이 탑승한 시간\n",
    "* geton_station_code: 승차정류소의 ID\n",
    "* geton_station_name: 승차정류소의 이름\n",
    "* getoff_date: 해당 승객이 하차한 날짜 (하차태그 없는 경우, NaN)\n",
    "* getoff_time: 해당 승객이 하차한 시간 (하차태그 없는 경우, NaN)\n",
    "* getoff_station_code: 하차정류소의 ID (하차태그 없는 경우, NaN)\n",
    "* getoff_station_name: 하차정류소의 이름 (하차태그 없는 경우, NaN)\n",
    "* user_category: 승객 구분   \n",
    "(01-일반, 02-어린이, 04-청소년, 06-경로, 27-장애 일반, 28-장애 동반, 29-유공 일반, 30-유공 동반)\n",
    "* user_count: 해당 버스카드로 계산한 인원수  \n",
    "( ex- 3은 3명 분의 버스비를 해당 카드 하나로 계산한 것)"
   ]
  },
  {
   "cell_type": "code",
   "execution_count": 9,
   "metadata": {
    "scrolled": false
   },
   "outputs": [
    {
     "name": "stdout",
     "output_type": "stream",
     "text": [
      "dataset shape is: (2409414, 13)\n"
     ]
    },
    {
     "data": {
      "text/html": [
       "<div>\n",
       "<style scoped>\n",
       "    .dataframe tbody tr th:only-of-type {\n",
       "        vertical-align: middle;\n",
       "    }\n",
       "\n",
       "    .dataframe tbody tr th {\n",
       "        vertical-align: top;\n",
       "    }\n",
       "\n",
       "    .dataframe thead th {\n",
       "        text-align: right;\n",
       "    }\n",
       "</style>\n",
       "<table border=\"1\" class=\"dataframe\">\n",
       "  <thead>\n",
       "    <tr style=\"text-align: right;\">\n",
       "      <th></th>\n",
       "      <th>user_card_id</th>\n",
       "      <th>bus_route_id</th>\n",
       "      <th>vhc_id</th>\n",
       "      <th>geton_date</th>\n",
       "      <th>geton_time</th>\n",
       "      <th>geton_station_code</th>\n",
       "      <th>geton_station_name</th>\n",
       "      <th>getoff_date</th>\n",
       "      <th>getoff_time</th>\n",
       "      <th>getoff_station_code</th>\n",
       "      <th>getoff_station_name</th>\n",
       "      <th>user_category</th>\n",
       "      <th>user_count</th>\n",
       "    </tr>\n",
       "  </thead>\n",
       "  <tbody>\n",
       "    <tr>\n",
       "      <th>0</th>\n",
       "      <td>1.010010e+15</td>\n",
       "      <td>23000000</td>\n",
       "      <td>149793674</td>\n",
       "      <td>2019-09-10</td>\n",
       "      <td>06:34:45</td>\n",
       "      <td>360</td>\n",
       "      <td>노형오거리</td>\n",
       "      <td>2019-09-10</td>\n",
       "      <td>07:10:31</td>\n",
       "      <td>592.0</td>\n",
       "      <td>화북초등학교</td>\n",
       "      <td>1</td>\n",
       "      <td>1</td>\n",
       "    </tr>\n",
       "    <tr>\n",
       "      <th>1</th>\n",
       "      <td>1.010010e+15</td>\n",
       "      <td>23000000</td>\n",
       "      <td>149793674</td>\n",
       "      <td>2019-09-10</td>\n",
       "      <td>06:34:58</td>\n",
       "      <td>360</td>\n",
       "      <td>노형오거리</td>\n",
       "      <td>2019-09-10</td>\n",
       "      <td>06:56:27</td>\n",
       "      <td>3273.0</td>\n",
       "      <td>고산동산(광양방면)</td>\n",
       "      <td>1</td>\n",
       "      <td>1</td>\n",
       "    </tr>\n",
       "    <tr>\n",
       "      <th>2</th>\n",
       "      <td>1.019160e+15</td>\n",
       "      <td>21420000</td>\n",
       "      <td>149793535</td>\n",
       "      <td>2019-09-10</td>\n",
       "      <td>07:19:07</td>\n",
       "      <td>2495</td>\n",
       "      <td>동광환승정류장4(제주방면)</td>\n",
       "      <td>2019-09-10</td>\n",
       "      <td>07:40:29</td>\n",
       "      <td>431.0</td>\n",
       "      <td>정존마을</td>\n",
       "      <td>4</td>\n",
       "      <td>1</td>\n",
       "    </tr>\n",
       "    <tr>\n",
       "      <th>3</th>\n",
       "      <td>1.019150e+15</td>\n",
       "      <td>21420000</td>\n",
       "      <td>149793512</td>\n",
       "      <td>2019-09-09</td>\n",
       "      <td>09:14:47</td>\n",
       "      <td>3282</td>\n",
       "      <td>대정환승정류장(대정읍사무소)</td>\n",
       "      <td>2019-09-09</td>\n",
       "      <td>10:02:46</td>\n",
       "      <td>431.0</td>\n",
       "      <td>정존마을</td>\n",
       "      <td>1</td>\n",
       "      <td>1</td>\n",
       "    </tr>\n",
       "    <tr>\n",
       "      <th>4</th>\n",
       "      <td>1.010010e+15</td>\n",
       "      <td>21420000</td>\n",
       "      <td>149793512</td>\n",
       "      <td>2019-09-09</td>\n",
       "      <td>09:28:53</td>\n",
       "      <td>2820</td>\n",
       "      <td>삼정지에듀</td>\n",
       "      <td>2019-09-09</td>\n",
       "      <td>10:21:37</td>\n",
       "      <td>2972.0</td>\n",
       "      <td>제주국제공항(종점)</td>\n",
       "      <td>4</td>\n",
       "      <td>1</td>\n",
       "    </tr>\n",
       "    <tr>\n",
       "      <th>2409409</th>\n",
       "      <td>6.573162e+15</td>\n",
       "      <td>30420000</td>\n",
       "      <td>149797565</td>\n",
       "      <td>2019-10-16</td>\n",
       "      <td>07:08:31</td>\n",
       "      <td>1937</td>\n",
       "      <td>L마트</td>\n",
       "      <td>NaN</td>\n",
       "      <td>NaN</td>\n",
       "      <td>NaN</td>\n",
       "      <td>NaN</td>\n",
       "      <td>1</td>\n",
       "      <td>1</td>\n",
       "    </tr>\n",
       "    <tr>\n",
       "      <th>2409410</th>\n",
       "      <td>9.441160e+15</td>\n",
       "      <td>30420000</td>\n",
       "      <td>149797565</td>\n",
       "      <td>2019-10-16</td>\n",
       "      <td>07:16:31</td>\n",
       "      <td>1908</td>\n",
       "      <td>한라산교회</td>\n",
       "      <td>NaN</td>\n",
       "      <td>NaN</td>\n",
       "      <td>NaN</td>\n",
       "      <td>NaN</td>\n",
       "      <td>1</td>\n",
       "      <td>1</td>\n",
       "    </tr>\n",
       "    <tr>\n",
       "      <th>2409411</th>\n",
       "      <td>9.446038e+15</td>\n",
       "      <td>25070000</td>\n",
       "      <td>149797565</td>\n",
       "      <td>2019-10-16</td>\n",
       "      <td>08:29:05</td>\n",
       "      <td>1882</td>\n",
       "      <td>고도농원</td>\n",
       "      <td>NaN</td>\n",
       "      <td>NaN</td>\n",
       "      <td>NaN</td>\n",
       "      <td>NaN</td>\n",
       "      <td>1</td>\n",
       "      <td>1</td>\n",
       "    </tr>\n",
       "    <tr>\n",
       "      <th>2409412</th>\n",
       "      <td>4.309690e+15</td>\n",
       "      <td>25070000</td>\n",
       "      <td>149797565</td>\n",
       "      <td>2019-10-16</td>\n",
       "      <td>08:40:32</td>\n",
       "      <td>1938</td>\n",
       "      <td>주공아파트5단지</td>\n",
       "      <td>NaN</td>\n",
       "      <td>NaN</td>\n",
       "      <td>NaN</td>\n",
       "      <td>NaN</td>\n",
       "      <td>1</td>\n",
       "      <td>1</td>\n",
       "    </tr>\n",
       "    <tr>\n",
       "      <th>2409413</th>\n",
       "      <td>5.272898e+15</td>\n",
       "      <td>25070000</td>\n",
       "      <td>149797565</td>\n",
       "      <td>2019-10-16</td>\n",
       "      <td>08:40:35</td>\n",
       "      <td>1938</td>\n",
       "      <td>주공아파트5단지</td>\n",
       "      <td>NaN</td>\n",
       "      <td>NaN</td>\n",
       "      <td>NaN</td>\n",
       "      <td>NaN</td>\n",
       "      <td>1</td>\n",
       "      <td>1</td>\n",
       "    </tr>\n",
       "  </tbody>\n",
       "</table>\n",
       "</div>"
      ],
      "text/plain": [
       "         user_card_id  bus_route_id     vhc_id  geton_date geton_time  \\\n",
       "0        1.010010e+15      23000000  149793674  2019-09-10   06:34:45   \n",
       "1        1.010010e+15      23000000  149793674  2019-09-10   06:34:58   \n",
       "2        1.019160e+15      21420000  149793535  2019-09-10   07:19:07   \n",
       "3        1.019150e+15      21420000  149793512  2019-09-09   09:14:47   \n",
       "4        1.010010e+15      21420000  149793512  2019-09-09   09:28:53   \n",
       "2409409  6.573162e+15      30420000  149797565  2019-10-16   07:08:31   \n",
       "2409410  9.441160e+15      30420000  149797565  2019-10-16   07:16:31   \n",
       "2409411  9.446038e+15      25070000  149797565  2019-10-16   08:29:05   \n",
       "2409412  4.309690e+15      25070000  149797565  2019-10-16   08:40:32   \n",
       "2409413  5.272898e+15      25070000  149797565  2019-10-16   08:40:35   \n",
       "\n",
       "         geton_station_code geton_station_name getoff_date getoff_time  \\\n",
       "0                       360              노형오거리  2019-09-10    07:10:31   \n",
       "1                       360              노형오거리  2019-09-10    06:56:27   \n",
       "2                      2495     동광환승정류장4(제주방면)  2019-09-10    07:40:29   \n",
       "3                      3282    대정환승정류장(대정읍사무소)  2019-09-09    10:02:46   \n",
       "4                      2820              삼정지에듀  2019-09-09    10:21:37   \n",
       "2409409                1937                L마트         NaN         NaN   \n",
       "2409410                1908              한라산교회         NaN         NaN   \n",
       "2409411                1882               고도농원         NaN         NaN   \n",
       "2409412                1938           주공아파트5단지         NaN         NaN   \n",
       "2409413                1938           주공아파트5단지         NaN         NaN   \n",
       "\n",
       "         getoff_station_code getoff_station_name  user_category  user_count  \n",
       "0                      592.0              화북초등학교              1           1  \n",
       "1                     3273.0          고산동산(광양방면)              1           1  \n",
       "2                      431.0                정존마을              4           1  \n",
       "3                      431.0                정존마을              1           1  \n",
       "4                     2972.0          제주국제공항(종점)              4           1  \n",
       "2409409                  NaN                 NaN              1           1  \n",
       "2409410                  NaN                 NaN              1           1  \n",
       "2409411                  NaN                 NaN              1           1  \n",
       "2409412                  NaN                 NaN              1           1  \n",
       "2409413                  NaN                 NaN              1           1  "
      ]
     },
     "metadata": {},
     "output_type": "display_data"
    },
    {
     "name": "stdout",
     "output_type": "stream",
     "text": [
      "Number of missing values:\n",
      " user_card_id                0\n",
      "bus_route_id                0\n",
      "vhc_id                      0\n",
      "geton_date                  0\n",
      "geton_time                  0\n",
      "geton_station_code          0\n",
      "geton_station_name         49\n",
      "getoff_date            895736\n",
      "getoff_time            895736\n",
      "getoff_station_code    895736\n",
      "getoff_station_name    895775\n",
      "user_category               0\n",
      "user_count                  0\n",
      "dtype: int64 \n",
      "\n"
     ]
    }
   ],
   "source": [
    "display_data(bus, 5)"
   ]
  },
  {
   "cell_type": "markdown",
   "metadata": {},
   "source": [
    "bus 데이터는 train, test 날짜의 데이터를 모두 가지고 있으므로, 날짜에 맞춰서 split 해 주어야 한다 "
   ]
  },
  {
   "cell_type": "code",
   "execution_count": 10,
   "metadata": {},
   "outputs": [],
   "source": [
    "bus = bus.sort_values('geton_date').reset_index().drop(['index'], axis = 1)"
   ]
  },
  {
   "cell_type": "code",
   "execution_count": 11,
   "metadata": {},
   "outputs": [
    {
     "name": "stdout",
     "output_type": "stream",
     "text": [
      "dataset shape is: (62682, 13)\n"
     ]
    },
    {
     "data": {
      "text/html": [
       "<div>\n",
       "<style scoped>\n",
       "    .dataframe tbody tr th:only-of-type {\n",
       "        vertical-align: middle;\n",
       "    }\n",
       "\n",
       "    .dataframe tbody tr th {\n",
       "        vertical-align: top;\n",
       "    }\n",
       "\n",
       "    .dataframe thead th {\n",
       "        text-align: right;\n",
       "    }\n",
       "</style>\n",
       "<table border=\"1\" class=\"dataframe\">\n",
       "  <thead>\n",
       "    <tr style=\"text-align: right;\">\n",
       "      <th></th>\n",
       "      <th>user_card_id</th>\n",
       "      <th>bus_route_id</th>\n",
       "      <th>vhc_id</th>\n",
       "      <th>geton_date</th>\n",
       "      <th>geton_time</th>\n",
       "      <th>geton_station_code</th>\n",
       "      <th>geton_station_name</th>\n",
       "      <th>getoff_date</th>\n",
       "      <th>getoff_time</th>\n",
       "      <th>getoff_station_code</th>\n",
       "      <th>getoff_station_name</th>\n",
       "      <th>user_category</th>\n",
       "      <th>user_count</th>\n",
       "    </tr>\n",
       "  </thead>\n",
       "  <tbody>\n",
       "    <tr>\n",
       "      <th>1548759</th>\n",
       "      <td>4.020178e+15</td>\n",
       "      <td>28510000</td>\n",
       "      <td>149793051</td>\n",
       "      <td>2019-10-01</td>\n",
       "      <td>10:11:16</td>\n",
       "      <td>2597</td>\n",
       "      <td>온평초등학교</td>\n",
       "      <td>2019-10-01</td>\n",
       "      <td>10:50:28</td>\n",
       "      <td>1013.0</td>\n",
       "      <td>세화환승정류장(세화리)</td>\n",
       "      <td>1</td>\n",
       "      <td>1</td>\n",
       "    </tr>\n",
       "    <tr>\n",
       "      <th>1611440</th>\n",
       "      <td>1.019150e+15</td>\n",
       "      <td>23250000</td>\n",
       "      <td>149797049</td>\n",
       "      <td>2019-10-01</td>\n",
       "      <td>10:05:46</td>\n",
       "      <td>187</td>\n",
       "      <td>은남동</td>\n",
       "      <td>NaN</td>\n",
       "      <td>NaN</td>\n",
       "      <td>NaN</td>\n",
       "      <td>NaN</td>\n",
       "      <td>1</td>\n",
       "      <td>1</td>\n",
       "    </tr>\n",
       "  </tbody>\n",
       "</table>\n",
       "</div>"
      ],
      "text/plain": [
       "         user_card_id  bus_route_id     vhc_id  geton_date geton_time  \\\n",
       "1548759  4.020178e+15      28510000  149793051  2019-10-01   10:11:16   \n",
       "1611440  1.019150e+15      23250000  149797049  2019-10-01   10:05:46   \n",
       "\n",
       "         geton_station_code geton_station_name getoff_date getoff_time  \\\n",
       "1548759                2597             온평초등학교  2019-10-01    10:50:28   \n",
       "1611440                 187                은남동         NaN         NaN   \n",
       "\n",
       "         getoff_station_code getoff_station_name  user_category  user_count  \n",
       "1548759               1013.0        세화환승정류장(세화리)              1           1  \n",
       "1611440                  NaN                 NaN              1           1  "
      ]
     },
     "metadata": {},
     "output_type": "display_data"
    },
    {
     "name": "stdout",
     "output_type": "stream",
     "text": [
      "Number of missing values:\n",
      " user_card_id               0\n",
      "bus_route_id               0\n",
      "vhc_id                     0\n",
      "geton_date                 0\n",
      "geton_time                 0\n",
      "geton_station_code         0\n",
      "geton_station_name         1\n",
      "getoff_date            24861\n",
      "getoff_time            24861\n",
      "getoff_station_code    24861\n",
      "getoff_station_name    24861\n",
      "user_category              0\n",
      "user_count                 0\n",
      "dtype: int64 \n",
      "\n"
     ]
    }
   ],
   "source": [
    "display_data(bus.loc[bus[\"geton_date\"] == \"2019-10-01\"], 1)"
   ]
  },
  {
   "cell_type": "code",
   "execution_count": 12,
   "metadata": {},
   "outputs": [],
   "source": [
    "bus_train = bus.loc[:1548758]\n",
    "bus_test = bus.loc[1548759:]"
   ]
  },
  {
   "cell_type": "code",
   "execution_count": 13,
   "metadata": {
    "scrolled": true
   },
   "outputs": [
    {
     "data": {
      "text/plain": [
       "((1548759, 13), (860655, 13))"
      ]
     },
     "execution_count": 13,
     "metadata": {},
     "output_type": "execute_result"
    }
   ],
   "source": [
    "bus_train.shape, bus_test.shape"
   ]
  },
  {
   "cell_type": "markdown",
   "metadata": {},
   "source": [
    "#### 3. target distribution "
   ]
  },
  {
   "cell_type": "code",
   "execution_count": 14,
   "metadata": {
    "scrolled": false
   },
   "outputs": [
    {
     "data": {
      "text/plain": [
       "count    415423.000000\n",
       "mean          1.242095\n",
       "std           4.722287\n",
       "min           0.000000\n",
       "25%           0.000000\n",
       "50%           0.000000\n",
       "75%           1.000000\n",
       "max         272.000000\n",
       "Name: 18~20_ride, dtype: float64"
      ]
     },
     "execution_count": 14,
     "metadata": {},
     "output_type": "execute_result"
    }
   ],
   "source": [
    "train['18~20_ride'].describe()"
   ]
  },
  {
   "cell_type": "code",
   "execution_count": 15,
   "metadata": {},
   "outputs": [
    {
     "data": {
      "text/plain": [
       "<matplotlib.axes._subplots.AxesSubplot at 0x180c9a3ccc0>"
      ]
     },
     "execution_count": 15,
     "metadata": {},
     "output_type": "execute_result"
    },
    {
     "data": {
      "image/png": "[encoded data removed]",
      "text/plain": [
       "<Figure size 864x288 with 2 Axes>"
      ]
     },
     "metadata": {
      "needs_background": "light"
     },
     "output_type": "display_data"
    }
   ],
   "source": [
    "figure, (ax1, ax2) = plt.subplots(ncols=2)\n",
    "figure.set_size_inches(12,4)\n",
    "\n",
    "sns.boxplot(train[[\"18~20_ride\"]], ax=ax1)\n",
    "sns.distplot(train[[\"18~20_ride\"]],ax=ax2)"
   ]
  },
  {
   "cell_type": "markdown",
   "metadata": {},
   "source": [
    "* 예측해야 할 target 변수의 값이 0에 몰려있음을 알 수 있다 \n",
    "* 승차인원 예측 데이터의 경우 선형회귀를 진행하기보다는 부스팅 모델을 사용하는 것이 더 나아 보이므로,   \n",
    "로그변환은 하지 않기로 결정한다 "
   ]
  },
  {
   "cell_type": "markdown",
   "metadata": {},
   "source": [
    "# 2. Data Preprocessing "
   ]
  },
  {
   "cell_type": "markdown",
   "metadata": {},
   "source": [
    "### 1. 날짜"
   ]
  },
  {
   "cell_type": "markdown",
   "metadata": {},
   "source": [
    "#### 1) datetime 형태로 바꿔주기 "
   ]
  },
  {
   "cell_type": "code",
   "execution_count": 16,
   "metadata": {},
   "outputs": [],
   "source": [
    "train['date'] = pd.to_datetime(train['date'])\n",
    "test['date'] = pd.to_datetime(test['date'])"
   ]
  },
  {
   "cell_type": "code",
   "execution_count": 17,
   "metadata": {},
   "outputs": [],
   "source": [
    "bus_train['geton_date'] = pd.to_datetime(bus_train['geton_date'])\n",
    "bus_test['geton_date'] = pd.to_datetime(bus_test['geton_date'])\n",
    "bus_train['getoff_date'] = pd.to_datetime(bus_train['getoff_date'])\n",
    "bus_test['geton_date'] = pd.to_datetime(bus_test['geton_date'])"
   ]
  },
  {
   "cell_type": "markdown",
   "metadata": {},
   "source": [
    "#### 2) 날짜 변수 생성: day"
   ]
  },
  {
   "cell_type": "code",
   "execution_count": 18,
   "metadata": {},
   "outputs": [],
   "source": [
    "train['day'] = pd.to_datetime(train['date']).dt.day\n",
    "test['day'] = pd.to_datetime(test['date']).dt.day"
   ]
  },
  {
   "cell_type": "markdown",
   "metadata": {},
   "source": [
    "#### 3) 주말 변수 생성: 월~금 1, 토~일 0"
   ]
  },
  {
   "cell_type": "code",
   "execution_count": 19,
   "metadata": {},
   "outputs": [],
   "source": [
    "# datetime weekday: 월요일 0 ~ 일요일 6\n",
    "\n",
    "train['weekday'] = train['date'].dt.weekday\n",
    "test['weekday'] = test['date'].dt.weekday"
   ]
  },
  {
   "cell_type": "code",
   "execution_count": 20,
   "metadata": {},
   "outputs": [],
   "source": [
    "# 주말 변수 생성: 월~금 1, 토~일 0\n",
    "\n",
    "train['weekend'] = train['weekday'].map(lambda x : 1 if x<=5 else 0)\n",
    "test['weekend'] = test['weekday'].map(lambda x : 1 if x<=5 else 0)"
   ]
  },
  {
   "cell_type": "code",
   "execution_count": 25,
   "metadata": {
    "scrolled": false
   },
   "outputs": [
    {
     "data": {
      "text/plain": [
       "<matplotlib.axes._subplots.AxesSubplot at 0x180c999e4e0>"
      ]
     },
     "execution_count": 25,
     "metadata": {},
     "output_type": "execute_result"
    },
    {
     "data": {
      "image/png": "[encoded data removed]",
      "text/plain": [
       "<Figure size 864x360 with 2 Axes>"
      ]
     },
     "metadata": {
      "needs_background": "light"
     },
     "output_type": "display_data"
    }
   ],
   "source": [
    "figure, axes = plt.subplots(ncols=2)\n",
    "figure.set_size_inches(12,5)\n",
    "\n",
    "sns.countplot(train['weekend'], ax=axes[0])\n",
    "sns.boxplot(x= train['weekend'], y=train[\"18~20_ride\"], ax=axes[1])"
   ]
  },
  {
   "cell_type": "markdown",
   "metadata": {},
   "source": [
    "#### 4) 공휴일 변수 생성 (적용되지 않음 ㅠㅠ)"
   ]
  },
  {
   "cell_type": "code",
   "execution_count": 21,
   "metadata": {},
   "outputs": [],
   "source": [
    "def holiday(x): # 왜 안될까 \n",
    "    if x in ['2019-09-12','2019-09-13','2019-10-03','2019-10-09']:\n",
    "        return 1\n",
    "    else:\n",
    "        return 0"
   ]
  },
  {
   "cell_type": "code",
   "execution_count": 22,
   "metadata": {},
   "outputs": [],
   "source": [
    "train['holiday'] = train['date'].apply(holiday) \n",
    "test['holiday'] = test['date'].apply(holiday) "
   ]
  },
  {
   "cell_type": "code",
   "execution_count": 24,
   "metadata": {
    "scrolled": true
   },
   "outputs": [
    {
     "data": {
      "text/plain": [
       "0    415423\n",
       "Name: holiday, dtype: int64"
      ]
     },
     "execution_count": 24,
     "metadata": {},
     "output_type": "execute_result"
    }
   ],
   "source": [
    "train['holiday'].value_counts()"
   ]
  },
  {
   "cell_type": "code",
   "execution_count": null,
   "metadata": {},
   "outputs": [],
   "source": [
    "def holiday9(x): # 2019-09-12, 2019-09-13\n",
    "    if x in [12, 13]:\n",
    "        return 1\n",
    "    else:\n",
    "        return 0"
   ]
  },
  {
   "cell_type": "code",
   "execution_count": null,
   "metadata": {},
   "outputs": [],
   "source": [
    "def holiday10(x): # 2019-10-03, 2019-10-09\n",
    "    if x in [3, 9]:\n",
    "        return 1\n",
    "    else:\n",
    "        return 0"
   ]
  },
  {
   "cell_type": "code",
   "execution_count": null,
   "metadata": {},
   "outputs": [],
   "source": [
    "train['holiday'] = train['day'].apply(holiday9) \n",
    "test['holiday'] = test['day'].apply(holiday10) "
   ]
  },
  {
   "cell_type": "markdown",
   "metadata": {},
   "source": [
    "### 2. 버스 타입\n",
    "#### 시내 / 시외버스: dummy 변수화"
   ]
  },
  {
   "cell_type": "code",
   "execution_count": 26,
   "metadata": {},
   "outputs": [],
   "source": [
    "train['in_out'] = train['in_out'].map({'시내':0,'시외':1})\n",
    "test['in_out'] = test['in_out'].map({'시내':0,'시외':1})"
   ]
  },
  {
   "cell_type": "code",
   "execution_count": 27,
   "metadata": {},
   "outputs": [
    {
     "data": {
      "text/plain": [
       "<matplotlib.axes._subplots.AxesSubplot at 0x1808014abe0>"
      ]
     },
     "execution_count": 27,
     "metadata": {},
     "output_type": "execute_result"
    },
    {
     "data": {
      "image/png": "[encoded data removed]",
      "text/plain": [
       "<Figure size 864x360 with 2 Axes>"
      ]
     },
     "metadata": {
      "needs_background": "light"
     },
     "output_type": "display_data"
    }
   ],
   "source": [
    "figure, axes = plt.subplots(ncols=2)\n",
    "figure.set_size_inches(12,5)\n",
    "\n",
    "sns.countplot(train['in_out'], ax=axes[0])\n",
    "sns.boxplot(x= train['in_out'], y=train[\"18~20_ride\"], ax=axes[1])"
   ]
  },
  {
   "cell_type": "markdown",
   "metadata": {},
   "source": [
    "### 3. bus_route_id\n",
    "train/test data와 bus_bts data에서 겹치는 feature는 **bus_route_id (노선ID)** 이다.   \n",
    "이를 기준으로 새로운 변수를 생성하고, train/test data와 bus data를 합친다."
   ]
  },
  {
   "cell_type": "markdown",
   "metadata": {},
   "source": [
    "#### 1) train/test 데이터와 bus_bts 데이터의 노선아이디의 unique 갯수가 같은 지 확인한다 "
   ]
  },
  {
   "cell_type": "code",
   "execution_count": 28,
   "metadata": {},
   "outputs": [
    {
     "data": {
      "text/plain": [
       "631"
      ]
     },
     "execution_count": 28,
     "metadata": {},
     "output_type": "execute_result"
    }
   ],
   "source": [
    "df = pd.concat([train, test], sort=False)\n",
    "len(df['bus_route_id'].unique())"
   ]
  },
  {
   "cell_type": "code",
   "execution_count": 29,
   "metadata": {},
   "outputs": [
    {
     "data": {
      "text/plain": [
       "630"
      ]
     },
     "execution_count": 29,
     "metadata": {},
     "output_type": "execute_result"
    }
   ],
   "source": [
    "len(bus['bus_route_id'].unique())"
   ]
  },
  {
   "cell_type": "markdown",
   "metadata": {},
   "source": [
    "1개가 다른걸 알 수 있으며, bus_bts가 가지고 있지 않은 노선번호를 확인한다 "
   ]
  },
  {
   "cell_type": "code",
   "execution_count": 30,
   "metadata": {},
   "outputs": [
    {
     "name": "stdout",
     "output_type": "stream",
     "text": [
      "1 [30950000]\n"
     ]
    }
   ],
   "source": [
    "no_train_route = []\n",
    "\n",
    "for i in train['bus_route_id'].unique():\n",
    "      if i not in bus_train['bus_route_id'].unique():\n",
    "            no_train_route.append(i)\n",
    "\n",
    "print(len(no_train_route), no_train_route)"
   ]
  },
  {
   "cell_type": "code",
   "execution_count": 31,
   "metadata": {},
   "outputs": [
    {
     "name": "stdout",
     "output_type": "stream",
     "text": [
      "1 [31120000]\n"
     ]
    }
   ],
   "source": [
    "no_test_route = []\n",
    "\n",
    "for i in test['bus_route_id'].unique():\n",
    "      if i not in bus_test['bus_route_id'].unique():\n",
    "            no_test_route.append(i)\n",
    "\n",
    "print(len(no_test_route), no_test_route)"
   ]
  },
  {
   "cell_type": "code",
   "execution_count": 33,
   "metadata": {
    "scrolled": true
   },
   "outputs": [
    {
     "data": {
      "text/html": [
       "<div>\n",
       "<style scoped>\n",
       "    .dataframe tbody tr th:only-of-type {\n",
       "        vertical-align: middle;\n",
       "    }\n",
       "\n",
       "    .dataframe tbody tr th {\n",
       "        vertical-align: top;\n",
       "    }\n",
       "\n",
       "    .dataframe thead th {\n",
       "        text-align: right;\n",
       "    }\n",
       "</style>\n",
       "<table border=\"1\" class=\"dataframe\">\n",
       "  <thead>\n",
       "    <tr style=\"text-align: right;\">\n",
       "      <th></th>\n",
       "      <th>id</th>\n",
       "      <th>date</th>\n",
       "      <th>bus_route_id</th>\n",
       "      <th>in_out</th>\n",
       "      <th>station_code</th>\n",
       "      <th>station_name</th>\n",
       "      <th>latitude</th>\n",
       "      <th>longitude</th>\n",
       "      <th>6~7_ride</th>\n",
       "      <th>7~8_ride</th>\n",
       "      <th>...</th>\n",
       "      <th>6~7_takeoff</th>\n",
       "      <th>7~8_takeoff</th>\n",
       "      <th>8~9_takeoff</th>\n",
       "      <th>9~10_takeoff</th>\n",
       "      <th>10~11_takeoff</th>\n",
       "      <th>11~12_takeoff</th>\n",
       "      <th>day</th>\n",
       "      <th>weekday</th>\n",
       "      <th>weekend</th>\n",
       "      <th>holiday</th>\n",
       "    </tr>\n",
       "  </thead>\n",
       "  <tbody>\n",
       "    <tr>\n",
       "      <th>93685</th>\n",
       "      <td>509108</td>\n",
       "      <td>2019-10-07</td>\n",
       "      <td>31120000</td>\n",
       "      <td>0</td>\n",
       "      <td>1464</td>\n",
       "      <td>연동365의원</td>\n",
       "      <td>33.48196</td>\n",
       "      <td>126.49231</td>\n",
       "      <td>0.0</td>\n",
       "      <td>0.0</td>\n",
       "      <td>...</td>\n",
       "      <td>1.0</td>\n",
       "      <td>0.0</td>\n",
       "      <td>0.0</td>\n",
       "      <td>0.0</td>\n",
       "      <td>0.0</td>\n",
       "      <td>0.0</td>\n",
       "      <td>7</td>\n",
       "      <td>0</td>\n",
       "      <td>1</td>\n",
       "      <td>0</td>\n",
       "    </tr>\n",
       "  </tbody>\n",
       "</table>\n",
       "<p>1 rows × 24 columns</p>\n",
       "</div>"
      ],
      "text/plain": [
       "           id       date  bus_route_id  in_out  station_code station_name  \\\n",
       "93685  509108 2019-10-07      31120000       0          1464      연동365의원   \n",
       "\n",
       "       latitude  longitude  6~7_ride  7~8_ride  ...  6~7_takeoff  7~8_takeoff  \\\n",
       "93685  33.48196  126.49231       0.0       0.0  ...          1.0          0.0   \n",
       "\n",
       "       8~9_takeoff  9~10_takeoff  10~11_takeoff  11~12_takeoff  day  weekday  \\\n",
       "93685          0.0           0.0            0.0            0.0    7        0   \n",
       "\n",
       "       weekend  holiday  \n",
       "93685        1        0  \n",
       "\n",
       "[1 rows x 24 columns]"
      ]
     },
     "execution_count": 33,
     "metadata": {},
     "output_type": "execute_result"
    }
   ],
   "source": [
    "display(test.loc[test['bus_route_id']==31120000])"
   ]
  },
  {
   "cell_type": "markdown",
   "metadata": {},
   "source": [
    "#### 2) user_category 기준으로 새로운 feature 생성하기 \n",
    "각각 bus_route_id 에서, 어떤 타입의 탑승객이 몇 명씩 버스를 타고 내렸는지에 대한 변수를 생성한다 "
   ]
  },
  {
   "cell_type": "code",
   "execution_count": 34,
   "metadata": {},
   "outputs": [
    {
     "data": {
      "text/html": [
       "<div>\n",
       "<style scoped>\n",
       "    .dataframe tbody tr th:only-of-type {\n",
       "        vertical-align: middle;\n",
       "    }\n",
       "\n",
       "    .dataframe tbody tr th {\n",
       "        vertical-align: top;\n",
       "    }\n",
       "\n",
       "    .dataframe thead th {\n",
       "        text-align: right;\n",
       "    }\n",
       "</style>\n",
       "<table border=\"1\" class=\"dataframe\">\n",
       "  <thead>\n",
       "    <tr style=\"text-align: right;\">\n",
       "      <th></th>\n",
       "      <th>bus_route_id</th>\n",
       "      <th>geton_date</th>\n",
       "      <th>geton_station_code</th>\n",
       "      <th>user_category</th>\n",
       "    </tr>\n",
       "  </thead>\n",
       "  <tbody>\n",
       "    <tr>\n",
       "      <th>0</th>\n",
       "      <td>22530000</td>\n",
       "      <td>2019-09-01</td>\n",
       "      <td>136</td>\n",
       "      <td>1</td>\n",
       "    </tr>\n",
       "    <tr>\n",
       "      <th>1</th>\n",
       "      <td>24200000</td>\n",
       "      <td>2019-09-01</td>\n",
       "      <td>2980</td>\n",
       "      <td>1</td>\n",
       "    </tr>\n",
       "    <tr>\n",
       "      <th>2</th>\n",
       "      <td>22520000</td>\n",
       "      <td>2019-09-01</td>\n",
       "      <td>148</td>\n",
       "      <td>1</td>\n",
       "    </tr>\n",
       "    <tr>\n",
       "      <th>3</th>\n",
       "      <td>22520000</td>\n",
       "      <td>2019-09-01</td>\n",
       "      <td>3270</td>\n",
       "      <td>6</td>\n",
       "    </tr>\n",
       "    <tr>\n",
       "      <th>4</th>\n",
       "      <td>22520000</td>\n",
       "      <td>2019-09-01</td>\n",
       "      <td>3274</td>\n",
       "      <td>27</td>\n",
       "    </tr>\n",
       "  </tbody>\n",
       "</table>\n",
       "</div>"
      ],
      "text/plain": [
       "   bus_route_id geton_date  geton_station_code  user_category\n",
       "0      22530000 2019-09-01                 136              1\n",
       "1      24200000 2019-09-01                2980              1\n",
       "2      22520000 2019-09-01                 148              1\n",
       "3      22520000 2019-09-01                3270              6\n",
       "4      22520000 2019-09-01                3274             27"
      ]
     },
     "execution_count": 34,
     "metadata": {},
     "output_type": "execute_result"
    }
   ],
   "source": [
    "bus_cate_train = bus_train[['bus_route_id', 'geton_date', 'geton_station_code', 'user_category']]\n",
    "bus_cate_train.head()"
   ]
  },
  {
   "cell_type": "code",
   "execution_count": 35,
   "metadata": {},
   "outputs": [],
   "source": [
    "bus_cate_train = pd.get_dummies(bus_train, columns=['user_category']) # user type 각각에 대한 dummy 변수 생성 "
   ]
  },
  {
   "cell_type": "code",
   "execution_count": 36,
   "metadata": {},
   "outputs": [],
   "source": [
    "bus_train_group = bus_cate_train.groupby(['bus_route_id']).sum().reset_index() # 각각의 bus_route에서, 타입별로 몇 명씩 승하차했는지 계산 "
   ]
  },
  {
   "cell_type": "code",
   "execution_count": 37,
   "metadata": {},
   "outputs": [
    {
     "data": {
      "text/html": [
       "<div>\n",
       "<style scoped>\n",
       "    .dataframe tbody tr th:only-of-type {\n",
       "        vertical-align: middle;\n",
       "    }\n",
       "\n",
       "    .dataframe tbody tr th {\n",
       "        vertical-align: top;\n",
       "    }\n",
       "\n",
       "    .dataframe thead th {\n",
       "        text-align: right;\n",
       "    }\n",
       "</style>\n",
       "<table border=\"1\" class=\"dataframe\">\n",
       "  <thead>\n",
       "    <tr style=\"text-align: right;\">\n",
       "      <th></th>\n",
       "      <th>bus_route_id</th>\n",
       "      <th>user_card_id</th>\n",
       "      <th>vhc_id</th>\n",
       "      <th>geton_station_code</th>\n",
       "      <th>getoff_station_code</th>\n",
       "      <th>user_count</th>\n",
       "      <th>user_category_1</th>\n",
       "      <th>user_category_2</th>\n",
       "      <th>user_category_4</th>\n",
       "      <th>user_category_6</th>\n",
       "      <th>user_category_27</th>\n",
       "      <th>user_category_28</th>\n",
       "      <th>user_category_29</th>\n",
       "      <th>user_category_30</th>\n",
       "    </tr>\n",
       "  </thead>\n",
       "  <tbody>\n",
       "    <tr>\n",
       "      <th>0</th>\n",
       "      <td>4270000</td>\n",
       "      <td>1.809033e+19</td>\n",
       "      <td>760652461263</td>\n",
       "      <td>7343771</td>\n",
       "      <td>5.385456e+06</td>\n",
       "      <td>5078</td>\n",
       "      <td>5014.0</td>\n",
       "      <td>37.0</td>\n",
       "      <td>27.0</td>\n",
       "      <td>0.0</td>\n",
       "      <td>0.0</td>\n",
       "      <td>0.0</td>\n",
       "      <td>0.0</td>\n",
       "      <td>0.0</td>\n",
       "    </tr>\n",
       "    <tr>\n",
       "      <th>1</th>\n",
       "      <td>4280000</td>\n",
       "      <td>2.983553e+19</td>\n",
       "      <td>1061288442301</td>\n",
       "      <td>15868409</td>\n",
       "      <td>9.714054e+06</td>\n",
       "      <td>7085</td>\n",
       "      <td>6971.0</td>\n",
       "      <td>75.0</td>\n",
       "      <td>39.0</td>\n",
       "      <td>0.0</td>\n",
       "      <td>0.0</td>\n",
       "      <td>0.0</td>\n",
       "      <td>0.0</td>\n",
       "      <td>0.0</td>\n",
       "    </tr>\n",
       "    <tr>\n",
       "      <th>2</th>\n",
       "      <td>7990000</td>\n",
       "      <td>8.855462e+17</td>\n",
       "      <td>70554576342</td>\n",
       "      <td>465697</td>\n",
       "      <td>1.154510e+05</td>\n",
       "      <td>471</td>\n",
       "      <td>131.0</td>\n",
       "      <td>1.0</td>\n",
       "      <td>26.0</td>\n",
       "      <td>300.0</td>\n",
       "      <td>4.0</td>\n",
       "      <td>8.0</td>\n",
       "      <td>1.0</td>\n",
       "      <td>0.0</td>\n",
       "    </tr>\n",
       "    <tr>\n",
       "      <th>3</th>\n",
       "      <td>8170000</td>\n",
       "      <td>1.957436e+19</td>\n",
       "      <td>296591453123</td>\n",
       "      <td>1580961754</td>\n",
       "      <td>1.456873e+09</td>\n",
       "      <td>1980</td>\n",
       "      <td>1961.0</td>\n",
       "      <td>6.0</td>\n",
       "      <td>13.0</td>\n",
       "      <td>0.0</td>\n",
       "      <td>0.0</td>\n",
       "      <td>0.0</td>\n",
       "      <td>0.0</td>\n",
       "      <td>0.0</td>\n",
       "    </tr>\n",
       "    <tr>\n",
       "      <th>4</th>\n",
       "      <td>8180000</td>\n",
       "      <td>1.664479e+19</td>\n",
       "      <td>515739581911</td>\n",
       "      <td>8856629</td>\n",
       "      <td>4.631296e+06</td>\n",
       "      <td>3443</td>\n",
       "      <td>3410.0</td>\n",
       "      <td>18.0</td>\n",
       "      <td>15.0</td>\n",
       "      <td>0.0</td>\n",
       "      <td>0.0</td>\n",
       "      <td>0.0</td>\n",
       "      <td>0.0</td>\n",
       "      <td>0.0</td>\n",
       "    </tr>\n",
       "  </tbody>\n",
       "</table>\n",
       "</div>"
      ],
      "text/plain": [
       "   bus_route_id  user_card_id         vhc_id  geton_station_code  \\\n",
       "0       4270000  1.809033e+19   760652461263             7343771   \n",
       "1       4280000  2.983553e+19  1061288442301            15868409   \n",
       "2       7990000  8.855462e+17    70554576342              465697   \n",
       "3       8170000  1.957436e+19   296591453123          1580961754   \n",
       "4       8180000  1.664479e+19   515739581911             8856629   \n",
       "\n",
       "   getoff_station_code  user_count  user_category_1  user_category_2  \\\n",
       "0         5.385456e+06        5078           5014.0             37.0   \n",
       "1         9.714054e+06        7085           6971.0             75.0   \n",
       "2         1.154510e+05         471            131.0              1.0   \n",
       "3         1.456873e+09        1980           1961.0              6.0   \n",
       "4         4.631296e+06        3443           3410.0             18.0   \n",
       "\n",
       "   user_category_4  user_category_6  user_category_27  user_category_28  \\\n",
       "0             27.0              0.0               0.0               0.0   \n",
       "1             39.0              0.0               0.0               0.0   \n",
       "2             26.0            300.0               4.0               8.0   \n",
       "3             13.0              0.0               0.0               0.0   \n",
       "4             15.0              0.0               0.0               0.0   \n",
       "\n",
       "   user_category_29  user_category_30  \n",
       "0               0.0               0.0  \n",
       "1               0.0               0.0  \n",
       "2               1.0               0.0  \n",
       "3               0.0               0.0  \n",
       "4               0.0               0.0  "
      ]
     },
     "execution_count": 37,
     "metadata": {},
     "output_type": "execute_result"
    }
   ],
   "source": [
    "bus_train_group.head()"
   ]
  },
  {
   "cell_type": "code",
   "execution_count": 38,
   "metadata": {},
   "outputs": [],
   "source": [
    "# test에도 적용 \n",
    "bus_cate_test = bus_test[['bus_route_id', 'geton_date', 'geton_station_code', 'user_category']]"
   ]
  },
  {
   "cell_type": "code",
   "execution_count": 39,
   "metadata": {},
   "outputs": [],
   "source": [
    "bus_cate_test = pd.get_dummies(bus_test, columns=['user_category'])"
   ]
  },
  {
   "cell_type": "code",
   "execution_count": 40,
   "metadata": {},
   "outputs": [],
   "source": [
    "bus_test_group = bus_cate_test.groupby(['bus_route_id']).sum().reset_index()"
   ]
  },
  {
   "cell_type": "code",
   "execution_count": 41,
   "metadata": {
    "scrolled": true
   },
   "outputs": [
    {
     "data": {
      "text/html": [
       "<div>\n",
       "<style scoped>\n",
       "    .dataframe tbody tr th:only-of-type {\n",
       "        vertical-align: middle;\n",
       "    }\n",
       "\n",
       "    .dataframe tbody tr th {\n",
       "        vertical-align: top;\n",
       "    }\n",
       "\n",
       "    .dataframe thead th {\n",
       "        text-align: right;\n",
       "    }\n",
       "</style>\n",
       "<table border=\"1\" class=\"dataframe\">\n",
       "  <thead>\n",
       "    <tr style=\"text-align: right;\">\n",
       "      <th></th>\n",
       "      <th>bus_route_id</th>\n",
       "      <th>user_card_id</th>\n",
       "      <th>vhc_id</th>\n",
       "      <th>geton_station_code</th>\n",
       "      <th>getoff_station_code</th>\n",
       "      <th>user_count</th>\n",
       "      <th>user_category_1</th>\n",
       "      <th>user_category_2</th>\n",
       "      <th>user_category_4</th>\n",
       "      <th>user_category_6</th>\n",
       "      <th>user_category_27</th>\n",
       "      <th>user_category_28</th>\n",
       "      <th>user_category_29</th>\n",
       "      <th>user_category_30</th>\n",
       "    </tr>\n",
       "  </thead>\n",
       "  <tbody>\n",
       "    <tr>\n",
       "      <th>0</th>\n",
       "      <td>4270000</td>\n",
       "      <td>1.086216e+19</td>\n",
       "      <td>477841937994</td>\n",
       "      <td>4663582</td>\n",
       "      <td>3165244.0</td>\n",
       "      <td>3190</td>\n",
       "      <td>3144.0</td>\n",
       "      <td>35.0</td>\n",
       "      <td>11.0</td>\n",
       "      <td>0.0</td>\n",
       "      <td>0.0</td>\n",
       "      <td>0.0</td>\n",
       "      <td>0.0</td>\n",
       "      <td>0.0</td>\n",
       "    </tr>\n",
       "    <tr>\n",
       "      <th>1</th>\n",
       "      <td>4280000</td>\n",
       "      <td>1.602486e+19</td>\n",
       "      <td>584345264605</td>\n",
       "      <td>8704206</td>\n",
       "      <td>5496853.0</td>\n",
       "      <td>3901</td>\n",
       "      <td>3842.0</td>\n",
       "      <td>47.0</td>\n",
       "      <td>12.0</td>\n",
       "      <td>0.0</td>\n",
       "      <td>0.0</td>\n",
       "      <td>0.0</td>\n",
       "      <td>0.0</td>\n",
       "      <td>0.0</td>\n",
       "    </tr>\n",
       "    <tr>\n",
       "      <th>2</th>\n",
       "      <td>7990000</td>\n",
       "      <td>4.082501e+17</td>\n",
       "      <td>30259075204</td>\n",
       "      <td>199414</td>\n",
       "      <td>44652.0</td>\n",
       "      <td>202</td>\n",
       "      <td>58.0</td>\n",
       "      <td>5.0</td>\n",
       "      <td>13.0</td>\n",
       "      <td>122.0</td>\n",
       "      <td>0.0</td>\n",
       "      <td>3.0</td>\n",
       "      <td>0.0</td>\n",
       "      <td>1.0</td>\n",
       "    </tr>\n",
       "    <tr>\n",
       "      <th>3</th>\n",
       "      <td>8170000</td>\n",
       "      <td>4.943026e+18</td>\n",
       "      <td>154587059949</td>\n",
       "      <td>1059411962</td>\n",
       "      <td>887482331.0</td>\n",
       "      <td>1032</td>\n",
       "      <td>1025.0</td>\n",
       "      <td>1.0</td>\n",
       "      <td>6.0</td>\n",
       "      <td>0.0</td>\n",
       "      <td>0.0</td>\n",
       "      <td>0.0</td>\n",
       "      <td>0.0</td>\n",
       "      <td>0.0</td>\n",
       "    </tr>\n",
       "    <tr>\n",
       "      <th>4</th>\n",
       "      <td>8180000</td>\n",
       "      <td>8.856845e+18</td>\n",
       "      <td>270377561587</td>\n",
       "      <td>4611637</td>\n",
       "      <td>2504363.0</td>\n",
       "      <td>1805</td>\n",
       "      <td>1791.0</td>\n",
       "      <td>4.0</td>\n",
       "      <td>10.0</td>\n",
       "      <td>0.0</td>\n",
       "      <td>0.0</td>\n",
       "      <td>0.0</td>\n",
       "      <td>0.0</td>\n",
       "      <td>0.0</td>\n",
       "    </tr>\n",
       "  </tbody>\n",
       "</table>\n",
       "</div>"
      ],
      "text/plain": [
       "   bus_route_id  user_card_id        vhc_id  geton_station_code  \\\n",
       "0       4270000  1.086216e+19  477841937994             4663582   \n",
       "1       4280000  1.602486e+19  584345264605             8704206   \n",
       "2       7990000  4.082501e+17   30259075204              199414   \n",
       "3       8170000  4.943026e+18  154587059949          1059411962   \n",
       "4       8180000  8.856845e+18  270377561587             4611637   \n",
       "\n",
       "   getoff_station_code  user_count  user_category_1  user_category_2  \\\n",
       "0            3165244.0        3190           3144.0             35.0   \n",
       "1            5496853.0        3901           3842.0             47.0   \n",
       "2              44652.0         202             58.0              5.0   \n",
       "3          887482331.0        1032           1025.0              1.0   \n",
       "4            2504363.0        1805           1791.0              4.0   \n",
       "\n",
       "   user_category_4  user_category_6  user_category_27  user_category_28  \\\n",
       "0             11.0              0.0               0.0               0.0   \n",
       "1             12.0              0.0               0.0               0.0   \n",
       "2             13.0            122.0               0.0               3.0   \n",
       "3              6.0              0.0               0.0               0.0   \n",
       "4             10.0              0.0               0.0               0.0   \n",
       "\n",
       "   user_category_29  user_category_30  \n",
       "0               0.0               0.0  \n",
       "1               0.0               0.0  \n",
       "2               0.0               1.0  \n",
       "3               0.0               0.0  \n",
       "4               0.0               0.0  "
      ]
     },
     "execution_count": 41,
     "metadata": {},
     "output_type": "execute_result"
    }
   ],
   "source": [
    "bus_test_group.head()"
   ]
  },
  {
   "cell_type": "code",
   "execution_count": 42,
   "metadata": {
    "scrolled": true
   },
   "outputs": [
    {
     "data": {
      "text/plain": [
       "((612, 14), (600, 14))"
      ]
     },
     "execution_count": 42,
     "metadata": {},
     "output_type": "execute_result"
    }
   ],
   "source": [
    "bus_train_group.shape, bus_test_group.shape"
   ]
  },
  {
   "cell_type": "code",
   "execution_count": 43,
   "metadata": {},
   "outputs": [],
   "source": [
    "train = pd.merge(train, bus_train_group, on = 'bus_route_id', how = 'left')\n",
    "test = pd.merge(test, bus_test_group, on = 'bus_route_id', how='left')"
   ]
  },
  {
   "cell_type": "code",
   "execution_count": 44,
   "metadata": {},
   "outputs": [
    {
     "data": {
      "text/plain": [
       "((415423, 38), (228170, 37))"
      ]
     },
     "execution_count": 44,
     "metadata": {},
     "output_type": "execute_result"
    }
   ],
   "source": [
    "train.shape, test.shape"
   ]
  },
  {
   "cell_type": "code",
   "execution_count": 45,
   "metadata": {},
   "outputs": [
    {
     "name": "stdout",
     "output_type": "stream",
     "text": [
      "dataset shape is: (415423, 38)\n"
     ]
    },
    {
     "data": {
      "text/html": [
       "<div>\n",
       "<style scoped>\n",
       "    .dataframe tbody tr th:only-of-type {\n",
       "        vertical-align: middle;\n",
       "    }\n",
       "\n",
       "    .dataframe tbody tr th {\n",
       "        vertical-align: top;\n",
       "    }\n",
       "\n",
       "    .dataframe thead th {\n",
       "        text-align: right;\n",
       "    }\n",
       "</style>\n",
       "<table border=\"1\" class=\"dataframe\">\n",
       "  <thead>\n",
       "    <tr style=\"text-align: right;\">\n",
       "      <th></th>\n",
       "      <th>id</th>\n",
       "      <th>date</th>\n",
       "      <th>bus_route_id</th>\n",
       "      <th>in_out</th>\n",
       "      <th>station_code</th>\n",
       "      <th>station_name</th>\n",
       "      <th>latitude</th>\n",
       "      <th>longitude</th>\n",
       "      <th>6~7_ride</th>\n",
       "      <th>7~8_ride</th>\n",
       "      <th>8~9_ride</th>\n",
       "      <th>9~10_ride</th>\n",
       "      <th>10~11_ride</th>\n",
       "      <th>11~12_ride</th>\n",
       "      <th>6~7_takeoff</th>\n",
       "      <th>7~8_takeoff</th>\n",
       "      <th>8~9_takeoff</th>\n",
       "      <th>9~10_takeoff</th>\n",
       "      <th>10~11_takeoff</th>\n",
       "      <th>11~12_takeoff</th>\n",
       "      <th>18~20_ride</th>\n",
       "      <th>day</th>\n",
       "      <th>weekday</th>\n",
       "      <th>weekend</th>\n",
       "      <th>holiday</th>\n",
       "      <th>user_card_id</th>\n",
       "      <th>vhc_id</th>\n",
       "      <th>geton_station_code</th>\n",
       "      <th>getoff_station_code</th>\n",
       "      <th>user_count</th>\n",
       "      <th>user_category_1</th>\n",
       "      <th>user_category_2</th>\n",
       "      <th>user_category_4</th>\n",
       "      <th>user_category_6</th>\n",
       "      <th>user_category_27</th>\n",
       "      <th>user_category_28</th>\n",
       "      <th>user_category_29</th>\n",
       "      <th>user_category_30</th>\n",
       "    </tr>\n",
       "  </thead>\n",
       "  <tbody>\n",
       "    <tr>\n",
       "      <th>0</th>\n",
       "      <td>0</td>\n",
       "      <td>2019-09-01</td>\n",
       "      <td>4270000</td>\n",
       "      <td>1</td>\n",
       "      <td>344</td>\n",
       "      <td>제주썬호텔</td>\n",
       "      <td>33.48990</td>\n",
       "      <td>126.49373</td>\n",
       "      <td>0.0</td>\n",
       "      <td>1.0</td>\n",
       "      <td>2.0</td>\n",
       "      <td>5.0</td>\n",
       "      <td>2.0</td>\n",
       "      <td>6.0</td>\n",
       "      <td>0.0</td>\n",
       "      <td>0.0</td>\n",
       "      <td>0.0</td>\n",
       "      <td>0.0</td>\n",
       "      <td>0.0</td>\n",
       "      <td>0.0</td>\n",
       "      <td>0.0</td>\n",
       "      <td>1</td>\n",
       "      <td>6</td>\n",
       "      <td>0</td>\n",
       "      <td>0</td>\n",
       "      <td>1.809033e+19</td>\n",
       "      <td>7.606525e+11</td>\n",
       "      <td>7343771.0</td>\n",
       "      <td>5385456.0</td>\n",
       "      <td>5078.0</td>\n",
       "      <td>5014.0</td>\n",
       "      <td>37.0</td>\n",
       "      <td>27.0</td>\n",
       "      <td>0.0</td>\n",
       "      <td>0.0</td>\n",
       "      <td>0.0</td>\n",
       "      <td>0.0</td>\n",
       "      <td>0.0</td>\n",
       "    </tr>\n",
       "    <tr>\n",
       "      <th>1</th>\n",
       "      <td>1</td>\n",
       "      <td>2019-09-01</td>\n",
       "      <td>4270000</td>\n",
       "      <td>1</td>\n",
       "      <td>357</td>\n",
       "      <td>한라병원</td>\n",
       "      <td>33.48944</td>\n",
       "      <td>126.48508</td>\n",
       "      <td>1.0</td>\n",
       "      <td>4.0</td>\n",
       "      <td>4.0</td>\n",
       "      <td>2.0</td>\n",
       "      <td>5.0</td>\n",
       "      <td>6.0</td>\n",
       "      <td>0.0</td>\n",
       "      <td>0.0</td>\n",
       "      <td>0.0</td>\n",
       "      <td>0.0</td>\n",
       "      <td>0.0</td>\n",
       "      <td>0.0</td>\n",
       "      <td>5.0</td>\n",
       "      <td>1</td>\n",
       "      <td>6</td>\n",
       "      <td>0</td>\n",
       "      <td>0</td>\n",
       "      <td>1.809033e+19</td>\n",
       "      <td>7.606525e+11</td>\n",
       "      <td>7343771.0</td>\n",
       "      <td>5385456.0</td>\n",
       "      <td>5078.0</td>\n",
       "      <td>5014.0</td>\n",
       "      <td>37.0</td>\n",
       "      <td>27.0</td>\n",
       "      <td>0.0</td>\n",
       "      <td>0.0</td>\n",
       "      <td>0.0</td>\n",
       "      <td>0.0</td>\n",
       "      <td>0.0</td>\n",
       "    </tr>\n",
       "    <tr>\n",
       "      <th>2</th>\n",
       "      <td>2</td>\n",
       "      <td>2019-09-01</td>\n",
       "      <td>4270000</td>\n",
       "      <td>1</td>\n",
       "      <td>432</td>\n",
       "      <td>정존마을</td>\n",
       "      <td>33.48181</td>\n",
       "      <td>126.47352</td>\n",
       "      <td>1.0</td>\n",
       "      <td>1.0</td>\n",
       "      <td>0.0</td>\n",
       "      <td>2.0</td>\n",
       "      <td>0.0</td>\n",
       "      <td>0.0</td>\n",
       "      <td>0.0</td>\n",
       "      <td>0.0</td>\n",
       "      <td>0.0</td>\n",
       "      <td>0.0</td>\n",
       "      <td>0.0</td>\n",
       "      <td>0.0</td>\n",
       "      <td>2.0</td>\n",
       "      <td>1</td>\n",
       "      <td>6</td>\n",
       "      <td>0</td>\n",
       "      <td>0</td>\n",
       "      <td>1.809033e+19</td>\n",
       "      <td>7.606525e+11</td>\n",
       "      <td>7343771.0</td>\n",
       "      <td>5385456.0</td>\n",
       "      <td>5078.0</td>\n",
       "      <td>5014.0</td>\n",
       "      <td>37.0</td>\n",
       "      <td>27.0</td>\n",
       "      <td>0.0</td>\n",
       "      <td>0.0</td>\n",
       "      <td>0.0</td>\n",
       "      <td>0.0</td>\n",
       "      <td>0.0</td>\n",
       "    </tr>\n",
       "    <tr>\n",
       "      <th>3</th>\n",
       "      <td>3</td>\n",
       "      <td>2019-09-01</td>\n",
       "      <td>4270000</td>\n",
       "      <td>0</td>\n",
       "      <td>1579</td>\n",
       "      <td>제주국제공항(600번)</td>\n",
       "      <td>33.50577</td>\n",
       "      <td>126.49252</td>\n",
       "      <td>0.0</td>\n",
       "      <td>17.0</td>\n",
       "      <td>6.0</td>\n",
       "      <td>26.0</td>\n",
       "      <td>14.0</td>\n",
       "      <td>16.0</td>\n",
       "      <td>0.0</td>\n",
       "      <td>0.0</td>\n",
       "      <td>0.0</td>\n",
       "      <td>0.0</td>\n",
       "      <td>0.0</td>\n",
       "      <td>0.0</td>\n",
       "      <td>53.0</td>\n",
       "      <td>1</td>\n",
       "      <td>6</td>\n",
       "      <td>0</td>\n",
       "      <td>0</td>\n",
       "      <td>1.809033e+19</td>\n",
       "      <td>7.606525e+11</td>\n",
       "      <td>7343771.0</td>\n",
       "      <td>5385456.0</td>\n",
       "      <td>5078.0</td>\n",
       "      <td>5014.0</td>\n",
       "      <td>37.0</td>\n",
       "      <td>27.0</td>\n",
       "      <td>0.0</td>\n",
       "      <td>0.0</td>\n",
       "      <td>0.0</td>\n",
       "      <td>0.0</td>\n",
       "      <td>0.0</td>\n",
       "    </tr>\n",
       "    <tr>\n",
       "      <th>4</th>\n",
       "      <td>4</td>\n",
       "      <td>2019-09-01</td>\n",
       "      <td>4270000</td>\n",
       "      <td>0</td>\n",
       "      <td>1646</td>\n",
       "      <td>중문관광단지입구</td>\n",
       "      <td>33.25579</td>\n",
       "      <td>126.41260</td>\n",
       "      <td>0.0</td>\n",
       "      <td>0.0</td>\n",
       "      <td>0.0</td>\n",
       "      <td>0.0</td>\n",
       "      <td>0.0</td>\n",
       "      <td>0.0</td>\n",
       "      <td>0.0</td>\n",
       "      <td>0.0</td>\n",
       "      <td>0.0</td>\n",
       "      <td>1.0</td>\n",
       "      <td>0.0</td>\n",
       "      <td>0.0</td>\n",
       "      <td>0.0</td>\n",
       "      <td>1</td>\n",
       "      <td>6</td>\n",
       "      <td>0</td>\n",
       "      <td>0</td>\n",
       "      <td>1.809033e+19</td>\n",
       "      <td>7.606525e+11</td>\n",
       "      <td>7343771.0</td>\n",
       "      <td>5385456.0</td>\n",
       "      <td>5078.0</td>\n",
       "      <td>5014.0</td>\n",
       "      <td>37.0</td>\n",
       "      <td>27.0</td>\n",
       "      <td>0.0</td>\n",
       "      <td>0.0</td>\n",
       "      <td>0.0</td>\n",
       "      <td>0.0</td>\n",
       "      <td>0.0</td>\n",
       "    </tr>\n",
       "    <tr>\n",
       "      <th>415418</th>\n",
       "      <td>415418</td>\n",
       "      <td>2019-09-30</td>\n",
       "      <td>32820000</td>\n",
       "      <td>0</td>\n",
       "      <td>1129</td>\n",
       "      <td>한림환승정류장(한림리)</td>\n",
       "      <td>33.41437</td>\n",
       "      <td>126.26336</td>\n",
       "      <td>4.0</td>\n",
       "      <td>0.0</td>\n",
       "      <td>0.0</td>\n",
       "      <td>0.0</td>\n",
       "      <td>0.0</td>\n",
       "      <td>0.0</td>\n",
       "      <td>0.0</td>\n",
       "      <td>0.0</td>\n",
       "      <td>0.0</td>\n",
       "      <td>0.0</td>\n",
       "      <td>0.0</td>\n",
       "      <td>0.0</td>\n",
       "      <td>0.0</td>\n",
       "      <td>30</td>\n",
       "      <td>0</td>\n",
       "      <td>1</td>\n",
       "      <td>0</td>\n",
       "      <td>5.773668e+17</td>\n",
       "      <td>2.426649e+10</td>\n",
       "      <td>172167.0</td>\n",
       "      <td>263075189.0</td>\n",
       "      <td>162.0</td>\n",
       "      <td>139.0</td>\n",
       "      <td>0.0</td>\n",
       "      <td>23.0</td>\n",
       "      <td>0.0</td>\n",
       "      <td>0.0</td>\n",
       "      <td>0.0</td>\n",
       "      <td>0.0</td>\n",
       "      <td>0.0</td>\n",
       "    </tr>\n",
       "    <tr>\n",
       "      <th>415419</th>\n",
       "      <td>415419</td>\n",
       "      <td>2019-09-30</td>\n",
       "      <td>32820000</td>\n",
       "      <td>0</td>\n",
       "      <td>1564</td>\n",
       "      <td>제주시외버스터미널</td>\n",
       "      <td>33.49946</td>\n",
       "      <td>126.51479</td>\n",
       "      <td>4.0</td>\n",
       "      <td>0.0</td>\n",
       "      <td>0.0</td>\n",
       "      <td>0.0</td>\n",
       "      <td>0.0</td>\n",
       "      <td>0.0</td>\n",
       "      <td>0.0</td>\n",
       "      <td>0.0</td>\n",
       "      <td>0.0</td>\n",
       "      <td>0.0</td>\n",
       "      <td>0.0</td>\n",
       "      <td>0.0</td>\n",
       "      <td>0.0</td>\n",
       "      <td>30</td>\n",
       "      <td>0</td>\n",
       "      <td>1</td>\n",
       "      <td>0</td>\n",
       "      <td>5.773668e+17</td>\n",
       "      <td>2.426649e+10</td>\n",
       "      <td>172167.0</td>\n",
       "      <td>263075189.0</td>\n",
       "      <td>162.0</td>\n",
       "      <td>139.0</td>\n",
       "      <td>0.0</td>\n",
       "      <td>23.0</td>\n",
       "      <td>0.0</td>\n",
       "      <td>0.0</td>\n",
       "      <td>0.0</td>\n",
       "      <td>0.0</td>\n",
       "      <td>0.0</td>\n",
       "    </tr>\n",
       "    <tr>\n",
       "      <th>415420</th>\n",
       "      <td>415420</td>\n",
       "      <td>2019-09-30</td>\n",
       "      <td>32820000</td>\n",
       "      <td>0</td>\n",
       "      <td>2322</td>\n",
       "      <td>해병부대</td>\n",
       "      <td>33.23100</td>\n",
       "      <td>126.26273</td>\n",
       "      <td>0.0</td>\n",
       "      <td>0.0</td>\n",
       "      <td>0.0</td>\n",
       "      <td>0.0</td>\n",
       "      <td>0.0</td>\n",
       "      <td>0.0</td>\n",
       "      <td>0.0</td>\n",
       "      <td>1.0</td>\n",
       "      <td>0.0</td>\n",
       "      <td>0.0</td>\n",
       "      <td>0.0</td>\n",
       "      <td>0.0</td>\n",
       "      <td>0.0</td>\n",
       "      <td>30</td>\n",
       "      <td>0</td>\n",
       "      <td>1</td>\n",
       "      <td>0</td>\n",
       "      <td>5.773668e+17</td>\n",
       "      <td>2.426649e+10</td>\n",
       "      <td>172167.0</td>\n",
       "      <td>263075189.0</td>\n",
       "      <td>162.0</td>\n",
       "      <td>139.0</td>\n",
       "      <td>0.0</td>\n",
       "      <td>23.0</td>\n",
       "      <td>0.0</td>\n",
       "      <td>0.0</td>\n",
       "      <td>0.0</td>\n",
       "      <td>0.0</td>\n",
       "      <td>0.0</td>\n",
       "    </tr>\n",
       "    <tr>\n",
       "      <th>415421</th>\n",
       "      <td>415421</td>\n",
       "      <td>2019-09-30</td>\n",
       "      <td>32820000</td>\n",
       "      <td>0</td>\n",
       "      <td>3291</td>\n",
       "      <td>애월환승정류장(애월리)</td>\n",
       "      <td>33.46483</td>\n",
       "      <td>126.31870</td>\n",
       "      <td>1.0</td>\n",
       "      <td>0.0</td>\n",
       "      <td>0.0</td>\n",
       "      <td>0.0</td>\n",
       "      <td>0.0</td>\n",
       "      <td>0.0</td>\n",
       "      <td>0.0</td>\n",
       "      <td>0.0</td>\n",
       "      <td>0.0</td>\n",
       "      <td>0.0</td>\n",
       "      <td>0.0</td>\n",
       "      <td>0.0</td>\n",
       "      <td>0.0</td>\n",
       "      <td>30</td>\n",
       "      <td>0</td>\n",
       "      <td>1</td>\n",
       "      <td>0</td>\n",
       "      <td>5.773668e+17</td>\n",
       "      <td>2.426649e+10</td>\n",
       "      <td>172167.0</td>\n",
       "      <td>263075189.0</td>\n",
       "      <td>162.0</td>\n",
       "      <td>139.0</td>\n",
       "      <td>0.0</td>\n",
       "      <td>23.0</td>\n",
       "      <td>0.0</td>\n",
       "      <td>0.0</td>\n",
       "      <td>0.0</td>\n",
       "      <td>0.0</td>\n",
       "      <td>0.0</td>\n",
       "    </tr>\n",
       "    <tr>\n",
       "      <th>415422</th>\n",
       "      <td>415422</td>\n",
       "      <td>2019-09-30</td>\n",
       "      <td>32820000</td>\n",
       "      <td>0</td>\n",
       "      <td>6115100</td>\n",
       "      <td>서귀포시외버스터미널</td>\n",
       "      <td>33.24873</td>\n",
       "      <td>126.50799</td>\n",
       "      <td>0.0</td>\n",
       "      <td>0.0</td>\n",
       "      <td>0.0</td>\n",
       "      <td>0.0</td>\n",
       "      <td>0.0</td>\n",
       "      <td>0.0</td>\n",
       "      <td>0.0</td>\n",
       "      <td>0.0</td>\n",
       "      <td>4.0</td>\n",
       "      <td>0.0</td>\n",
       "      <td>0.0</td>\n",
       "      <td>0.0</td>\n",
       "      <td>0.0</td>\n",
       "      <td>30</td>\n",
       "      <td>0</td>\n",
       "      <td>1</td>\n",
       "      <td>0</td>\n",
       "      <td>5.773668e+17</td>\n",
       "      <td>2.426649e+10</td>\n",
       "      <td>172167.0</td>\n",
       "      <td>263075189.0</td>\n",
       "      <td>162.0</td>\n",
       "      <td>139.0</td>\n",
       "      <td>0.0</td>\n",
       "      <td>23.0</td>\n",
       "      <td>0.0</td>\n",
       "      <td>0.0</td>\n",
       "      <td>0.0</td>\n",
       "      <td>0.0</td>\n",
       "      <td>0.0</td>\n",
       "    </tr>\n",
       "  </tbody>\n",
       "</table>\n",
       "</div>"
      ],
      "text/plain": [
       "            id       date  bus_route_id  in_out  station_code  station_name  \\\n",
       "0            0 2019-09-01       4270000       1           344         제주썬호텔   \n",
       "1            1 2019-09-01       4270000       1           357          한라병원   \n",
       "2            2 2019-09-01       4270000       1           432          정존마을   \n",
       "3            3 2019-09-01       4270000       0          1579  제주국제공항(600번)   \n",
       "4            4 2019-09-01       4270000       0          1646      중문관광단지입구   \n",
       "415418  415418 2019-09-30      32820000       0          1129  한림환승정류장(한림리)   \n",
       "415419  415419 2019-09-30      32820000       0          1564     제주시외버스터미널   \n",
       "415420  415420 2019-09-30      32820000       0          2322          해병부대   \n",
       "415421  415421 2019-09-30      32820000       0          3291  애월환승정류장(애월리)   \n",
       "415422  415422 2019-09-30      32820000       0       6115100    서귀포시외버스터미널   \n",
       "\n",
       "        latitude  longitude  6~7_ride  7~8_ride  8~9_ride  9~10_ride  \\\n",
       "0       33.48990  126.49373       0.0       1.0       2.0        5.0   \n",
       "1       33.48944  126.48508       1.0       4.0       4.0        2.0   \n",
       "2       33.48181  126.47352       1.0       1.0       0.0        2.0   \n",
       "3       33.50577  126.49252       0.0      17.0       6.0       26.0   \n",
       "4       33.25579  126.41260       0.0       0.0       0.0        0.0   \n",
       "415418  33.41437  126.26336       4.0       0.0       0.0        0.0   \n",
       "415419  33.49946  126.51479       4.0       0.0       0.0        0.0   \n",
       "415420  33.23100  126.26273       0.0       0.0       0.0        0.0   \n",
       "415421  33.46483  126.31870       1.0       0.0       0.0        0.0   \n",
       "415422  33.24873  126.50799       0.0       0.0       0.0        0.0   \n",
       "\n",
       "        10~11_ride  11~12_ride  6~7_takeoff  7~8_takeoff  8~9_takeoff  \\\n",
       "0              2.0         6.0          0.0          0.0          0.0   \n",
       "1              5.0         6.0          0.0          0.0          0.0   \n",
       "2              0.0         0.0          0.0          0.0          0.0   \n",
       "3             14.0        16.0          0.0          0.0          0.0   \n",
       "4              0.0         0.0          0.0          0.0          0.0   \n",
       "415418         0.0         0.0          0.0          0.0          0.0   \n",
       "415419         0.0         0.0          0.0          0.0          0.0   \n",
       "415420         0.0         0.0          0.0          1.0          0.0   \n",
       "415421         0.0         0.0          0.0          0.0          0.0   \n",
       "415422         0.0         0.0          0.0          0.0          4.0   \n",
       "\n",
       "        9~10_takeoff  10~11_takeoff  11~12_takeoff  18~20_ride  day  weekday  \\\n",
       "0                0.0            0.0            0.0         0.0    1        6   \n",
       "1                0.0            0.0            0.0         5.0    1        6   \n",
       "2                0.0            0.0            0.0         2.0    1        6   \n",
       "3                0.0            0.0            0.0        53.0    1        6   \n",
       "4                1.0            0.0            0.0         0.0    1        6   \n",
       "415418           0.0            0.0            0.0         0.0   30        0   \n",
       "415419           0.0            0.0            0.0         0.0   30        0   \n",
       "415420           0.0            0.0            0.0         0.0   30        0   \n",
       "415421           0.0            0.0            0.0         0.0   30        0   \n",
       "415422           0.0            0.0            0.0         0.0   30        0   \n",
       "\n",
       "        weekend  holiday  user_card_id        vhc_id  geton_station_code  \\\n",
       "0             0        0  1.809033e+19  7.606525e+11           7343771.0   \n",
       "1             0        0  1.809033e+19  7.606525e+11           7343771.0   \n",
       "2             0        0  1.809033e+19  7.606525e+11           7343771.0   \n",
       "3             0        0  1.809033e+19  7.606525e+11           7343771.0   \n",
       "4             0        0  1.809033e+19  7.606525e+11           7343771.0   \n",
       "415418        1        0  5.773668e+17  2.426649e+10            172167.0   \n",
       "415419        1        0  5.773668e+17  2.426649e+10            172167.0   \n",
       "415420        1        0  5.773668e+17  2.426649e+10            172167.0   \n",
       "415421        1        0  5.773668e+17  2.426649e+10            172167.0   \n",
       "415422        1        0  5.773668e+17  2.426649e+10            172167.0   \n",
       "\n",
       "        getoff_station_code  user_count  user_category_1  user_category_2  \\\n",
       "0                 5385456.0      5078.0           5014.0             37.0   \n",
       "1                 5385456.0      5078.0           5014.0             37.0   \n",
       "2                 5385456.0      5078.0           5014.0             37.0   \n",
       "3                 5385456.0      5078.0           5014.0             37.0   \n",
       "4                 5385456.0      5078.0           5014.0             37.0   \n",
       "415418          263075189.0       162.0            139.0              0.0   \n",
       "415419          263075189.0       162.0            139.0              0.0   \n",
       "415420          263075189.0       162.0            139.0              0.0   \n",
       "415421          263075189.0       162.0            139.0              0.0   \n",
       "415422          263075189.0       162.0            139.0              0.0   \n",
       "\n",
       "        user_category_4  user_category_6  user_category_27  user_category_28  \\\n",
       "0                  27.0              0.0               0.0               0.0   \n",
       "1                  27.0              0.0               0.0               0.0   \n",
       "2                  27.0              0.0               0.0               0.0   \n",
       "3                  27.0              0.0               0.0               0.0   \n",
       "4                  27.0              0.0               0.0               0.0   \n",
       "415418             23.0              0.0               0.0               0.0   \n",
       "415419             23.0              0.0               0.0               0.0   \n",
       "415420             23.0              0.0               0.0               0.0   \n",
       "415421             23.0              0.0               0.0               0.0   \n",
       "415422             23.0              0.0               0.0               0.0   \n",
       "\n",
       "        user_category_29  user_category_30  \n",
       "0                    0.0               0.0  \n",
       "1                    0.0               0.0  \n",
       "2                    0.0               0.0  \n",
       "3                    0.0               0.0  \n",
       "4                    0.0               0.0  \n",
       "415418               0.0               0.0  \n",
       "415419               0.0               0.0  \n",
       "415420               0.0               0.0  \n",
       "415421               0.0               0.0  \n",
       "415422               0.0               0.0  "
      ]
     },
     "metadata": {},
     "output_type": "display_data"
    },
    {
     "name": "stdout",
     "output_type": "stream",
     "text": [
      "Number of missing values:\n",
      " id                     0\n",
      "date                   0\n",
      "bus_route_id           0\n",
      "in_out                 0\n",
      "station_code           0\n",
      "station_name           0\n",
      "latitude               0\n",
      "longitude              0\n",
      "6~7_ride               0\n",
      "7~8_ride               0\n",
      "8~9_ride               0\n",
      "9~10_ride              0\n",
      "10~11_ride             0\n",
      "11~12_ride             0\n",
      "6~7_takeoff            0\n",
      "7~8_takeoff            0\n",
      "8~9_takeoff            0\n",
      "9~10_takeoff           0\n",
      "10~11_takeoff          0\n",
      "11~12_takeoff          0\n",
      "18~20_ride             0\n",
      "day                    0\n",
      "weekday                0\n",
      "weekend                0\n",
      "holiday                0\n",
      "user_card_id           2\n",
      "vhc_id                 2\n",
      "geton_station_code     2\n",
      "getoff_station_code    2\n",
      "user_count             2\n",
      "user_category_1        2\n",
      "user_category_2        2\n",
      "user_category_4        2\n",
      "user_category_6        2\n",
      "user_category_27       2\n",
      "user_category_28       2\n",
      "user_category_29       2\n",
      "user_category_30       2\n",
      "dtype: int64 \n",
      "\n"
     ]
    }
   ],
   "source": [
    "display_data(train,5)"
   ]
  },
  {
   "cell_type": "code",
   "execution_count": 74,
   "metadata": {},
   "outputs": [],
   "source": [
    "# 결측값의 경우 train/test data에 bus data의 노선 번호가 존재하지 않는 경우 발생한다 \n",
    "# 이 때의 값을 살펴보면, 대부분 ride, takeoff 값이 0이므로 그냥 0으로 채워주기로 한다  \n",
    "train = train.fillna(0) \n",
    "test = test.fillna(0) "
   ]
  },
  {
   "cell_type": "markdown",
   "metadata": {},
   "source": [
    "### 4. bus_route_id / station_code / station_name \n",
    "* 새로운 feature 생성 "
   ]
  },
  {
   "cell_type": "code",
   "execution_count": 47,
   "metadata": {},
   "outputs": [
    {
     "name": "stdout",
     "output_type": "stream",
     "text": [
      "bus_route_id unique : 613\n",
      "station_code unique : 3563\n",
      "station_name unique : 1961\n"
     ]
    }
   ],
   "source": [
    "print('bus_route_id unique : {}'.format(len(train['bus_route_id'].unique())))\n",
    "print('station_code unique : {}'.format(len(train['station_code'].unique())))\n",
    "print('station_name unique : {}'.format(len(train['station_name'].unique())))"
   ]
  },
  {
   "cell_type": "markdown",
   "metadata": {},
   "source": [
    "#### 1) bus_route_id\n",
    "bus_route_id(노선ID)를 그룹화하여, 18~20_ride 값의 평균을 구해 새로운 변수로 생성한다 "
   ]
  },
  {
   "cell_type": "code",
   "execution_count": 48,
   "metadata": {},
   "outputs": [],
   "source": [
    "train_bus_route = train[['18~20_ride','bus_route_id']].groupby('bus_route_id').mean().sort_values('18~20_ride').reset_index()"
   ]
  },
  {
   "cell_type": "code",
   "execution_count": 49,
   "metadata": {},
   "outputs": [],
   "source": [
    "train = pd.merge(train, train_bus_route, on = 'bus_route_id', how = 'left')\n",
    "test = pd.merge(test, train_bus_route, on = 'bus_route_id', how='left')"
   ]
  },
  {
   "cell_type": "code",
   "execution_count": 50,
   "metadata": {},
   "outputs": [],
   "source": [
    "train.rename(columns = {'18~20_ride_x' : '18~20_ride', '18~20_ride_y' : 'bus_route_mean'}, inplace = True)\n",
    "test.rename(columns = {'18~20_ride' : 'bus_route_mean'}, inplace = True)"
   ]
  },
  {
   "cell_type": "code",
   "execution_count": 51,
   "metadata": {},
   "outputs": [],
   "source": [
    "#test 데이터에 NaN값이 생기는데, 이것은 test데이터에 같은 key가 없으면 NaN값으로 대체된다.\n",
    "#따라서, 그 경우 우선 train의 중앙값을 가지고와 test의 변수에 대체해준다.\n",
    "\n",
    "test['bus_route_mean'].fillna(train['bus_route_mean'].median(),inplace = True)"
   ]
  },
  {
   "cell_type": "markdown",
   "metadata": {},
   "source": [
    "#### 2) station_code\n",
    "station_code(승하차정류소 ID)를 그룹화하여, 18~20_ride 값의 평균을 구해 새로운 변수로 생성한다 "
   ]
  },
  {
   "cell_type": "code",
   "execution_count": 52,
   "metadata": {},
   "outputs": [],
   "source": [
    "train_st_code = train[['18~20_ride','station_code']].groupby('station_code').mean().sort_values('18~20_ride').reset_index()"
   ]
  },
  {
   "cell_type": "code",
   "execution_count": 53,
   "metadata": {},
   "outputs": [],
   "source": [
    "train = pd.merge(train, train_st_code, on = 'station_code', how = 'left')\n",
    "test = pd.merge(test, train_st_code, on = 'station_code', how='left')"
   ]
  },
  {
   "cell_type": "code",
   "execution_count": 54,
   "metadata": {},
   "outputs": [],
   "source": [
    "train.rename(columns = {'18~20_ride_x' : '18~20_ride', '18~20_ride_y' : 'station_code_mean'}, inplace = True)\n",
    "test.rename(columns = {'18~20_ride' : 'station_code_mean'}, inplace = True)"
   ]
  },
  {
   "cell_type": "code",
   "execution_count": 55,
   "metadata": {},
   "outputs": [],
   "source": [
    "# 위의 경우와 마찬가지로 train의 중앙값을 가지고와 test의 변수에 대체해준다.\n",
    "test['station_code_mean'].fillna(train['station_code_mean'].median(),inplace = True)"
   ]
  },
  {
   "cell_type": "markdown",
   "metadata": {},
   "source": [
    "#### 3) station_name\n",
    "station_name(승하차정류소 이름)을 그룹화하여, 18~20_ride 값의 평균을 구해 새로운 변수로 생성한다   \n",
    "station_code의 경우와 비슷한 값을 가지는 변수가 생성될 것이다 "
   ]
  },
  {
   "cell_type": "code",
   "execution_count": 56,
   "metadata": {},
   "outputs": [],
   "source": [
    "train_name_code = train[['18~20_ride','station_name']].groupby('station_name').mean().sort_values('18~20_ride').reset_index()"
   ]
  },
  {
   "cell_type": "code",
   "execution_count": 57,
   "metadata": {},
   "outputs": [],
   "source": [
    "train = pd.merge(train, train_name_code, on = 'station_name', how = 'left')\n",
    "test = pd.merge(test, train_name_code, on = 'station_name', how='left')"
   ]
  },
  {
   "cell_type": "code",
   "execution_count": 58,
   "metadata": {},
   "outputs": [],
   "source": [
    "train.rename(columns = {'18~20_ride_x' : '18~20_ride', '18~20_ride_y' : 'station_name_mean'}, inplace = True)\n",
    "test.rename(columns = {'18~20_ride' : 'station_name_mean'}, inplace = True)"
   ]
  },
  {
   "cell_type": "code",
   "execution_count": 59,
   "metadata": {},
   "outputs": [],
   "source": [
    "# 위의 경우와 마찬가지로 train의 중앙값을 가지고와 test의 변수에 대체해준다.\n",
    "test['station_name_mean'].fillna(train['station_name_mean'].median(),inplace = True)"
   ]
  },
  {
   "cell_type": "markdown",
   "metadata": {},
   "source": [
    "### 5. station_name\n",
    "* 수요가 많을 것으로 예상되는 정류장"
   ]
  },
  {
   "cell_type": "markdown",
   "metadata": {},
   "source": [
    "#### 1) 학교"
   ]
  },
  {
   "cell_type": "code",
   "execution_count": 62,
   "metadata": {},
   "outputs": [],
   "source": [
    "g = df[df['station_name'].str.contains('고등학교')]\n",
    "highschool = list(g['station_name'].unique())\n",
    "\n",
    "g = df[df['station_name'].str.contains('대학교')]\n",
    "university = list(g['station_name'].unique())"
   ]
  },
  {
   "cell_type": "code",
   "execution_count": 63,
   "metadata": {},
   "outputs": [],
   "source": [
    "def school(x):\n",
    "    if x in highschool:\n",
    "        return 1\n",
    "    elif x in university:\n",
    "        return 1\n",
    "    else:\n",
    "        return 0"
   ]
  },
  {
   "cell_type": "code",
   "execution_count": 64,
   "metadata": {},
   "outputs": [],
   "source": [
    "train['school'] = train['station_name'].apply(school) \n",
    "test['school'] = test['station_name'].apply(school) "
   ]
  },
  {
   "cell_type": "markdown",
   "metadata": {},
   "source": [
    "#### 2) 공항, 환승, 터미널"
   ]
  },
  {
   "cell_type": "code",
   "execution_count": 65,
   "metadata": {},
   "outputs": [],
   "source": [
    "g = df[df['station_name'].str.contains('환승')]\n",
    "transfer = list(g['station_name'].unique())\n",
    "\n",
    "g = df[df['station_name'].str.contains('공항')]\n",
    "airport = list(g['station_name'].unique())\n",
    "\n",
    "g = df[df['station_name'].str.contains('터미널')]\n",
    "terminal = list(g['station_name'].unique())"
   ]
  },
  {
   "cell_type": "code",
   "execution_count": 66,
   "metadata": {},
   "outputs": [],
   "source": [
    "def station(x):\n",
    "    if x in transfer:\n",
    "        return 1\n",
    "    elif x in airport:\n",
    "        return 1\n",
    "    elif x in terminal:\n",
    "        return 1\n",
    "    else:\n",
    "        return 0"
   ]
  },
  {
   "cell_type": "code",
   "execution_count": 67,
   "metadata": {},
   "outputs": [],
   "source": [
    "train['station'] = train['station_name'].apply(station) \n",
    "test['station'] = test['station_name'].apply(station) "
   ]
  },
  {
   "cell_type": "code",
   "execution_count": 75,
   "metadata": {},
   "outputs": [
    {
     "name": "stdout",
     "output_type": "stream",
     "text": [
      "dataset shape is: (415423, 43)\n"
     ]
    },
    {
     "data": {
      "text/html": [
       "<div>\n",
       "<style scoped>\n",
       "    .dataframe tbody tr th:only-of-type {\n",
       "        vertical-align: middle;\n",
       "    }\n",
       "\n",
       "    .dataframe tbody tr th {\n",
       "        vertical-align: top;\n",
       "    }\n",
       "\n",
       "    .dataframe thead th {\n",
       "        text-align: right;\n",
       "    }\n",
       "</style>\n",
       "<table border=\"1\" class=\"dataframe\">\n",
       "  <thead>\n",
       "    <tr style=\"text-align: right;\">\n",
       "      <th></th>\n",
       "      <th>id</th>\n",
       "      <th>date</th>\n",
       "      <th>bus_route_id</th>\n",
       "      <th>in_out</th>\n",
       "      <th>station_code</th>\n",
       "      <th>station_name</th>\n",
       "      <th>latitude</th>\n",
       "      <th>longitude</th>\n",
       "      <th>6~7_ride</th>\n",
       "      <th>7~8_ride</th>\n",
       "      <th>8~9_ride</th>\n",
       "      <th>9~10_ride</th>\n",
       "      <th>10~11_ride</th>\n",
       "      <th>11~12_ride</th>\n",
       "      <th>6~7_takeoff</th>\n",
       "      <th>7~8_takeoff</th>\n",
       "      <th>8~9_takeoff</th>\n",
       "      <th>9~10_takeoff</th>\n",
       "      <th>10~11_takeoff</th>\n",
       "      <th>11~12_takeoff</th>\n",
       "      <th>18~20_ride</th>\n",
       "      <th>day</th>\n",
       "      <th>weekday</th>\n",
       "      <th>weekend</th>\n",
       "      <th>holiday</th>\n",
       "      <th>user_card_id</th>\n",
       "      <th>vhc_id</th>\n",
       "      <th>geton_station_code</th>\n",
       "      <th>getoff_station_code</th>\n",
       "      <th>user_count</th>\n",
       "      <th>user_category_1</th>\n",
       "      <th>user_category_2</th>\n",
       "      <th>user_category_4</th>\n",
       "      <th>user_category_6</th>\n",
       "      <th>user_category_27</th>\n",
       "      <th>user_category_28</th>\n",
       "      <th>user_category_29</th>\n",
       "      <th>user_category_30</th>\n",
       "      <th>bus_route_mean</th>\n",
       "      <th>station_code_mean</th>\n",
       "      <th>station_name_mean</th>\n",
       "      <th>school</th>\n",
       "      <th>station</th>\n",
       "    </tr>\n",
       "  </thead>\n",
       "  <tbody>\n",
       "    <tr>\n",
       "      <th>0</th>\n",
       "      <td>0</td>\n",
       "      <td>2019-09-01</td>\n",
       "      <td>0</td>\n",
       "      <td>1</td>\n",
       "      <td>344</td>\n",
       "      <td>제주썬호텔</td>\n",
       "      <td>33.48990</td>\n",
       "      <td>126.49373</td>\n",
       "      <td>0.0</td>\n",
       "      <td>1.0</td>\n",
       "      <td>2.0</td>\n",
       "      <td>5.0</td>\n",
       "      <td>2.0</td>\n",
       "      <td>6.0</td>\n",
       "      <td>0.0</td>\n",
       "      <td>0.0</td>\n",
       "      <td>0.0</td>\n",
       "      <td>0.0</td>\n",
       "      <td>0.0</td>\n",
       "      <td>0.0</td>\n",
       "      <td>0.0</td>\n",
       "      <td>1</td>\n",
       "      <td>6</td>\n",
       "      <td>0</td>\n",
       "      <td>0</td>\n",
       "      <td>1.809033e+19</td>\n",
       "      <td>7.606525e+11</td>\n",
       "      <td>7343771.0</td>\n",
       "      <td>5385456.0</td>\n",
       "      <td>5078.0</td>\n",
       "      <td>5014.0</td>\n",
       "      <td>37.0</td>\n",
       "      <td>27.0</td>\n",
       "      <td>0.0</td>\n",
       "      <td>0.0</td>\n",
       "      <td>0.0</td>\n",
       "      <td>0.0</td>\n",
       "      <td>0.0</td>\n",
       "      <td>3.104381</td>\n",
       "      <td>1.466667</td>\n",
       "      <td>0.964286</td>\n",
       "      <td>0</td>\n",
       "      <td>0</td>\n",
       "    </tr>\n",
       "    <tr>\n",
       "      <th>1</th>\n",
       "      <td>1</td>\n",
       "      <td>2019-09-01</td>\n",
       "      <td>0</td>\n",
       "      <td>1</td>\n",
       "      <td>357</td>\n",
       "      <td>한라병원</td>\n",
       "      <td>33.48944</td>\n",
       "      <td>126.48508</td>\n",
       "      <td>1.0</td>\n",
       "      <td>4.0</td>\n",
       "      <td>4.0</td>\n",
       "      <td>2.0</td>\n",
       "      <td>5.0</td>\n",
       "      <td>6.0</td>\n",
       "      <td>0.0</td>\n",
       "      <td>0.0</td>\n",
       "      <td>0.0</td>\n",
       "      <td>0.0</td>\n",
       "      <td>0.0</td>\n",
       "      <td>0.0</td>\n",
       "      <td>5.0</td>\n",
       "      <td>1</td>\n",
       "      <td>6</td>\n",
       "      <td>0</td>\n",
       "      <td>0</td>\n",
       "      <td>1.809033e+19</td>\n",
       "      <td>7.606525e+11</td>\n",
       "      <td>7343771.0</td>\n",
       "      <td>5385456.0</td>\n",
       "      <td>5078.0</td>\n",
       "      <td>5014.0</td>\n",
       "      <td>37.0</td>\n",
       "      <td>27.0</td>\n",
       "      <td>0.0</td>\n",
       "      <td>0.0</td>\n",
       "      <td>0.0</td>\n",
       "      <td>0.0</td>\n",
       "      <td>0.0</td>\n",
       "      <td>3.104381</td>\n",
       "      <td>4.178218</td>\n",
       "      <td>4.462080</td>\n",
       "      <td>0</td>\n",
       "      <td>0</td>\n",
       "    </tr>\n",
       "    <tr>\n",
       "      <th>2</th>\n",
       "      <td>2</td>\n",
       "      <td>2019-09-01</td>\n",
       "      <td>0</td>\n",
       "      <td>1</td>\n",
       "      <td>432</td>\n",
       "      <td>정존마을</td>\n",
       "      <td>33.48181</td>\n",
       "      <td>126.47352</td>\n",
       "      <td>1.0</td>\n",
       "      <td>1.0</td>\n",
       "      <td>0.0</td>\n",
       "      <td>2.0</td>\n",
       "      <td>0.0</td>\n",
       "      <td>0.0</td>\n",
       "      <td>0.0</td>\n",
       "      <td>0.0</td>\n",
       "      <td>0.0</td>\n",
       "      <td>0.0</td>\n",
       "      <td>0.0</td>\n",
       "      <td>0.0</td>\n",
       "      <td>2.0</td>\n",
       "      <td>1</td>\n",
       "      <td>6</td>\n",
       "      <td>0</td>\n",
       "      <td>0</td>\n",
       "      <td>1.809033e+19</td>\n",
       "      <td>7.606525e+11</td>\n",
       "      <td>7343771.0</td>\n",
       "      <td>5385456.0</td>\n",
       "      <td>5078.0</td>\n",
       "      <td>5014.0</td>\n",
       "      <td>37.0</td>\n",
       "      <td>27.0</td>\n",
       "      <td>0.0</td>\n",
       "      <td>0.0</td>\n",
       "      <td>0.0</td>\n",
       "      <td>0.0</td>\n",
       "      <td>0.0</td>\n",
       "      <td>3.104381</td>\n",
       "      <td>2.169559</td>\n",
       "      <td>1.843810</td>\n",
       "      <td>0</td>\n",
       "      <td>0</td>\n",
       "    </tr>\n",
       "    <tr>\n",
       "      <th>415420</th>\n",
       "      <td>415420</td>\n",
       "      <td>2019-09-30</td>\n",
       "      <td>612</td>\n",
       "      <td>0</td>\n",
       "      <td>2322</td>\n",
       "      <td>해병부대</td>\n",
       "      <td>33.23100</td>\n",
       "      <td>126.26273</td>\n",
       "      <td>0.0</td>\n",
       "      <td>0.0</td>\n",
       "      <td>0.0</td>\n",
       "      <td>0.0</td>\n",
       "      <td>0.0</td>\n",
       "      <td>0.0</td>\n",
       "      <td>0.0</td>\n",
       "      <td>1.0</td>\n",
       "      <td>0.0</td>\n",
       "      <td>0.0</td>\n",
       "      <td>0.0</td>\n",
       "      <td>0.0</td>\n",
       "      <td>0.0</td>\n",
       "      <td>30</td>\n",
       "      <td>0</td>\n",
       "      <td>1</td>\n",
       "      <td>0</td>\n",
       "      <td>5.773668e+17</td>\n",
       "      <td>2.426649e+10</td>\n",
       "      <td>172167.0</td>\n",
       "      <td>263075189.0</td>\n",
       "      <td>162.0</td>\n",
       "      <td>139.0</td>\n",
       "      <td>0.0</td>\n",
       "      <td>23.0</td>\n",
       "      <td>0.0</td>\n",
       "      <td>0.0</td>\n",
       "      <td>0.0</td>\n",
       "      <td>0.0</td>\n",
       "      <td>0.0</td>\n",
       "      <td>0.000000</td>\n",
       "      <td>0.320652</td>\n",
       "      <td>0.320652</td>\n",
       "      <td>0</td>\n",
       "      <td>0</td>\n",
       "    </tr>\n",
       "    <tr>\n",
       "      <th>415421</th>\n",
       "      <td>415421</td>\n",
       "      <td>2019-09-30</td>\n",
       "      <td>612</td>\n",
       "      <td>0</td>\n",
       "      <td>3291</td>\n",
       "      <td>애월환승정류장(애월리)</td>\n",
       "      <td>33.46483</td>\n",
       "      <td>126.31870</td>\n",
       "      <td>1.0</td>\n",
       "      <td>0.0</td>\n",
       "      <td>0.0</td>\n",
       "      <td>0.0</td>\n",
       "      <td>0.0</td>\n",
       "      <td>0.0</td>\n",
       "      <td>0.0</td>\n",
       "      <td>0.0</td>\n",
       "      <td>0.0</td>\n",
       "      <td>0.0</td>\n",
       "      <td>0.0</td>\n",
       "      <td>0.0</td>\n",
       "      <td>0.0</td>\n",
       "      <td>30</td>\n",
       "      <td>0</td>\n",
       "      <td>1</td>\n",
       "      <td>0</td>\n",
       "      <td>5.773668e+17</td>\n",
       "      <td>2.426649e+10</td>\n",
       "      <td>172167.0</td>\n",
       "      <td>263075189.0</td>\n",
       "      <td>162.0</td>\n",
       "      <td>139.0</td>\n",
       "      <td>0.0</td>\n",
       "      <td>23.0</td>\n",
       "      <td>0.0</td>\n",
       "      <td>0.0</td>\n",
       "      <td>0.0</td>\n",
       "      <td>0.0</td>\n",
       "      <td>0.0</td>\n",
       "      <td>0.000000</td>\n",
       "      <td>1.333333</td>\n",
       "      <td>1.111399</td>\n",
       "      <td>0</td>\n",
       "      <td>1</td>\n",
       "    </tr>\n",
       "    <tr>\n",
       "      <th>415422</th>\n",
       "      <td>415422</td>\n",
       "      <td>2019-09-30</td>\n",
       "      <td>612</td>\n",
       "      <td>0</td>\n",
       "      <td>6115100</td>\n",
       "      <td>서귀포시외버스터미널</td>\n",
       "      <td>33.24873</td>\n",
       "      <td>126.50799</td>\n",
       "      <td>0.0</td>\n",
       "      <td>0.0</td>\n",
       "      <td>0.0</td>\n",
       "      <td>0.0</td>\n",
       "      <td>0.0</td>\n",
       "      <td>0.0</td>\n",
       "      <td>0.0</td>\n",
       "      <td>0.0</td>\n",
       "      <td>4.0</td>\n",
       "      <td>0.0</td>\n",
       "      <td>0.0</td>\n",
       "      <td>0.0</td>\n",
       "      <td>0.0</td>\n",
       "      <td>30</td>\n",
       "      <td>0</td>\n",
       "      <td>1</td>\n",
       "      <td>0</td>\n",
       "      <td>5.773668e+17</td>\n",
       "      <td>2.426649e+10</td>\n",
       "      <td>172167.0</td>\n",
       "      <td>263075189.0</td>\n",
       "      <td>162.0</td>\n",
       "      <td>139.0</td>\n",
       "      <td>0.0</td>\n",
       "      <td>23.0</td>\n",
       "      <td>0.0</td>\n",
       "      <td>0.0</td>\n",
       "      <td>0.0</td>\n",
       "      <td>0.0</td>\n",
       "      <td>0.0</td>\n",
       "      <td>0.000000</td>\n",
       "      <td>0.188636</td>\n",
       "      <td>0.188636</td>\n",
       "      <td>0</td>\n",
       "      <td>1</td>\n",
       "    </tr>\n",
       "  </tbody>\n",
       "</table>\n",
       "</div>"
      ],
      "text/plain": [
       "            id       date  bus_route_id  in_out  station_code  station_name  \\\n",
       "0            0 2019-09-01             0       1           344         제주썬호텔   \n",
       "1            1 2019-09-01             0       1           357          한라병원   \n",
       "2            2 2019-09-01             0       1           432          정존마을   \n",
       "415420  415420 2019-09-30           612       0          2322          해병부대   \n",
       "415421  415421 2019-09-30           612       0          3291  애월환승정류장(애월리)   \n",
       "415422  415422 2019-09-30           612       0       6115100    서귀포시외버스터미널   \n",
       "\n",
       "        latitude  longitude  6~7_ride  7~8_ride  8~9_ride  9~10_ride  \\\n",
       "0       33.48990  126.49373       0.0       1.0       2.0        5.0   \n",
       "1       33.48944  126.48508       1.0       4.0       4.0        2.0   \n",
       "2       33.48181  126.47352       1.0       1.0       0.0        2.0   \n",
       "415420  33.23100  126.26273       0.0       0.0       0.0        0.0   \n",
       "415421  33.46483  126.31870       1.0       0.0       0.0        0.0   \n",
       "415422  33.24873  126.50799       0.0       0.0       0.0        0.0   \n",
       "\n",
       "        10~11_ride  11~12_ride  6~7_takeoff  7~8_takeoff  8~9_takeoff  \\\n",
       "0              2.0         6.0          0.0          0.0          0.0   \n",
       "1              5.0         6.0          0.0          0.0          0.0   \n",
       "2              0.0         0.0          0.0          0.0          0.0   \n",
       "415420         0.0         0.0          0.0          1.0          0.0   \n",
       "415421         0.0         0.0          0.0          0.0          0.0   \n",
       "415422         0.0         0.0          0.0          0.0          4.0   \n",
       "\n",
       "        9~10_takeoff  10~11_takeoff  11~12_takeoff  18~20_ride  day  weekday  \\\n",
       "0                0.0            0.0            0.0         0.0    1        6   \n",
       "1                0.0            0.0            0.0         5.0    1        6   \n",
       "2                0.0            0.0            0.0         2.0    1        6   \n",
       "415420           0.0            0.0            0.0         0.0   30        0   \n",
       "415421           0.0            0.0            0.0         0.0   30        0   \n",
       "415422           0.0            0.0            0.0         0.0   30        0   \n",
       "\n",
       "        weekend  holiday  user_card_id        vhc_id  geton_station_code  \\\n",
       "0             0        0  1.809033e+19  7.606525e+11           7343771.0   \n",
       "1             0        0  1.809033e+19  7.606525e+11           7343771.0   \n",
       "2             0        0  1.809033e+19  7.606525e+11           7343771.0   \n",
       "415420        1        0  5.773668e+17  2.426649e+10            172167.0   \n",
       "415421        1        0  5.773668e+17  2.426649e+10            172167.0   \n",
       "415422        1        0  5.773668e+17  2.426649e+10            172167.0   \n",
       "\n",
       "        getoff_station_code  user_count  user_category_1  user_category_2  \\\n",
       "0                 5385456.0      5078.0           5014.0             37.0   \n",
       "1                 5385456.0      5078.0           5014.0             37.0   \n",
       "2                 5385456.0      5078.0           5014.0             37.0   \n",
       "415420          263075189.0       162.0            139.0              0.0   \n",
       "415421          263075189.0       162.0            139.0              0.0   \n",
       "415422          263075189.0       162.0            139.0              0.0   \n",
       "\n",
       "        user_category_4  user_category_6  user_category_27  user_category_28  \\\n",
       "0                  27.0              0.0               0.0               0.0   \n",
       "1                  27.0              0.0               0.0               0.0   \n",
       "2                  27.0              0.0               0.0               0.0   \n",
       "415420             23.0              0.0               0.0               0.0   \n",
       "415421             23.0              0.0               0.0               0.0   \n",
       "415422             23.0              0.0               0.0               0.0   \n",
       "\n",
       "        user_category_29  user_category_30  bus_route_mean  station_code_mean  \\\n",
       "0                    0.0               0.0        3.104381           1.466667   \n",
       "1                    0.0               0.0        3.104381           4.178218   \n",
       "2                    0.0               0.0        3.104381           2.169559   \n",
       "415420               0.0               0.0        0.000000           0.320652   \n",
       "415421               0.0               0.0        0.000000           1.333333   \n",
       "415422               0.0               0.0        0.000000           0.188636   \n",
       "\n",
       "        station_name_mean  school  station  \n",
       "0                0.964286       0        0  \n",
       "1                4.462080       0        0  \n",
       "2                1.843810       0        0  \n",
       "415420           0.320652       0        0  \n",
       "415421           1.111399       0        1  \n",
       "415422           0.188636       0        1  "
      ]
     },
     "metadata": {},
     "output_type": "display_data"
    },
    {
     "name": "stdout",
     "output_type": "stream",
     "text": [
      "Number of missing values:\n",
      " id                     0\n",
      "date                   0\n",
      "bus_route_id           0\n",
      "in_out                 0\n",
      "station_code           0\n",
      "station_name           0\n",
      "latitude               0\n",
      "longitude              0\n",
      "6~7_ride               0\n",
      "7~8_ride               0\n",
      "8~9_ride               0\n",
      "9~10_ride              0\n",
      "10~11_ride             0\n",
      "11~12_ride             0\n",
      "6~7_takeoff            0\n",
      "7~8_takeoff            0\n",
      "8~9_takeoff            0\n",
      "9~10_takeoff           0\n",
      "10~11_takeoff          0\n",
      "11~12_takeoff          0\n",
      "18~20_ride             0\n",
      "day                    0\n",
      "weekday                0\n",
      "weekend                0\n",
      "holiday                0\n",
      "user_card_id           0\n",
      "vhc_id                 0\n",
      "geton_station_code     0\n",
      "getoff_station_code    0\n",
      "user_count             0\n",
      "user_category_1        0\n",
      "user_category_2        0\n",
      "user_category_4        0\n",
      "user_category_6        0\n",
      "user_category_27       0\n",
      "user_category_28       0\n",
      "user_category_29       0\n",
      "user_category_30       0\n",
      "bus_route_mean         0\n",
      "station_code_mean      0\n",
      "station_name_mean      0\n",
      "school                 0\n",
      "station                0\n",
      "dtype: int64 \n",
      "\n"
     ]
    }
   ],
   "source": [
    "display_data(train, 3)"
   ]
  },
  {
   "cell_type": "markdown",
   "metadata": {},
   "source": [
    "### 6. 최종 전처리 "
   ]
  },
  {
   "cell_type": "markdown",
   "metadata": {},
   "source": [
    "#### 1) 범주형 변수: LabelEncoding"
   ]
  },
  {
   "cell_type": "code",
   "execution_count": 76,
   "metadata": {},
   "outputs": [
    {
     "name": "stdout",
     "output_type": "stream",
     "text": [
      "(415423, 43) (228170, 42)\n"
     ]
    }
   ],
   "source": [
    "cols = ('bus_route_id','station_code', \"geton_station_code\", \"getoff_station_code\")\n",
    "\n",
    "for col in cols: \n",
    "    le = LabelEncoder()\n",
    "    le.fit(list(train[col].values))\n",
    "    train[col] = le.transform(list(train[col].values))    \n",
    "    \n",
    "    le.fit(list(test[col].values))\n",
    "    test[col] = le.transform(list(test[col].values))\n",
    "\n",
    "    \n",
    "print(train.shape, test.shape)"
   ]
  },
  {
   "cell_type": "markdown",
   "metadata": {},
   "source": [
    "#### 2)  id 변수: drop features "
   ]
  },
  {
   "cell_type": "code",
   "execution_count": 80,
   "metadata": {},
   "outputs": [],
   "source": [
    "dropfeatures = [\"id\", \"date\", \"station_name\", \"user_card_id\", \"vhc_id\", \n",
    "               \"latitude\", \"longitude\"]"
   ]
  },
  {
   "cell_type": "code",
   "execution_count": 81,
   "metadata": {},
   "outputs": [],
   "source": [
    "train = train.drop(dropfeatures, axis=1)\n",
    "test = test.drop(dropfeatures, axis=1)"
   ]
  },
  {
   "cell_type": "code",
   "execution_count": 82,
   "metadata": {},
   "outputs": [
    {
     "name": "stdout",
     "output_type": "stream",
     "text": [
      "dataset shape is: (415423, 36)\n"
     ]
    },
    {
     "data": {
      "text/html": [
       "<div>\n",
       "<style scoped>\n",
       "    .dataframe tbody tr th:only-of-type {\n",
       "        vertical-align: middle;\n",
       "    }\n",
       "\n",
       "    .dataframe tbody tr th {\n",
       "        vertical-align: top;\n",
       "    }\n",
       "\n",
       "    .dataframe thead th {\n",
       "        text-align: right;\n",
       "    }\n",
       "</style>\n",
       "<table border=\"1\" class=\"dataframe\">\n",
       "  <thead>\n",
       "    <tr style=\"text-align: right;\">\n",
       "      <th></th>\n",
       "      <th>bus_route_id</th>\n",
       "      <th>in_out</th>\n",
       "      <th>station_code</th>\n",
       "      <th>6~7_ride</th>\n",
       "      <th>7~8_ride</th>\n",
       "      <th>8~9_ride</th>\n",
       "      <th>9~10_ride</th>\n",
       "      <th>10~11_ride</th>\n",
       "      <th>11~12_ride</th>\n",
       "      <th>6~7_takeoff</th>\n",
       "      <th>7~8_takeoff</th>\n",
       "      <th>8~9_takeoff</th>\n",
       "      <th>9~10_takeoff</th>\n",
       "      <th>10~11_takeoff</th>\n",
       "      <th>11~12_takeoff</th>\n",
       "      <th>18~20_ride</th>\n",
       "      <th>day</th>\n",
       "      <th>weekday</th>\n",
       "      <th>weekend</th>\n",
       "      <th>holiday</th>\n",
       "      <th>geton_station_code</th>\n",
       "      <th>getoff_station_code</th>\n",
       "      <th>user_count</th>\n",
       "      <th>user_category_1</th>\n",
       "      <th>user_category_2</th>\n",
       "      <th>user_category_4</th>\n",
       "      <th>user_category_6</th>\n",
       "      <th>user_category_27</th>\n",
       "      <th>user_category_28</th>\n",
       "      <th>user_category_29</th>\n",
       "      <th>user_category_30</th>\n",
       "      <th>bus_route_mean</th>\n",
       "      <th>station_code_mean</th>\n",
       "      <th>station_name_mean</th>\n",
       "      <th>school</th>\n",
       "      <th>station</th>\n",
       "    </tr>\n",
       "  </thead>\n",
       "  <tbody>\n",
       "    <tr>\n",
       "      <th>0</th>\n",
       "      <td>0</td>\n",
       "      <td>1</td>\n",
       "      <td>321</td>\n",
       "      <td>0.0</td>\n",
       "      <td>1.0</td>\n",
       "      <td>2.0</td>\n",
       "      <td>5.0</td>\n",
       "      <td>2.0</td>\n",
       "      <td>6.0</td>\n",
       "      <td>0.0</td>\n",
       "      <td>0.0</td>\n",
       "      <td>0.0</td>\n",
       "      <td>0.0</td>\n",
       "      <td>0.0</td>\n",
       "      <td>0.0</td>\n",
       "      <td>0.0</td>\n",
       "      <td>1</td>\n",
       "      <td>6</td>\n",
       "      <td>0</td>\n",
       "      <td>0</td>\n",
       "      <td>510</td>\n",
       "      <td>499</td>\n",
       "      <td>5078.0</td>\n",
       "      <td>5014.0</td>\n",
       "      <td>37.0</td>\n",
       "      <td>27.0</td>\n",
       "      <td>0.0</td>\n",
       "      <td>0.0</td>\n",
       "      <td>0.0</td>\n",
       "      <td>0.0</td>\n",
       "      <td>0.0</td>\n",
       "      <td>3.104381</td>\n",
       "      <td>1.466667</td>\n",
       "      <td>0.964286</td>\n",
       "      <td>0</td>\n",
       "      <td>0</td>\n",
       "    </tr>\n",
       "    <tr>\n",
       "      <th>1</th>\n",
       "      <td>0</td>\n",
       "      <td>1</td>\n",
       "      <td>334</td>\n",
       "      <td>1.0</td>\n",
       "      <td>4.0</td>\n",
       "      <td>4.0</td>\n",
       "      <td>2.0</td>\n",
       "      <td>5.0</td>\n",
       "      <td>6.0</td>\n",
       "      <td>0.0</td>\n",
       "      <td>0.0</td>\n",
       "      <td>0.0</td>\n",
       "      <td>0.0</td>\n",
       "      <td>0.0</td>\n",
       "      <td>0.0</td>\n",
       "      <td>5.0</td>\n",
       "      <td>1</td>\n",
       "      <td>6</td>\n",
       "      <td>0</td>\n",
       "      <td>0</td>\n",
       "      <td>510</td>\n",
       "      <td>499</td>\n",
       "      <td>5078.0</td>\n",
       "      <td>5014.0</td>\n",
       "      <td>37.0</td>\n",
       "      <td>27.0</td>\n",
       "      <td>0.0</td>\n",
       "      <td>0.0</td>\n",
       "      <td>0.0</td>\n",
       "      <td>0.0</td>\n",
       "      <td>0.0</td>\n",
       "      <td>3.104381</td>\n",
       "      <td>4.178218</td>\n",
       "      <td>4.462080</td>\n",
       "      <td>0</td>\n",
       "      <td>0</td>\n",
       "    </tr>\n",
       "    <tr>\n",
       "      <th>2</th>\n",
       "      <td>0</td>\n",
       "      <td>1</td>\n",
       "      <td>407</td>\n",
       "      <td>1.0</td>\n",
       "      <td>1.0</td>\n",
       "      <td>0.0</td>\n",
       "      <td>2.0</td>\n",
       "      <td>0.0</td>\n",
       "      <td>0.0</td>\n",
       "      <td>0.0</td>\n",
       "      <td>0.0</td>\n",
       "      <td>0.0</td>\n",
       "      <td>0.0</td>\n",
       "      <td>0.0</td>\n",
       "      <td>0.0</td>\n",
       "      <td>2.0</td>\n",
       "      <td>1</td>\n",
       "      <td>6</td>\n",
       "      <td>0</td>\n",
       "      <td>0</td>\n",
       "      <td>510</td>\n",
       "      <td>499</td>\n",
       "      <td>5078.0</td>\n",
       "      <td>5014.0</td>\n",
       "      <td>37.0</td>\n",
       "      <td>27.0</td>\n",
       "      <td>0.0</td>\n",
       "      <td>0.0</td>\n",
       "      <td>0.0</td>\n",
       "      <td>0.0</td>\n",
       "      <td>0.0</td>\n",
       "      <td>3.104381</td>\n",
       "      <td>2.169559</td>\n",
       "      <td>1.843810</td>\n",
       "      <td>0</td>\n",
       "      <td>0</td>\n",
       "    </tr>\n",
       "    <tr>\n",
       "      <th>415420</th>\n",
       "      <td>612</td>\n",
       "      <td>0</td>\n",
       "      <td>2133</td>\n",
       "      <td>0.0</td>\n",
       "      <td>0.0</td>\n",
       "      <td>0.0</td>\n",
       "      <td>0.0</td>\n",
       "      <td>0.0</td>\n",
       "      <td>0.0</td>\n",
       "      <td>0.0</td>\n",
       "      <td>1.0</td>\n",
       "      <td>0.0</td>\n",
       "      <td>0.0</td>\n",
       "      <td>0.0</td>\n",
       "      <td>0.0</td>\n",
       "      <td>0.0</td>\n",
       "      <td>30</td>\n",
       "      <td>0</td>\n",
       "      <td>1</td>\n",
       "      <td>0</td>\n",
       "      <td>99</td>\n",
       "      <td>571</td>\n",
       "      <td>162.0</td>\n",
       "      <td>139.0</td>\n",
       "      <td>0.0</td>\n",
       "      <td>23.0</td>\n",
       "      <td>0.0</td>\n",
       "      <td>0.0</td>\n",
       "      <td>0.0</td>\n",
       "      <td>0.0</td>\n",
       "      <td>0.0</td>\n",
       "      <td>0.000000</td>\n",
       "      <td>0.320652</td>\n",
       "      <td>0.320652</td>\n",
       "      <td>0</td>\n",
       "      <td>0</td>\n",
       "    </tr>\n",
       "    <tr>\n",
       "      <th>415421</th>\n",
       "      <td>612</td>\n",
       "      <td>0</td>\n",
       "      <td>3021</td>\n",
       "      <td>1.0</td>\n",
       "      <td>0.0</td>\n",
       "      <td>0.0</td>\n",
       "      <td>0.0</td>\n",
       "      <td>0.0</td>\n",
       "      <td>0.0</td>\n",
       "      <td>0.0</td>\n",
       "      <td>0.0</td>\n",
       "      <td>0.0</td>\n",
       "      <td>0.0</td>\n",
       "      <td>0.0</td>\n",
       "      <td>0.0</td>\n",
       "      <td>0.0</td>\n",
       "      <td>30</td>\n",
       "      <td>0</td>\n",
       "      <td>1</td>\n",
       "      <td>0</td>\n",
       "      <td>99</td>\n",
       "      <td>571</td>\n",
       "      <td>162.0</td>\n",
       "      <td>139.0</td>\n",
       "      <td>0.0</td>\n",
       "      <td>23.0</td>\n",
       "      <td>0.0</td>\n",
       "      <td>0.0</td>\n",
       "      <td>0.0</td>\n",
       "      <td>0.0</td>\n",
       "      <td>0.0</td>\n",
       "      <td>0.000000</td>\n",
       "      <td>1.333333</td>\n",
       "      <td>1.111399</td>\n",
       "      <td>0</td>\n",
       "      <td>1</td>\n",
       "    </tr>\n",
       "    <tr>\n",
       "      <th>415422</th>\n",
       "      <td>612</td>\n",
       "      <td>0</td>\n",
       "      <td>3561</td>\n",
       "      <td>0.0</td>\n",
       "      <td>0.0</td>\n",
       "      <td>0.0</td>\n",
       "      <td>0.0</td>\n",
       "      <td>0.0</td>\n",
       "      <td>0.0</td>\n",
       "      <td>0.0</td>\n",
       "      <td>0.0</td>\n",
       "      <td>4.0</td>\n",
       "      <td>0.0</td>\n",
       "      <td>0.0</td>\n",
       "      <td>0.0</td>\n",
       "      <td>0.0</td>\n",
       "      <td>30</td>\n",
       "      <td>0</td>\n",
       "      <td>1</td>\n",
       "      <td>0</td>\n",
       "      <td>99</td>\n",
       "      <td>571</td>\n",
       "      <td>162.0</td>\n",
       "      <td>139.0</td>\n",
       "      <td>0.0</td>\n",
       "      <td>23.0</td>\n",
       "      <td>0.0</td>\n",
       "      <td>0.0</td>\n",
       "      <td>0.0</td>\n",
       "      <td>0.0</td>\n",
       "      <td>0.0</td>\n",
       "      <td>0.000000</td>\n",
       "      <td>0.188636</td>\n",
       "      <td>0.188636</td>\n",
       "      <td>0</td>\n",
       "      <td>1</td>\n",
       "    </tr>\n",
       "  </tbody>\n",
       "</table>\n",
       "</div>"
      ],
      "text/plain": [
       "        bus_route_id  in_out  station_code  6~7_ride  7~8_ride  8~9_ride  \\\n",
       "0                  0       1           321       0.0       1.0       2.0   \n",
       "1                  0       1           334       1.0       4.0       4.0   \n",
       "2                  0       1           407       1.0       1.0       0.0   \n",
       "415420           612       0          2133       0.0       0.0       0.0   \n",
       "415421           612       0          3021       1.0       0.0       0.0   \n",
       "415422           612       0          3561       0.0       0.0       0.0   \n",
       "\n",
       "        9~10_ride  10~11_ride  11~12_ride  6~7_takeoff  7~8_takeoff  \\\n",
       "0             5.0         2.0         6.0          0.0          0.0   \n",
       "1             2.0         5.0         6.0          0.0          0.0   \n",
       "2             2.0         0.0         0.0          0.0          0.0   \n",
       "415420        0.0         0.0         0.0          0.0          1.0   \n",
       "415421        0.0         0.0         0.0          0.0          0.0   \n",
       "415422        0.0         0.0         0.0          0.0          0.0   \n",
       "\n",
       "        8~9_takeoff  9~10_takeoff  10~11_takeoff  11~12_takeoff  18~20_ride  \\\n",
       "0               0.0           0.0            0.0            0.0         0.0   \n",
       "1               0.0           0.0            0.0            0.0         5.0   \n",
       "2               0.0           0.0            0.0            0.0         2.0   \n",
       "415420          0.0           0.0            0.0            0.0         0.0   \n",
       "415421          0.0           0.0            0.0            0.0         0.0   \n",
       "415422          4.0           0.0            0.0            0.0         0.0   \n",
       "\n",
       "        day  weekday  weekend  holiday  geton_station_code  \\\n",
       "0         1        6        0        0                 510   \n",
       "1         1        6        0        0                 510   \n",
       "2         1        6        0        0                 510   \n",
       "415420   30        0        1        0                  99   \n",
       "415421   30        0        1        0                  99   \n",
       "415422   30        0        1        0                  99   \n",
       "\n",
       "        getoff_station_code  user_count  user_category_1  user_category_2  \\\n",
       "0                       499      5078.0           5014.0             37.0   \n",
       "1                       499      5078.0           5014.0             37.0   \n",
       "2                       499      5078.0           5014.0             37.0   \n",
       "415420                  571       162.0            139.0              0.0   \n",
       "415421                  571       162.0            139.0              0.0   \n",
       "415422                  571       162.0            139.0              0.0   \n",
       "\n",
       "        user_category_4  user_category_6  user_category_27  user_category_28  \\\n",
       "0                  27.0              0.0               0.0               0.0   \n",
       "1                  27.0              0.0               0.0               0.0   \n",
       "2                  27.0              0.0               0.0               0.0   \n",
       "415420             23.0              0.0               0.0               0.0   \n",
       "415421             23.0              0.0               0.0               0.0   \n",
       "415422             23.0              0.0               0.0               0.0   \n",
       "\n",
       "        user_category_29  user_category_30  bus_route_mean  station_code_mean  \\\n",
       "0                    0.0               0.0        3.104381           1.466667   \n",
       "1                    0.0               0.0        3.104381           4.178218   \n",
       "2                    0.0               0.0        3.104381           2.169559   \n",
       "415420               0.0               0.0        0.000000           0.320652   \n",
       "415421               0.0               0.0        0.000000           1.333333   \n",
       "415422               0.0               0.0        0.000000           0.188636   \n",
       "\n",
       "        station_name_mean  school  station  \n",
       "0                0.964286       0        0  \n",
       "1                4.462080       0        0  \n",
       "2                1.843810       0        0  \n",
       "415420           0.320652       0        0  \n",
       "415421           1.111399       0        1  \n",
       "415422           0.188636       0        1  "
      ]
     },
     "metadata": {},
     "output_type": "display_data"
    },
    {
     "name": "stdout",
     "output_type": "stream",
     "text": [
      "Number of missing values:\n",
      " bus_route_id           0\n",
      "in_out                 0\n",
      "station_code           0\n",
      "6~7_ride               0\n",
      "7~8_ride               0\n",
      "8~9_ride               0\n",
      "9~10_ride              0\n",
      "10~11_ride             0\n",
      "11~12_ride             0\n",
      "6~7_takeoff            0\n",
      "7~8_takeoff            0\n",
      "8~9_takeoff            0\n",
      "9~10_takeoff           0\n",
      "10~11_takeoff          0\n",
      "11~12_takeoff          0\n",
      "18~20_ride             0\n",
      "day                    0\n",
      "weekday                0\n",
      "weekend                0\n",
      "holiday                0\n",
      "geton_station_code     0\n",
      "getoff_station_code    0\n",
      "user_count             0\n",
      "user_category_1        0\n",
      "user_category_2        0\n",
      "user_category_4        0\n",
      "user_category_6        0\n",
      "user_category_27       0\n",
      "user_category_28       0\n",
      "user_category_29       0\n",
      "user_category_30       0\n",
      "bus_route_mean         0\n",
      "station_code_mean      0\n",
      "station_name_mean      0\n",
      "school                 0\n",
      "station                0\n",
      "dtype: int64 \n",
      "\n"
     ]
    }
   ],
   "source": [
    "display_data(train, 3)"
   ]
  },
  {
   "cell_type": "code",
   "execution_count": 83,
   "metadata": {},
   "outputs": [
    {
     "name": "stdout",
     "output_type": "stream",
     "text": [
      "dataset shape is: (228170, 35)\n"
     ]
    },
    {
     "data": {
      "text/html": [
       "<div>\n",
       "<style scoped>\n",
       "    .dataframe tbody tr th:only-of-type {\n",
       "        vertical-align: middle;\n",
       "    }\n",
       "\n",
       "    .dataframe tbody tr th {\n",
       "        vertical-align: top;\n",
       "    }\n",
       "\n",
       "    .dataframe thead th {\n",
       "        text-align: right;\n",
       "    }\n",
       "</style>\n",
       "<table border=\"1\" class=\"dataframe\">\n",
       "  <thead>\n",
       "    <tr style=\"text-align: right;\">\n",
       "      <th></th>\n",
       "      <th>bus_route_id</th>\n",
       "      <th>in_out</th>\n",
       "      <th>station_code</th>\n",
       "      <th>6~7_ride</th>\n",
       "      <th>7~8_ride</th>\n",
       "      <th>8~9_ride</th>\n",
       "      <th>9~10_ride</th>\n",
       "      <th>10~11_ride</th>\n",
       "      <th>11~12_ride</th>\n",
       "      <th>6~7_takeoff</th>\n",
       "      <th>7~8_takeoff</th>\n",
       "      <th>8~9_takeoff</th>\n",
       "      <th>9~10_takeoff</th>\n",
       "      <th>10~11_takeoff</th>\n",
       "      <th>11~12_takeoff</th>\n",
       "      <th>day</th>\n",
       "      <th>weekday</th>\n",
       "      <th>weekend</th>\n",
       "      <th>holiday</th>\n",
       "      <th>geton_station_code</th>\n",
       "      <th>getoff_station_code</th>\n",
       "      <th>user_count</th>\n",
       "      <th>user_category_1</th>\n",
       "      <th>user_category_2</th>\n",
       "      <th>user_category_4</th>\n",
       "      <th>user_category_6</th>\n",
       "      <th>user_category_27</th>\n",
       "      <th>user_category_28</th>\n",
       "      <th>user_category_29</th>\n",
       "      <th>user_category_30</th>\n",
       "      <th>bus_route_mean</th>\n",
       "      <th>station_code_mean</th>\n",
       "      <th>station_name_mean</th>\n",
       "      <th>school</th>\n",
       "      <th>station</th>\n",
       "    </tr>\n",
       "  </thead>\n",
       "  <tbody>\n",
       "    <tr>\n",
       "      <th>0</th>\n",
       "      <td>0</td>\n",
       "      <td>1</td>\n",
       "      <td>322</td>\n",
       "      <td>4.0</td>\n",
       "      <td>4.0</td>\n",
       "      <td>7.0</td>\n",
       "      <td>2.0</td>\n",
       "      <td>9.0</td>\n",
       "      <td>1.0</td>\n",
       "      <td>0.0</td>\n",
       "      <td>0.0</td>\n",
       "      <td>0.0</td>\n",
       "      <td>0.0</td>\n",
       "      <td>0.0</td>\n",
       "      <td>1.0</td>\n",
       "      <td>1</td>\n",
       "      <td>1</td>\n",
       "      <td>1</td>\n",
       "      <td>0</td>\n",
       "      <td>502</td>\n",
       "      <td>489</td>\n",
       "      <td>3190.0</td>\n",
       "      <td>3144.0</td>\n",
       "      <td>35.0</td>\n",
       "      <td>11.0</td>\n",
       "      <td>0.0</td>\n",
       "      <td>0.0</td>\n",
       "      <td>0.0</td>\n",
       "      <td>0.0</td>\n",
       "      <td>0.0</td>\n",
       "      <td>3.104381</td>\n",
       "      <td>1.466667</td>\n",
       "      <td>0.964286</td>\n",
       "      <td>0</td>\n",
       "      <td>0</td>\n",
       "    </tr>\n",
       "    <tr>\n",
       "      <th>1</th>\n",
       "      <td>0</td>\n",
       "      <td>1</td>\n",
       "      <td>335</td>\n",
       "      <td>1.0</td>\n",
       "      <td>6.0</td>\n",
       "      <td>6.0</td>\n",
       "      <td>1.0</td>\n",
       "      <td>8.0</td>\n",
       "      <td>11.0</td>\n",
       "      <td>0.0</td>\n",
       "      <td>0.0</td>\n",
       "      <td>0.0</td>\n",
       "      <td>0.0</td>\n",
       "      <td>0.0</td>\n",
       "      <td>0.0</td>\n",
       "      <td>1</td>\n",
       "      <td>1</td>\n",
       "      <td>1</td>\n",
       "      <td>0</td>\n",
       "      <td>502</td>\n",
       "      <td>489</td>\n",
       "      <td>3190.0</td>\n",
       "      <td>3144.0</td>\n",
       "      <td>35.0</td>\n",
       "      <td>11.0</td>\n",
       "      <td>0.0</td>\n",
       "      <td>0.0</td>\n",
       "      <td>0.0</td>\n",
       "      <td>0.0</td>\n",
       "      <td>0.0</td>\n",
       "      <td>3.104381</td>\n",
       "      <td>4.178218</td>\n",
       "      <td>4.462080</td>\n",
       "      <td>0</td>\n",
       "      <td>0</td>\n",
       "    </tr>\n",
       "    <tr>\n",
       "      <th>2</th>\n",
       "      <td>0</td>\n",
       "      <td>1</td>\n",
       "      <td>408</td>\n",
       "      <td>2.0</td>\n",
       "      <td>4.0</td>\n",
       "      <td>2.0</td>\n",
       "      <td>2.0</td>\n",
       "      <td>2.0</td>\n",
       "      <td>1.0</td>\n",
       "      <td>0.0</td>\n",
       "      <td>0.0</td>\n",
       "      <td>0.0</td>\n",
       "      <td>0.0</td>\n",
       "      <td>0.0</td>\n",
       "      <td>0.0</td>\n",
       "      <td>1</td>\n",
       "      <td>1</td>\n",
       "      <td>1</td>\n",
       "      <td>0</td>\n",
       "      <td>502</td>\n",
       "      <td>489</td>\n",
       "      <td>3190.0</td>\n",
       "      <td>3144.0</td>\n",
       "      <td>35.0</td>\n",
       "      <td>11.0</td>\n",
       "      <td>0.0</td>\n",
       "      <td>0.0</td>\n",
       "      <td>0.0</td>\n",
       "      <td>0.0</td>\n",
       "      <td>0.0</td>\n",
       "      <td>3.104381</td>\n",
       "      <td>2.169559</td>\n",
       "      <td>1.843810</td>\n",
       "      <td>0</td>\n",
       "      <td>0</td>\n",
       "    </tr>\n",
       "    <tr>\n",
       "      <th>228167</th>\n",
       "      <td>600</td>\n",
       "      <td>0</td>\n",
       "      <td>1035</td>\n",
       "      <td>3.0</td>\n",
       "      <td>0.0</td>\n",
       "      <td>0.0</td>\n",
       "      <td>0.0</td>\n",
       "      <td>0.0</td>\n",
       "      <td>0.0</td>\n",
       "      <td>0.0</td>\n",
       "      <td>0.0</td>\n",
       "      <td>0.0</td>\n",
       "      <td>0.0</td>\n",
       "      <td>0.0</td>\n",
       "      <td>0.0</td>\n",
       "      <td>16</td>\n",
       "      <td>2</td>\n",
       "      <td>1</td>\n",
       "      <td>0</td>\n",
       "      <td>106</td>\n",
       "      <td>562</td>\n",
       "      <td>110.0</td>\n",
       "      <td>96.0</td>\n",
       "      <td>0.0</td>\n",
       "      <td>14.0</td>\n",
       "      <td>0.0</td>\n",
       "      <td>0.0</td>\n",
       "      <td>0.0</td>\n",
       "      <td>0.0</td>\n",
       "      <td>0.0</td>\n",
       "      <td>0.000000</td>\n",
       "      <td>2.393089</td>\n",
       "      <td>2.307617</td>\n",
       "      <td>0</td>\n",
       "      <td>1</td>\n",
       "    </tr>\n",
       "    <tr>\n",
       "      <th>228168</th>\n",
       "      <td>600</td>\n",
       "      <td>0</td>\n",
       "      <td>1418</td>\n",
       "      <td>3.0</td>\n",
       "      <td>0.0</td>\n",
       "      <td>0.0</td>\n",
       "      <td>0.0</td>\n",
       "      <td>0.0</td>\n",
       "      <td>0.0</td>\n",
       "      <td>0.0</td>\n",
       "      <td>0.0</td>\n",
       "      <td>0.0</td>\n",
       "      <td>0.0</td>\n",
       "      <td>0.0</td>\n",
       "      <td>0.0</td>\n",
       "      <td>16</td>\n",
       "      <td>2</td>\n",
       "      <td>1</td>\n",
       "      <td>0</td>\n",
       "      <td>106</td>\n",
       "      <td>562</td>\n",
       "      <td>110.0</td>\n",
       "      <td>96.0</td>\n",
       "      <td>0.0</td>\n",
       "      <td>14.0</td>\n",
       "      <td>0.0</td>\n",
       "      <td>0.0</td>\n",
       "      <td>0.0</td>\n",
       "      <td>0.0</td>\n",
       "      <td>0.0</td>\n",
       "      <td>0.000000</td>\n",
       "      <td>7.726008</td>\n",
       "      <td>7.485333</td>\n",
       "      <td>0</td>\n",
       "      <td>1</td>\n",
       "    </tr>\n",
       "    <tr>\n",
       "      <th>228169</th>\n",
       "      <td>600</td>\n",
       "      <td>0</td>\n",
       "      <td>3503</td>\n",
       "      <td>0.0</td>\n",
       "      <td>0.0</td>\n",
       "      <td>0.0</td>\n",
       "      <td>0.0</td>\n",
       "      <td>0.0</td>\n",
       "      <td>0.0</td>\n",
       "      <td>0.0</td>\n",
       "      <td>0.0</td>\n",
       "      <td>3.0</td>\n",
       "      <td>0.0</td>\n",
       "      <td>0.0</td>\n",
       "      <td>0.0</td>\n",
       "      <td>16</td>\n",
       "      <td>2</td>\n",
       "      <td>1</td>\n",
       "      <td>0</td>\n",
       "      <td>106</td>\n",
       "      <td>562</td>\n",
       "      <td>110.0</td>\n",
       "      <td>96.0</td>\n",
       "      <td>0.0</td>\n",
       "      <td>14.0</td>\n",
       "      <td>0.0</td>\n",
       "      <td>0.0</td>\n",
       "      <td>0.0</td>\n",
       "      <td>0.0</td>\n",
       "      <td>0.0</td>\n",
       "      <td>0.000000</td>\n",
       "      <td>0.188636</td>\n",
       "      <td>0.188636</td>\n",
       "      <td>0</td>\n",
       "      <td>1</td>\n",
       "    </tr>\n",
       "  </tbody>\n",
       "</table>\n",
       "</div>"
      ],
      "text/plain": [
       "        bus_route_id  in_out  station_code  6~7_ride  7~8_ride  8~9_ride  \\\n",
       "0                  0       1           322       4.0       4.0       7.0   \n",
       "1                  0       1           335       1.0       6.0       6.0   \n",
       "2                  0       1           408       2.0       4.0       2.0   \n",
       "228167           600       0          1035       3.0       0.0       0.0   \n",
       "228168           600       0          1418       3.0       0.0       0.0   \n",
       "228169           600       0          3503       0.0       0.0       0.0   \n",
       "\n",
       "        9~10_ride  10~11_ride  11~12_ride  6~7_takeoff  7~8_takeoff  \\\n",
       "0             2.0         9.0         1.0          0.0          0.0   \n",
       "1             1.0         8.0        11.0          0.0          0.0   \n",
       "2             2.0         2.0         1.0          0.0          0.0   \n",
       "228167        0.0         0.0         0.0          0.0          0.0   \n",
       "228168        0.0         0.0         0.0          0.0          0.0   \n",
       "228169        0.0         0.0         0.0          0.0          0.0   \n",
       "\n",
       "        8~9_takeoff  9~10_takeoff  10~11_takeoff  11~12_takeoff  day  weekday  \\\n",
       "0               0.0           0.0            0.0            1.0    1        1   \n",
       "1               0.0           0.0            0.0            0.0    1        1   \n",
       "2               0.0           0.0            0.0            0.0    1        1   \n",
       "228167          0.0           0.0            0.0            0.0   16        2   \n",
       "228168          0.0           0.0            0.0            0.0   16        2   \n",
       "228169          3.0           0.0            0.0            0.0   16        2   \n",
       "\n",
       "        weekend  holiday  geton_station_code  getoff_station_code  user_count  \\\n",
       "0             1        0                 502                  489      3190.0   \n",
       "1             1        0                 502                  489      3190.0   \n",
       "2             1        0                 502                  489      3190.0   \n",
       "228167        1        0                 106                  562       110.0   \n",
       "228168        1        0                 106                  562       110.0   \n",
       "228169        1        0                 106                  562       110.0   \n",
       "\n",
       "        user_category_1  user_category_2  user_category_4  user_category_6  \\\n",
       "0                3144.0             35.0             11.0              0.0   \n",
       "1                3144.0             35.0             11.0              0.0   \n",
       "2                3144.0             35.0             11.0              0.0   \n",
       "228167             96.0              0.0             14.0              0.0   \n",
       "228168             96.0              0.0             14.0              0.0   \n",
       "228169             96.0              0.0             14.0              0.0   \n",
       "\n",
       "        user_category_27  user_category_28  user_category_29  \\\n",
       "0                    0.0               0.0               0.0   \n",
       "1                    0.0               0.0               0.0   \n",
       "2                    0.0               0.0               0.0   \n",
       "228167               0.0               0.0               0.0   \n",
       "228168               0.0               0.0               0.0   \n",
       "228169               0.0               0.0               0.0   \n",
       "\n",
       "        user_category_30  bus_route_mean  station_code_mean  \\\n",
       "0                    0.0        3.104381           1.466667   \n",
       "1                    0.0        3.104381           4.178218   \n",
       "2                    0.0        3.104381           2.169559   \n",
       "228167               0.0        0.000000           2.393089   \n",
       "228168               0.0        0.000000           7.726008   \n",
       "228169               0.0        0.000000           0.188636   \n",
       "\n",
       "        station_name_mean  school  station  \n",
       "0                0.964286       0        0  \n",
       "1                4.462080       0        0  \n",
       "2                1.843810       0        0  \n",
       "228167           2.307617       0        1  \n",
       "228168           7.485333       0        1  \n",
       "228169           0.188636       0        1  "
      ]
     },
     "metadata": {},
     "output_type": "display_data"
    },
    {
     "name": "stdout",
     "output_type": "stream",
     "text": [
      "Number of missing values:\n",
      " bus_route_id           0\n",
      "in_out                 0\n",
      "station_code           0\n",
      "6~7_ride               0\n",
      "7~8_ride               0\n",
      "8~9_ride               0\n",
      "9~10_ride              0\n",
      "10~11_ride             0\n",
      "11~12_ride             0\n",
      "6~7_takeoff            0\n",
      "7~8_takeoff            0\n",
      "8~9_takeoff            0\n",
      "9~10_takeoff           0\n",
      "10~11_takeoff          0\n",
      "11~12_takeoff          0\n",
      "day                    0\n",
      "weekday                0\n",
      "weekend                0\n",
      "holiday                0\n",
      "geton_station_code     0\n",
      "getoff_station_code    0\n",
      "user_count             0\n",
      "user_category_1        0\n",
      "user_category_2        0\n",
      "user_category_4        0\n",
      "user_category_6        0\n",
      "user_category_27       0\n",
      "user_category_28       0\n",
      "user_category_29       0\n",
      "user_category_30       0\n",
      "bus_route_mean         0\n",
      "station_code_mean      0\n",
      "station_name_mean      0\n",
      "school                 0\n",
      "station                0\n",
      "dtype: int64 \n",
      "\n"
     ]
    }
   ],
   "source": [
    "display_data(test, 3)"
   ]
  },
  {
   "cell_type": "markdown",
   "metadata": {},
   "source": [
    "# 3. Modeling"
   ]
  },
  {
   "cell_type": "markdown",
   "metadata": {},
   "source": [
    "### 0. LGBM (Dacon SCORE: 2.58261)\n",
    "* 일단 부스팅 모델에 적합해보기 "
   ]
  },
  {
   "cell_type": "code",
   "execution_count": 84,
   "metadata": {},
   "outputs": [],
   "source": [
    "X_train = train.drop([\"18~20_ride\"], axis=1)\n",
    "X_test = test\n",
    "y_train = train[\"18~20_ride\"]"
   ]
  },
  {
   "cell_type": "code",
   "execution_count": 85,
   "metadata": {},
   "outputs": [
    {
     "data": {
      "text/plain": [
       "((415423, 35), (228170, 35), (415423,))"
      ]
     },
     "execution_count": 85,
     "metadata": {},
     "output_type": "execute_result"
    }
   ],
   "source": [
    "X_train.shape, X_test.shape, y_train.shape"
   ]
  },
  {
   "cell_type": "code",
   "execution_count": 140,
   "metadata": {},
   "outputs": [],
   "source": [
    "#Validation function\n",
    "n_folds = 5\n",
    "\n",
    "def rmse_cv(model):\n",
    "    kf = KFold(n_folds, shuffle=True, random_state=42).get_n_splits(X_train.values)\n",
    "    rmse= np.sqrt(-cross_val_score(model, X_train.values, y_train, scoring=\"neg_mean_squared_error\", cv = kf))\n",
    "    return(rmse)"
   ]
  },
  {
   "cell_type": "code",
   "execution_count": 92,
   "metadata": {},
   "outputs": [],
   "source": [
    "grid_params = {\n",
    "    'n_estimators': [200, 500, 1000],\n",
    "    'learning_rate' : [0.025, 0.05],\n",
    "    'num_leaves': [3, 4, 5],\n",
    "    'min_child_samples' : [40, 60],\n",
    "    'subsample' : [ 0.6, 0.8 ]\n",
    "    }"
   ]
  },
  {
   "cell_type": "code",
   "execution_count": 93,
   "metadata": {},
   "outputs": [],
   "source": [
    "gs = GridSearchCV(\n",
    "    lgb.LGBMRegressor(),\n",
    "    grid_params,\n",
    "    verbose = 10,\n",
    "    cv = 3,\n",
    "    n_jobs = -1\n",
    "    )"
   ]
  },
  {
   "cell_type": "code",
   "execution_count": 94,
   "metadata": {
    "scrolled": true
   },
   "outputs": [
    {
     "name": "stdout",
     "output_type": "stream",
     "text": [
      "Fitting 3 folds for each of 72 candidates, totalling 216 fits\n"
     ]
    },
    {
     "name": "stderr",
     "output_type": "stream",
     "text": [
      "[Parallel(n_jobs=-1)]: Using backend LokyBackend with 4 concurrent workers.\n",
      "[Parallel(n_jobs=-1)]: Done   5 tasks      | elapsed:   45.5s\n",
      "[Parallel(n_jobs=-1)]: Done  10 tasks      | elapsed:  1.1min\n",
      "[Parallel(n_jobs=-1)]: Done  17 tasks      | elapsed:  1.9min\n",
      "[Parallel(n_jobs=-1)]: Done  24 tasks      | elapsed:  2.9min\n",
      "[Parallel(n_jobs=-1)]: Done  33 tasks      | elapsed:  5.0min\n",
      "[Parallel(n_jobs=-1)]: Done  42 tasks      | elapsed:  8.0min\n",
      "[Parallel(n_jobs=-1)]: Done  53 tasks      | elapsed: 12.2min\n",
      "[Parallel(n_jobs=-1)]: Done  64 tasks      | elapsed: 13.3min\n",
      "[Parallel(n_jobs=-1)]: Done  77 tasks      | elapsed: 15.4min\n",
      "[Parallel(n_jobs=-1)]: Done  90 tasks      | elapsed: 18.3min\n",
      "[Parallel(n_jobs=-1)]: Done 105 tasks      | elapsed: 24.6min\n",
      "[Parallel(n_jobs=-1)]: Done 120 tasks      | elapsed: 26.7min\n",
      "[Parallel(n_jobs=-1)]: Done 137 tasks      | elapsed: 29.9min\n",
      "[Parallel(n_jobs=-1)]: Done 154 tasks      | elapsed: 36.6min\n",
      "[Parallel(n_jobs=-1)]: Done 173 tasks      | elapsed: 41.4min\n",
      "[Parallel(n_jobs=-1)]: Done 192 tasks      | elapsed: 44.4min\n",
      "[Parallel(n_jobs=-1)]: Done 216 out of 216 | elapsed: 53.8min finished\n"
     ]
    }
   ],
   "source": [
    "gs_results = gs.fit(X_train, y_train, verbose=True)"
   ]
  },
  {
   "cell_type": "code",
   "execution_count": 95,
   "metadata": {},
   "outputs": [
    {
     "name": "stdout",
     "output_type": "stream",
     "text": [
      "Best Parameter: {'learning_rate': 0.05, 'min_child_samples': 40, 'n_estimators': 1000, 'num_leaves': 5, 'subsample': 0.6}\n"
     ]
    }
   ],
   "source": [
    "print(\"Best Parameter: {}\".format(gs.best_params_))"
   ]
  },
  {
   "cell_type": "code",
   "execution_count": 97,
   "metadata": {},
   "outputs": [],
   "source": [
    "model_lgb = lgb.LGBMRegressor(learning_rate=0.05, min_child_samples=40, n_estimators=1000, num_leaves=5, subsample=0.6)"
   ]
  },
  {
   "cell_type": "code",
   "execution_count": 98,
   "metadata": {},
   "outputs": [
    {
     "name": "stdout",
     "output_type": "stream",
     "text": [
      "LGBM score: 0.4206 (0.1550)\n",
      "\n"
     ]
    }
   ],
   "source": [
    "# X_train만 넣어서 모델 성능 평가해야 하는데... y값이 포함된 train 데이터셋을 넣어서 성능이 매우 좋게 나왔습니다... \n",
    "# 다시 할 엄두가 나지 않아서......... 기회가 된다면 다시 해 보겠습니다...\n",
    "\n",
    "score = rmse_cv(model_lgb) \n",
    "print(\"LGBM score: {:.4f} ({:.4f})\\n\" .format(score.mean(), score.std()))"
   ]
  },
  {
   "cell_type": "code",
   "execution_count": 100,
   "metadata": {
    "scrolled": true
   },
   "outputs": [],
   "source": [
    "model_lgb.fit(X_train.values, y_train)\n",
    "lgb_train_pred = model_lgb.predict(X_train.values)\n",
    "lgb_pred = model_lgb.predict(X_test.values)"
   ]
  },
  {
   "cell_type": "code",
   "execution_count": 102,
   "metadata": {
    "scrolled": false
   },
   "outputs": [],
   "source": [
    "sub = pd.read_csv('submission_sample.csv')\n",
    "sub['18~20_ride'] = lgb_pred\n",
    "sub.loc[sub['18~20_ride']<0, '18~20_ride'] = 0 # 승차인원이 (-)일 수는 없으므로, 0보다 작은 값은 0으로 채워준다 \n",
    "sub.to_csv('submission.csv', index=False)"
   ]
  },
  {
   "cell_type": "markdown",
   "metadata": {},
   "source": [
    "### 1. Grid Search \n",
    "* 데이터가 너무 많아서 grid search하는 데에 오래 걸리므로,   \n",
    "랜덤으로 20%만 뽑아서 최적의 hyperparameter를 찾아보기로 한다\n",
    "* LGBM 외에도 다른 괜찮은 모델이 있는지 찾아보기로 한다 "
   ]
  },
  {
   "cell_type": "code",
   "execution_count": 104,
   "metadata": {},
   "outputs": [
    {
     "data": {
      "text/plain": [
       "((83085, 36), (45634, 35))"
      ]
     },
     "execution_count": 104,
     "metadata": {},
     "output_type": "execute_result"
    }
   ],
   "source": [
    "train2= train.sample(frac = 0.2, random_state=28)\n",
    "test2 = test.sample(frac = 0.2, random_state=28)\n",
    "\n",
    "train2.shape, test2.shape"
   ]
  },
  {
   "cell_type": "code",
   "execution_count": 105,
   "metadata": {},
   "outputs": [],
   "source": [
    "X_train2 = train2.drop([\"18~20_ride\"], axis=1)\n",
    "X_test2 = test2\n",
    "y_train2 = train2[\"18~20_ride\"]"
   ]
  },
  {
   "cell_type": "code",
   "execution_count": 106,
   "metadata": {},
   "outputs": [
    {
     "data": {
      "text/plain": [
       "((83085, 35), (45634, 35), (83085,))"
      ]
     },
     "execution_count": 106,
     "metadata": {},
     "output_type": "execute_result"
    }
   ],
   "source": [
    "X_train2.shape, X_test2.shape, y_train2.shape"
   ]
  },
  {
   "cell_type": "markdown",
   "metadata": {},
   "source": [
    "##### 1) Gradient Boosting Regression"
   ]
  },
  {
   "cell_type": "code",
   "execution_count": 111,
   "metadata": {},
   "outputs": [],
   "source": [
    "grid_params = {\n",
    "    'loss': ['huber'], 'learning_rate': [0.02, 0.05], 'n_estimators': [500, 1000], \n",
    "    'max_depth':[3, 5], 'min_samples_leaf':[2, 3], 'subsample' : [0.6, 0.8]\n",
    "}"
   ]
  },
  {
   "cell_type": "code",
   "execution_count": 112,
   "metadata": {},
   "outputs": [],
   "source": [
    "gs = RandomizedSearchCV(\n",
    "    GradientBoostingRegressor(),\n",
    "    grid_params,\n",
    "    verbose = 10,\n",
    "    cv = 3,\n",
    "    n_jobs = -1\n",
    "    )"
   ]
  },
  {
   "cell_type": "code",
   "execution_count": 113,
   "metadata": {},
   "outputs": [
    {
     "name": "stdout",
     "output_type": "stream",
     "text": [
      "Fitting 3 folds for each of 10 candidates, totalling 30 fits\n"
     ]
    },
    {
     "name": "stderr",
     "output_type": "stream",
     "text": [
      "[Parallel(n_jobs=-1)]: Using backend LokyBackend with 4 concurrent workers.\n",
      "[Parallel(n_jobs=-1)]: Done   5 tasks      | elapsed:  9.7min\n",
      "[Parallel(n_jobs=-1)]: Done  10 tasks      | elapsed: 20.7min\n",
      "[Parallel(n_jobs=-1)]: Done  17 tasks      | elapsed: 31.3min\n",
      "[Parallel(n_jobs=-1)]: Done  27 out of  30 | elapsed: 43.0min remaining:  4.8min\n",
      "[Parallel(n_jobs=-1)]: Done  30 out of  30 | elapsed: 45.2min finished\n"
     ]
    }
   ],
   "source": [
    "gs_results = gs.fit(X_train2, y_train2)"
   ]
  },
  {
   "cell_type": "code",
   "execution_count": 114,
   "metadata": {},
   "outputs": [
    {
     "name": "stdout",
     "output_type": "stream",
     "text": [
      "Best Parameter: {'subsample': 0.8, 'n_estimators': 1000, 'min_samples_leaf': 3, 'max_depth': 5, 'loss': 'huber', 'learning_rate': 0.05}\n"
     ]
    }
   ],
   "source": [
    "print(\"Best Parameter: {}\".format(gs.best_params_))"
   ]
  },
  {
   "cell_type": "markdown",
   "metadata": {},
   "source": [
    "##### 2) XGBoost"
   ]
  },
  {
   "cell_type": "code",
   "execution_count": 115,
   "metadata": {},
   "outputs": [],
   "source": [
    "grid_params = {\n",
    " 'n_estimators': [ 500, 1000 ],\n",
    " \"learning_rate\"    : [ 0.02, 0.05 ] ,\n",
    " \"max_depth\"        : [ 3, 5 ],\n",
    " \"min_child_weight\" : [ 2, 4 ],\n",
    " \"gamma\"            : [ 0.05 ],\n",
    " 'subsample' : [ 0.6, 0.8 ]}"
   ]
  },
  {
   "cell_type": "code",
   "execution_count": 116,
   "metadata": {},
   "outputs": [],
   "source": [
    "gs = RandomizedSearchCV(\n",
    "    xgb.XGBRegressor(),\n",
    "    grid_params,\n",
    "    verbose = 10,\n",
    "    cv = 3,\n",
    "    n_jobs = -1\n",
    "    )"
   ]
  },
  {
   "cell_type": "code",
   "execution_count": 117,
   "metadata": {},
   "outputs": [
    {
     "name": "stdout",
     "output_type": "stream",
     "text": [
      "Fitting 3 folds for each of 10 candidates, totalling 30 fits\n"
     ]
    },
    {
     "name": "stderr",
     "output_type": "stream",
     "text": [
      "[Parallel(n_jobs=-1)]: Using backend LokyBackend with 4 concurrent workers.\n",
      "[Parallel(n_jobs=-1)]: Done   5 tasks      | elapsed: 12.4min\n",
      "[Parallel(n_jobs=-1)]: Done  10 tasks      | elapsed: 14.3min\n",
      "[Parallel(n_jobs=-1)]: Done  17 tasks      | elapsed: 21.8min\n",
      "[Parallel(n_jobs=-1)]: Done  27 out of  30 | elapsed: 28.4min remaining:  3.2min\n",
      "[Parallel(n_jobs=-1)]: Done  30 out of  30 | elapsed: 30.6min finished\n"
     ]
    },
    {
     "name": "stdout",
     "output_type": "stream",
     "text": [
      "[18:56:47] WARNING: C:/Jenkins/workspace/xgboost-win64_release_0.90/src/objective/regression_obj.cu:152: reg:linear is now deprecated in favor of reg:squarederror.\n"
     ]
    }
   ],
   "source": [
    "gs_results = gs.fit(X_train2, y_train2)"
   ]
  },
  {
   "cell_type": "code",
   "execution_count": 118,
   "metadata": {},
   "outputs": [
    {
     "name": "stdout",
     "output_type": "stream",
     "text": [
      "Best Parameter: {'subsample': 0.8, 'n_estimators': 1000, 'min_child_weight': 4, 'max_depth': 5, 'learning_rate': 0.05, 'gamma': 0.05}\n"
     ]
    }
   ],
   "source": [
    "print(\"Best Parameter: {}\".format(gs.best_params_))"
   ]
  },
  {
   "cell_type": "markdown",
   "metadata": {},
   "source": [
    "##### 3) Ridge"
   ]
  },
  {
   "cell_type": "code",
   "execution_count": 119,
   "metadata": {},
   "outputs": [],
   "source": [
    "#Validation function\n",
    "n_folds = 5\n",
    "\n",
    "def rmse_cv(model):\n",
    "    kf = KFold(n_folds, shuffle=True, random_state=42).get_n_splits(X_train2.values)\n",
    "    rmse= np.sqrt(-cross_val_score(model, X_train2.values, y_train2, scoring=\"neg_mean_squared_error\", cv = kf))\n",
    "    return(rmse)"
   ]
  },
  {
   "cell_type": "code",
   "execution_count": 120,
   "metadata": {},
   "outputs": [
    {
     "name": "stdout",
     "output_type": "stream",
     "text": [
      "\n",
      " (alpha = 0.0001 ) Ridge score: 3.4377 (0.6355)\n",
      "\n",
      " (alpha = 0.0005 ) Ridge score: 3.4377 (0.6355)\n",
      "\n",
      " (alpha = 0.001 ) Ridge score: 3.4377 (0.6355)\n",
      "\n",
      " (alpha = 0.005 ) Ridge score: 3.4377 (0.6355)\n",
      "\n",
      " (alpha = 0.01 ) Ridge score: 3.4377 (0.6355)\n",
      "\n",
      " (alpha = 0.05 ) Ridge score: 3.4376 (0.6355)\n",
      "\n",
      " (alpha = 1 ) Ridge score: 3.4376 (0.6355)\n",
      "\n",
      " (alpha = 10 ) Ridge score: 3.4376 (0.6356)\n",
      "\n",
      " (alpha = 15 ) Ridge score: 3.4376 (0.6356)\n",
      "\n",
      " (alpha = 30 ) Ridge score: 3.4376 (0.6357)\n"
     ]
    }
   ],
   "source": [
    "alphas = [0.0001, 0.0005, 0.001, 0.005, 0.01, 0.05, 1, 10, 15, 30]\n",
    "\n",
    "for alpha in alphas: \n",
    "    ridge = make_pipeline(RobustScaler(), Ridge(alpha = alpha, random_state=1))\n",
    "    score = rmse_cv(ridge)\n",
    "    print(\"\\n (alpha = {} ) Ridge score: {:.4f} ({:.4f})\".format(alpha, score.mean(), score.std()))"
   ]
  },
  {
   "cell_type": "markdown",
   "metadata": {},
   "source": [
    "##### 4) LASSO Regression"
   ]
  },
  {
   "cell_type": "code",
   "execution_count": 121,
   "metadata": {},
   "outputs": [
    {
     "name": "stdout",
     "output_type": "stream",
     "text": [
      "\n",
      " (alpha = 0.0001 ) Lasso score: 3.4376 (0.6356)\n",
      "\n",
      " (alpha = 0.0005 ) Lasso score: 3.4375 (0.6358)\n",
      "\n",
      " (alpha = 0.001 ) Lasso score: 3.4375 (0.6361)\n",
      "\n",
      " (alpha = 0.005 ) Lasso score: 3.4375 (0.6382)\n",
      "\n",
      " (alpha = 0.01 ) Lasso score: 3.4381 (0.6406)\n",
      "\n",
      " (alpha = 0.05 ) Lasso score: 3.4498 (0.6494)\n",
      "\n",
      " (alpha = 1 ) Lasso score: 3.5948 (0.6997)\n",
      "\n",
      " (alpha = 10 ) Lasso score: 4.8555 (0.7025)\n",
      "\n",
      " (alpha = 15 ) Lasso score: 4.8555 (0.7025)\n",
      "\n",
      " (alpha = 30 ) Lasso score: 4.8555 (0.7025)\n"
     ]
    }
   ],
   "source": [
    "alphas = [0.0001, 0.0005, 0.001, 0.005, 0.01, 0.05, 1, 10, 15, 30]\n",
    "\n",
    "for alpha in alphas: \n",
    "    lasso = make_pipeline(RobustScaler(), Lasso(alpha = alpha, random_state=1))\n",
    "    score = rmse_cv(lasso)\n",
    "    print(\"\\n (alpha = {} ) Lasso score: {:.4f} ({:.4f})\".format(alpha, score.mean(), score.std()))"
   ]
  },
  {
   "cell_type": "markdown",
   "metadata": {},
   "source": [
    "##### 5) Elastic Net Regression"
   ]
  },
  {
   "cell_type": "code",
   "execution_count": 122,
   "metadata": {},
   "outputs": [
    {
     "name": "stdout",
     "output_type": "stream",
     "text": [
      "\n",
      " (alpha = 0.0001 ) Elastic Net score: 3.4376 (0.6356)\n",
      "\n",
      " (alpha = 0.0005 ) Elastic Net score: 3.4375 (0.6358)\n",
      "\n",
      " (alpha = 0.001 ) Elastic Net score: 3.4375 (0.6360)\n",
      "\n",
      " (alpha = 0.005 ) Elastic Net score: 3.4374 (0.6378)\n",
      "\n",
      " (alpha = 0.01 ) Elastic Net score: 3.4376 (0.6399)\n",
      "\n",
      " (alpha = 0.05 ) Elastic Net score: 3.4467 (0.6496)\n",
      "\n",
      " (alpha = 1 ) Elastic Net score: 3.5427 (0.6959)\n",
      "\n",
      " (alpha = 10 ) Elastic Net score: 4.8555 (0.7025)\n",
      "\n",
      " (alpha = 15 ) Elastic Net score: 4.8555 (0.7025)\n",
      "\n",
      " (alpha = 30 ) Elastic Net score: 4.8555 (0.7025)\n"
     ]
    }
   ],
   "source": [
    "alphas = [0.0001, 0.0005, 0.001, 0.005, 0.01, 0.05, 1, 10, 15, 30]\n",
    "\n",
    "for alpha in alphas: \n",
    "    ENet = make_pipeline(RobustScaler(), ElasticNet(alpha= alpha, l1_ratio=.7, random_state=3))\n",
    "    score = rmse_cv(ENet)\n",
    "    print(\"\\n (alpha = {} ) Elastic Net score: {:.4f} ({:.4f})\".format(alpha, score.mean(), score.std()))"
   ]
  },
  {
   "cell_type": "markdown",
   "metadata": {},
   "source": [
    "### 2. Model Score"
   ]
  },
  {
   "cell_type": "code",
   "execution_count": 123,
   "metadata": {},
   "outputs": [],
   "source": [
    "#Validation function\n",
    "n_folds = 5\n",
    "\n",
    "def rmse_cv(model):\n",
    "    kf = KFold(n_folds, shuffle=True, random_state=42).get_n_splits(X_train.values)\n",
    "    rmse= np.sqrt(-cross_val_score(model, X_train.values, y_train, scoring=\"neg_mean_squared_error\", cv = kf))\n",
    "    return(rmse)"
   ]
  },
  {
   "cell_type": "markdown",
   "metadata": {},
   "source": [
    "##### lightGBM"
   ]
  },
  {
   "cell_type": "code",
   "execution_count": 124,
   "metadata": {
    "scrolled": true
   },
   "outputs": [
    {
     "name": "stdout",
     "output_type": "stream",
     "text": [
      "lightGBM score: 2.6074 (0.1787)\n",
      "\n"
     ]
    }
   ],
   "source": [
    "lgbm = lgb.LGBMRegressor(learning_rate=0.05, min_child_samples=40, n_estimators=1000, num_leaves=5, subsample=0.6)\n",
    "\n",
    "score = rmse_cv(lgbm)\n",
    "print(\"lightGBM score: {:.4f} ({:.4f})\\n\".format(score.mean(), score.std()))"
   ]
  },
  {
   "cell_type": "markdown",
   "metadata": {},
   "source": [
    "##### XGBoost"
   ]
  },
  {
   "cell_type": "code",
   "execution_count": 126,
   "metadata": {},
   "outputs": [
    {
     "name": "stdout",
     "output_type": "stream",
     "text": [
      "[01:44:49] WARNING: C:/Jenkins/workspace/xgboost-win64_release_0.90/src/objective/regression_obj.cu:152: reg:linear is now deprecated in favor of reg:squarederror.\n",
      "[02:03:26] WARNING: C:/Jenkins/workspace/xgboost-win64_release_0.90/src/objective/regression_obj.cu:152: reg:linear is now deprecated in favor of reg:squarederror.\n",
      "[02:21:25] WARNING: C:/Jenkins/workspace/xgboost-win64_release_0.90/src/objective/regression_obj.cu:152: reg:linear is now deprecated in favor of reg:squarederror.\n",
      "[02:38:38] WARNING: C:/Jenkins/workspace/xgboost-win64_release_0.90/src/objective/regression_obj.cu:152: reg:linear is now deprecated in favor of reg:squarederror.\n",
      "[02:56:08] WARNING: C:/Jenkins/workspace/xgboost-win64_release_0.90/src/objective/regression_obj.cu:152: reg:linear is now deprecated in favor of reg:squarederror.\n",
      "XGBoost score: 2.4738 (0.1866)\n",
      "\n"
     ]
    }
   ],
   "source": [
    "# XGBoost \n",
    "XGBoost = xgb.XGBRegressor(gamma=0.05, learning_rate=0.05, max_depth=5, min_child_weight=4,\n",
    "                           n_estimators=1000, subsample=0.8, verbose=True)\n",
    "\n",
    "score = rmse_cv(XGBoost)\n",
    "print(\"XGBoost score: {:.4f} ({:.4f})\\n\".format(score.mean(), score.std()))"
   ]
  },
  {
   "cell_type": "markdown",
   "metadata": {},
   "source": [
    "##### Random Forest (Dacon Score: 2.55016) \n",
    "시간이 너무 오래 걸려서 K-Fold Cross Validation은 진행하지 않기로 함 "
   ]
  },
  {
   "cell_type": "code",
   "execution_count": 134,
   "metadata": {},
   "outputs": [],
   "source": [
    "RF = RandomForestRegressor(bootstrap=True, max_features='auto', n_estimators=500)"
   ]
  },
  {
   "cell_type": "code",
   "execution_count": 142,
   "metadata": {},
   "outputs": [
    {
     "data": {
      "text/plain": [
       "RandomForestRegressor(bootstrap=True, criterion='mse', max_depth=None,\n",
       "           max_features='auto', max_leaf_nodes=None,\n",
       "           min_impurity_decrease=0.0, min_impurity_split=None,\n",
       "           min_samples_leaf=1, min_samples_split=2,\n",
       "           min_weight_fraction_leaf=0.0, n_estimators=500, n_jobs=None,\n",
       "           oob_score=False, random_state=None, verbose=0, warm_start=False)"
      ]
     },
     "execution_count": 142,
     "metadata": {},
     "output_type": "execute_result"
    }
   ],
   "source": [
    "RF.fit(X_train.values, y_train)"
   ]
  },
  {
   "cell_type": "code",
   "execution_count": 145,
   "metadata": {},
   "outputs": [],
   "source": [
    "RF_train_pred = RF.predict(X_train.values)\n",
    "RF_pred = RF.predict(X_test.values)"
   ]
  },
  {
   "cell_type": "code",
   "execution_count": 146,
   "metadata": {},
   "outputs": [],
   "source": [
    "sub = pd.read_csv('submission_sample.csv')\n",
    "sub['18~20_ride'] = RF_pred\n",
    "sub.loc[sub['18~20_ride']<0, '18~20_ride'] = 0 # 승차인원이 (-)일 수는 없으므로, 0보다 작은 값은 0으로 채워준다 \n",
    "sub.to_csv('submission.csv', index=False)"
   ]
  },
  {
   "cell_type": "markdown",
   "metadata": {},
   "source": [
    "##### Ridge"
   ]
  },
  {
   "cell_type": "code",
   "execution_count": 127,
   "metadata": {},
   "outputs": [
    {
     "name": "stdout",
     "output_type": "stream",
     "text": [
      "\n",
      " (alpha = 30 ) Ridge score: 3.3025 (0.2512)\n"
     ]
    }
   ],
   "source": [
    "ridge = make_pipeline(RobustScaler(), Ridge(alpha = 0.05, random_state=1))\n",
    "\n",
    "score = rmse_cv(ridge)\n",
    "print(\"\\n Ridge score: {:.4f} ({:.4f})\".format(score.mean(), score.std()))"
   ]
  },
  {
   "cell_type": "markdown",
   "metadata": {},
   "source": [
    "##### Lasso"
   ]
  },
  {
   "cell_type": "code",
   "execution_count": 128,
   "metadata": {
    "scrolled": true
   },
   "outputs": [
    {
     "name": "stdout",
     "output_type": "stream",
     "text": [
      "\n",
      " (alpha = 30 ) Lasso score: 3.3025 (0.2513)\n"
     ]
    }
   ],
   "source": [
    "lasso = make_pipeline(RobustScaler(), Lasso(alpha = 0.0005, random_state=1))\n",
    "\n",
    "score = rmse_cv(lasso)\n",
    "print(\"\\n Lasso score: {:.4f} ({:.4f})\".format(score.mean(), score.std()))"
   ]
  },
  {
   "cell_type": "markdown",
   "metadata": {},
   "source": [
    "##### Elastic Net"
   ]
  },
  {
   "cell_type": "code",
   "execution_count": 129,
   "metadata": {},
   "outputs": [
    {
     "name": "stdout",
     "output_type": "stream",
     "text": [
      "\n",
      " (alpha = 30 ) Elastic Net score: 3.3028 (0.2520)\n"
     ]
    }
   ],
   "source": [
    "ENet = make_pipeline(RobustScaler(), ElasticNet(alpha= 0.005, l1_ratio=.7, random_state=3))\n",
    "score = rmse_cv(ENet)\n",
    "print(\"\\n Elastic Net score: {:.4f} ({:.4f})\".format(score.mean(), score.std()))"
   ]
  },
  {
   "cell_type": "markdown",
   "metadata": {},
   "source": [
    "### 3. Stacking models"
   ]
  },
  {
   "cell_type": "markdown",
   "metadata": {},
   "source": [
    "#### 1) Average Base Models: LGBM + XGBoost (Dacon Score: 2.5897)"
   ]
  },
  {
   "cell_type": "code",
   "execution_count": 130,
   "metadata": {},
   "outputs": [],
   "source": [
    "class AveragingModels(BaseEstimator, RegressorMixin, TransformerMixin):\n",
    "    def __init__(self, models):\n",
    "        self.models = models\n",
    "        \n",
    "    # we define clones of the original models to fit the data in\n",
    "    def fit(self, X, y):\n",
    "        self.models_ = [clone(x) for x in self.models]\n",
    "        \n",
    "        # Train cloned base models\n",
    "        for model in self.models_:\n",
    "            model.fit(X, y)\n",
    "\n",
    "        return self\n",
    "    \n",
    "    #Now we do the predictions for cloned models and average them\n",
    "    def predict(self, X):\n",
    "        predictions = np.column_stack([\n",
    "            model.predict(X) for model in self.models_\n",
    "        ])\n",
    "        return np.mean(predictions, axis=1) "
   ]
  },
  {
   "cell_type": "code",
   "execution_count": 132,
   "metadata": {},
   "outputs": [
    {
     "name": "stdout",
     "output_type": "stream",
     "text": [
      "[12:10:07] WARNING: C:/Jenkins/workspace/xgboost-win64_release_0.90/src/objective/regression_obj.cu:152: reg:linear is now deprecated in favor of reg:squarederror.\n",
      "[12:27:44] WARNING: C:/Jenkins/workspace/xgboost-win64_release_0.90/src/objective/regression_obj.cu:152: reg:linear is now deprecated in favor of reg:squarederror.\n",
      "[12:45:27] WARNING: C:/Jenkins/workspace/xgboost-win64_release_0.90/src/objective/regression_obj.cu:152: reg:linear is now deprecated in favor of reg:squarederror.\n",
      "[13:02:38] WARNING: C:/Jenkins/workspace/xgboost-win64_release_0.90/src/objective/regression_obj.cu:152: reg:linear is now deprecated in favor of reg:squarederror.\n",
      "[13:19:55] WARNING: C:/Jenkins/workspace/xgboost-win64_release_0.90/src/objective/regression_obj.cu:152: reg:linear is now deprecated in favor of reg:squarederror.\n",
      " Averaged base models score: 2.5003 (0.1855)\n",
      "\n"
     ]
    }
   ],
   "source": [
    "averaged_models = AveragingModels(models = (lgbm, XGBoost))\n",
    "\n",
    "score = rmse_cv(averaged_models)\n",
    "print(\" Averaged base models score: {:.4f} ({:.4f})\\n\".format(score.mean(), score.std()))"
   ]
  },
  {
   "cell_type": "code",
   "execution_count": 135,
   "metadata": {},
   "outputs": [
    {
     "name": "stdout",
     "output_type": "stream",
     "text": [
      "[15:22:48] WARNING: C:/Jenkins/workspace/xgboost-win64_release_0.90/src/objective/regression_obj.cu:152: reg:linear is now deprecated in favor of reg:squarederror.\n"
     ]
    }
   ],
   "source": [
    "averaged_models.fit(X_train.values, y_train)\n",
    "averaged_train_pred = averaged_models.predict(X_train.values)\n",
    "averaged_pred = averaged_models.predict(X_test.values)"
   ]
  },
  {
   "cell_type": "code",
   "execution_count": 136,
   "metadata": {},
   "outputs": [],
   "source": [
    "sub = pd.read_csv('submission_sample.csv')\n",
    "sub['18~20_ride'] = averaged_pred\n",
    "sub.loc[sub['18~20_ride']<0, '18~20_ride'] = 0 # 승차인원이 (-)일 수는 없으므로, 0보다 작은 값은 0으로 채워준다 \n",
    "sub.to_csv('submission.csv', index=False)"
   ]
  },
  {
   "cell_type": "markdown",
   "metadata": {},
   "source": [
    "#### 2. Average Models: Random Forest + (lightGBM + XGBoost) "
   ]
  },
  {
   "cell_type": "code",
   "execution_count": 148,
   "metadata": {},
   "outputs": [],
   "source": [
    "first = pd.read_csv('submission_rf.csv')\n",
    "second = pd.read_csv('submission_lgbm+xgb.csv')"
   ]
  },
  {
   "cell_type": "code",
   "execution_count": 149,
   "metadata": {},
   "outputs": [],
   "source": [
    "target = '18~20_ride'"
   ]
  },
  {
   "cell_type": "markdown",
   "metadata": {},
   "source": [
    "##### 1) RF 0.34, LGBM 0.33, XGB 0.33 (Dacon Score: 2.54172) "
   ]
  },
  {
   "cell_type": "code",
   "execution_count": 150,
   "metadata": {},
   "outputs": [],
   "source": [
    "w1 = 0.34\n",
    "w2 = 0.66"
   ]
  },
  {
   "cell_type": "code",
   "execution_count": 151,
   "metadata": {},
   "outputs": [],
   "source": [
    "W = w1*first[target] + w2*second[target] "
   ]
  },
  {
   "cell_type": "code",
   "execution_count": 153,
   "metadata": {},
   "outputs": [],
   "source": [
    "sub = pd.read_csv('submission_sample.csv')\n",
    "sub[target] = W\n",
    "sub.loc[sub['18~20_ride']<0, '18~20_ride'] = 0 # 승차인원이 (-)일 수는 없으므로, 0보다 작은 값은 0으로 채워준다 \n",
    "sub.to_csv('submission_333.csv', index=False)"
   ]
  },
  {
   "cell_type": "markdown",
   "metadata": {},
   "source": [
    "##### 2) RF 0.5, LGBM 0.25, XGB 0.25 (Dacon Score: 2.53132)"
   ]
  },
  {
   "cell_type": "code",
   "execution_count": 154,
   "metadata": {},
   "outputs": [],
   "source": [
    "w1 = 0.5\n",
    "w2 = 0.5"
   ]
  },
  {
   "cell_type": "code",
   "execution_count": 155,
   "metadata": {},
   "outputs": [],
   "source": [
    "W = w1*first[target] + w2*second[target] "
   ]
  },
  {
   "cell_type": "code",
   "execution_count": 156,
   "metadata": {},
   "outputs": [],
   "source": [
    "sub = pd.read_csv('submission_sample.csv')\n",
    "sub[target] = W\n",
    "sub.loc[sub['18~20_ride']<0, '18~20_ride'] = 0 # 승차인원이 (-)일 수는 없으므로, 0보다 작은 값은 0으로 채워준다 \n",
    "sub.to_csv('submission_555.csv', index=False)"
   ]
  },
  {
   "cell_type": "markdown",
   "metadata": {},
   "source": [
    "##### 3) RF 0.7, LGBM 0.15, XGB 0.15 (Dacon Score: 2.52953)"
   ]
  },
  {
   "cell_type": "code",
   "execution_count": 157,
   "metadata": {},
   "outputs": [],
   "source": [
    "w1 = 0.7\n",
    "w2 = 0.3"
   ]
  },
  {
   "cell_type": "code",
   "execution_count": 158,
   "metadata": {},
   "outputs": [],
   "source": [
    "W = w1*first[target] + w2*second[target] "
   ]
  },
  {
   "cell_type": "code",
   "execution_count": 159,
   "metadata": {},
   "outputs": [],
   "source": [
    "sub = pd.read_csv('submission_sample.csv')\n",
    "sub[target] = W\n",
    "sub.loc[sub['18~20_ride']<0, '18~20_ride'] = 0 # 승차인원이 (-)일 수는 없으므로, 0보다 작은 값은 0으로 채워준다 \n",
    "sub.to_csv('submission_777.csv', index=False)"
   ]
  },
  {
   "cell_type": "markdown",
   "metadata": {},
   "source": [
    "# 한계점...\n",
    "* 데이터를 조금 더 이해하고, 적절한 피쳐를 더 많이 만들어 봤으면 더 좋았을 것 같다   \n",
    "ex) 정류장 사이의 거리, 거리에 따른 이동 시간 등 \n",
    "\n",
    "\n",
    "* 공휴일을 고려해 보지 못했다   \n",
    "(holiday 함수를 만들었는데 적용이 되지 않아 지쳐서 패스했는데, 다르게 적용해 볼 수 있는 방법을 나중에 깨달았다...) \n",
    "\n",
    "\n",
    "* 모델링 하고 적합 하는데에 시간이 너무 너무 너무 오래걸려서 다양한 시도를 진행해 보지 못했다   \n",
    "(Random Forest의 경우에도 CV 없이 1시간은 걸렸던 것 같고, XGBoost의 경우에는 colab에서도 20시간이 떴다...ㅎㅎㅎ)         \n",
    "나의 능력의 문제인지, 노트북 성능의 문제인지, 데이터의 크기가 커서 그런것인지 (41만개 * 36개) 아직 이유를 모르겠다 \n",
    "\n",
    "\n",
    "* Random Forest의 경우 CV 진행하지 않았는데, 그 데이터로 스태킹 함수에 적용하는 방법을 알 수 없었다      \n",
    "(유나님이 앙상블 수업 때 올려주신 스태킹 코드로 시도해 봤는데, 오류나서 진행하지 않았다) "
   ]
  }
 ],
 "metadata": {
  "kernelspec": {
   "display_name": "Python 3",
   "language": "python",
   "name": "python3"
  },
  "language_info": {
   "codemirror_mode": {
    "name": "ipython",
    "version": 3
   },
   "file_extension": ".py",
   "mimetype": "text/x-python",
   "name": "python",
   "nbconvert_exporter": "python",
   "pygments_lexer": "ipython3",
   "version": "3.6.8rc1"
  },
  "toc": {
   "base_numbering": 1,
   "nav_menu": {},
   "number_sections": true,
   "sideBar": true,
   "skip_h1_title": false,
   "title_cell": "Table of Contents",
   "title_sidebar": "Contents",
   "toc_cell": false,
   "toc_position": {},
   "toc_section_display": true,
   "toc_window_display": false
  },
  "varInspector": {
   "cols": {
    "lenName": 16,
    "lenType": 16,
    "lenVar": 40
   },
   "kernels_config": {
    "python": {
     "delete_cmd_postfix": "",
     "delete_cmd_prefix": "del ",
     "library": "var_list.py",
     "varRefreshCmd": "print(var_dic_list())"
    },
    "r": {
     "delete_cmd_postfix": ") ",
     "delete_cmd_prefix": "rm(",
     "library": "var_list.r",
     "varRefreshCmd": "cat(var_dic_list()) "
    }
   },
   "position": {
    "height": "516.86px",
    "left": "1099.57px",
    "right": "20px",
    "top": "120px",
    "width": "350px"
   },
   "types_to_exclude": [
    "module",
    "function",
    "builtin_function_or_method",
    "instance",
    "_Feature"
   ],
   "window_display": false
  }
 },
 "nbformat": 4,
 "nbformat_minor": 2
}
