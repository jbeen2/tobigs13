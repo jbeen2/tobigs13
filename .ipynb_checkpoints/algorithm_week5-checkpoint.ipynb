{
 "cells": [
  {
   "cell_type": "markdown",
   "metadata": {},
   "source": [
    "## 1번"
   ]
  },
  {
   "cell_type": "code",
   "execution_count": 107,
   "metadata": {
    "scrolled": true
   },
   "outputs": [
    {
     "name": "stdout",
     "output_type": "stream",
     "text": [
      "co dil ity\n",
      "5\n"
     ]
    }
   ],
   "source": [
    "A = list(input().split())\n",
    "\n",
    "A_list = []\n",
    "wordlist = []\n",
    "wordoverlap = []\n",
    "\n",
    "\n",
    "for i in range(2, len(A)+1):\n",
    "    A_list.append(list(map(''.join, itertools.permutations(A, i))))\n",
    "\n",
    "for A in A_list: \n",
    "    for word in A: \n",
    "        wordlist.append(word)\n",
    "\n",
    "    \n",
    "def check(x): \n",
    "    wordcheck = dict()    \n",
    "    wordsplit = [w for w in x]\n",
    "    \n",
    "    for w in wordsplit: \n",
    "        wordcheck[w] = 1 \n",
    "        \n",
    "    if len(wordcheck) != len(wordsplit): \n",
    "        return wordoverlap.append(x)\n",
    "    \n",
    "    \n",
    "for word in wordlist: \n",
    "    check(word)\n",
    "\n",
    "    \n",
    "final = list(set(wordlist) - set(wordoverlap))\n",
    "\n",
    "\n",
    "lengthlist = [0]\n",
    "for w in final:\n",
    "    if len(final) != 0: \n",
    "        lengthlist.append(len(w))\n",
    "\n",
    "    \n",
    "print(max(lengthlist))"
   ]
  },
  {
   "cell_type": "markdown",
   "metadata": {},
   "source": [
    "## 2번"
   ]
  },
  {
   "cell_type": "markdown",
   "metadata": {},
   "source": [
    "* ?ab??a\n",
    "* aabbaa\n",
    "\n",
    "\n",
    "\n",
    "* bab??a\n",
    "* NO\n",
    "\n",
    "\n",
    "\n",
    "* ?a?\n",
    "* aaa  -  무조건 aaa로 출력 (aaa,bab,zaz 등 가능해도)\n",
    "\n",
    "\n",
    "\n",
    "* za?az\n",
    "* zaaaz"
   ]
  },
  {
   "cell_type": "code",
   "execution_count": 218,
   "metadata": {
    "scrolled": true
   },
   "outputs": [
    {
     "name": "stdout",
     "output_type": "stream",
     "text": [
      "?ab??a\n",
      "aabbaa\n"
     ]
    }
   ],
   "source": [
    "word = list(input())\n",
    "\n",
    "def wordcheck(word): \n",
    "    if len(word) % 2 == 0: \n",
    "        first = word[:int(len(word)/2)]\n",
    "        middle = []\n",
    "        second = word[int(len(word)/2):]\n",
    "\n",
    "    else: \n",
    "        first = word[:int(len(word)/2 - 0.5)]\n",
    "        middle = word[int(len(word)/2 - 0.5)]\n",
    "        second = word[int(len(word)/2 + 0.5):]\n",
    "\n",
    "            \n",
    "    first_inverse = []\n",
    "    for i in range(len(first)): \n",
    "        first_inverse.append(first.pop())\n",
    "\n",
    "\n",
    "    for j in range(len(first_inverse)): \n",
    "        if first_inverse[j] == second[j]: \n",
    "            if (first_inverse[j] == '?' and second[j] == '?'): \n",
    "                first_inverse[j] = 'a'\n",
    "                second[j] = 'a'\n",
    "\n",
    "        elif (first_inverse[j] == '?' and second[j] != '?'): \n",
    "            first_inverse[j] = second[j]\n",
    "        elif (first_inverse[j] != '?' and second[j] == '?'): \n",
    "            second[j] = first_inverse[j]\n",
    "        else: \n",
    "            return \"NO\"\n",
    "        \n",
    "\n",
    "\n",
    "    final = []\n",
    "    for a in range(len(first_inverse)):\n",
    "        final.append(first_inverse.pop())\n",
    "    if len(middle) != 0: \n",
    "        if middle[0] != '?':\n",
    "            final.append(middle[0])\n",
    "        else: \n",
    "            final.append('a')\n",
    "    for b in range(len(second)):    \n",
    "        final.append(second[b])\n",
    "    \n",
    "    finalword = \"\".join(final)\n",
    "    \n",
    "    return finalword\n",
    "\n",
    "\n",
    "print(wordcheck(word))"
   ]
  },
  {
   "cell_type": "markdown",
   "metadata": {},
   "source": [
    "## 3번"
   ]
  },
  {
   "cell_type": "code",
   "execution_count": 19,
   "metadata": {},
   "outputs": [
    {
     "name": "stdout",
     "output_type": "stream",
     "text": [
      "two(two(b,one(two(two(two(a,b),a),two(two(one(a),a),one(one(b)))),a)\n",
      "Syntax Error\n"
     ]
    }
   ],
   "source": [
    "word = input()\n",
    "\n",
    "\n",
    "def one(x): \n",
    "    wordcheck = x[4:-1]\n",
    "    \n",
    "    if (len(wordcheck) == 1 and (wordcheck == \"a\" or wordcheck == \"b\") and wordcheck != ',' ): \n",
    "        return \"No Error\"\n",
    "    else: \n",
    "        if wordcheck[:4]+wordcheck[-1] == \"one()\": \n",
    "            return one(wordcheck)\n",
    "        elif wordcheck[:4]+wordcheck[-1] == \"two()\":\n",
    "            return two(wordcheck)\n",
    "        else: \n",
    "            return \"Syntax Error\"\n",
    "\n",
    "def two(x): \n",
    "    wordcheck = x[4:-1]\n",
    "    \n",
    "    if (len(wordcheck) == 3 and (wordcheck[0] == \"a\" or wordcheck[0] == \"b\")\n",
    "       and (wordcheck[1] == ',') and (wordcheck[2] == \"a\" or wordcheck[2] == \"b\")): \n",
    "        return \"No Error\"\n",
    "    else: \n",
    "        if wordcheck[:4]+wordcheck[-1] == \"one()\": \n",
    "            return one(wordcheck)\n",
    "        elif wordcheck[:4]+wordcheck[-1] == \"two()\":\n",
    "            return two(wordcheck)\n",
    "        else: \n",
    "            return \"Syntax Error\"   \n",
    "\n",
    "        \n",
    "if word[:4]+word[-1] == \"one()\": \n",
    "    print(one(word))\n",
    "elif word[:4]+word[-1] == \"two()\":\n",
    "    print(two(word))\n"
   ]
  },
  {
   "cell_type": "markdown",
   "metadata": {},
   "source": [
    "* \\w: 숫자 + 문자 [a-zA-Z0-9]와 같다.\n",
    "* +: 최소 한 번 이상 반복"
   ]
  },
  {
   "cell_type": "code",
   "execution_count": null,
   "metadata": {},
   "outputs": [],
   "source": [
    "# s = input()\n",
    "def solution(s):\n",
    "    s_former = s\n",
    "    s = re.sub(\"one\\([ab]\\)|two\\([ab],[ab]\\)\", \"a\", s)\n",
    "    if s_former == s: \n",
    "        if s==\"a\":\n",
    "            return True\n",
    "        return False\n",
    "    if s!=\"\":\n",
    "        return solution(s)\n",
    "\n",
    "if solution(s):\n",
    "    print(\"No Error\")\n",
    "else: \n",
    "    print(\"Syntax Error\")"
   ]
  }
 ],
 "metadata": {
  "kernelspec": {
   "display_name": "Python 3",
   "language": "python",
   "name": "python3"
  },
  "language_info": {
   "codemirror_mode": {
    "name": "ipython",
    "version": 3
   },
   "file_extension": ".py",
   "mimetype": "text/x-python",
   "name": "python",
   "nbconvert_exporter": "python",
   "pygments_lexer": "ipython3",
   "version": "3.6.8rc1"
  },
  "toc": {
   "base_numbering": 1,
   "nav_menu": {},
   "number_sections": true,
   "sideBar": true,
   "skip_h1_title": false,
   "title_cell": "Table of Contents",
   "title_sidebar": "Contents",
   "toc_cell": false,
   "toc_position": {},
   "toc_section_display": true,
   "toc_window_display": false
  },
  "varInspector": {
   "cols": {
    "lenName": 16,
    "lenType": 16,
    "lenVar": 40
   },
   "kernels_config": {
    "python": {
     "delete_cmd_postfix": "",
     "delete_cmd_prefix": "del ",
     "library": "var_list.py",
     "varRefreshCmd": "print(var_dic_list())"
    },
    "r": {
     "delete_cmd_postfix": ") ",
     "delete_cmd_prefix": "rm(",
     "library": "var_list.r",
     "varRefreshCmd": "cat(var_dic_list()) "
    }
   },
   "types_to_exclude": [
    "module",
    "function",
    "builtin_function_or_method",
    "instance",
    "_Feature"
   ],
   "window_display": false
  }
 },
 "nbformat": 4,
 "nbformat_minor": 2
}
