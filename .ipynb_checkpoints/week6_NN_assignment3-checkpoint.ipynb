{
 "cells": [
  {
   "cell_type": "code",
   "execution_count": 1,
   "metadata": {
    "scrolled": false
   },
   "outputs": [
    {
     "name": "stdout",
     "output_type": "stream",
     "text": [
      "[{'weights': [0.13436424411240122, 0.8474337369372327, 0.763774618976614]}]\n",
      "[{'weights': [0.2550690257394217, 0.49543508709194095]}, {'weights': [0.4494910647887381, 0.651592972722763]}]\n"
     ]
    }
   ],
   "source": [
    "from random import seed\n",
    "from random import random\n",
    "import numpy as np\n",
    " \n",
    "# 네트워크 초기 설정\n",
    "def initialize_network(n_inputs, n_hidden, n_outputs):\n",
    "    network = list()\n",
    "    hidden_layer = [{'weights':[random() for i in range(n_inputs + 1)]} for i in range(n_hidden)] # 개수는 같게 설정 \n",
    "    network.append(hidden_layer)\n",
    "    output_layer = [{'weights':[random() for i in range(n_hidden + 1)]} for i in range(n_outputs)] # 개수는 같게 설정 \n",
    "    network.append(output_layer)\n",
    "    return network\n",
    " \n",
    "seed(1)\n",
    "network = initialize_network(2, 1, 2) \n",
    "# (2+1(bias))개의 input node, 1개의 hidden layer, 2개의 ouput node \n",
    "# w 값은 임의로 설정한다\n",
    "\n",
    "\n",
    "for layer in network:\n",
    "    print(layer)\n",
    "\n",
    "# initialize_network function\n",
    "# 첫번째(input node)가 들어가서 두번째(hidden layer)가 나오고 \n",
    "# 두번째(hidden layer)가 들어가서 세번째(output node)가 나온다 \n",
    "\n",
    "# 결과값은 차례대로 \n",
    "# 1) hidden layer: input node의 [w0, w1, w2], (2 input weights + bias)\n",
    "# 2) output node: hidden layer의 [w00, w01], [w10, w11] (1 weight + bias)"
   ]
  },
  {
   "cell_type": "code",
   "execution_count": 2,
   "metadata": {},
   "outputs": [],
   "source": [
    "def activate(weights, inputs):\n",
    "    activation = weights[-1] # weights 벡터의 마지막 값이 bias: 그래서 [-1] 넣는 것. bias는 곱하지 않고 넣어야 하기 때문에 그냥 넣는다 \n",
    "    for i in range(len(weights)-1):\n",
    "        activation += inputs[i] * weights[i]  # 순전파 진행 : 곱해서 activation list에 추가한다는 뜻 \n",
    "    return activation # bias + activation 한 것 = list \n",
    "\n",
    "def sigmoid(activation):\n",
    "    return 1 / (1 + np.exp(-activation)) # 시그모이드 구현\n",
    "\n",
    "def forward_propagate(network, row):\n",
    "    inputs = row\n",
    "    for layer in network: # network = U1, U2 전체를 말하는 것, 그 중 layer는 U1, U2 각각을 말하는 것  \n",
    "        new_inputs = []\n",
    "        for neuron in layer: # layer의 하나의 열이 neuron \n",
    "            activation = activate(neuron['weights'], inputs) # neuron['weight'] = 하나의 열에서 가중치 각각 말하는 것  \n",
    "            neuron['output'] = sigmoid(activation) # 활성함수에 activation 값을 넣어서 출력시킨다 \n",
    "            new_inputs.append(neuron['output']) # new_input은 다음 히든층에 들어갈 값\n",
    "        inputs = new_inputs\n",
    "    return inputs"
   ]
  },
  {
   "cell_type": "markdown",
   "metadata": {},
   "source": [
    "**여기까지는 순전파 학습과정이었습니다. 이 과정이 끝나면 가중치가 바뀌나요?  \n",
    "답변을 답변의 근거 코딩 결과와 함께 보여주세요.**"
   ]
  },
  {
   "cell_type": "code",
   "execution_count": 3,
   "metadata": {
    "scrolled": true
   },
   "outputs": [
    {
     "data": {
      "text/plain": [
       "[[{'weights': [0.13436424411240122, 0.8474337369372327, 0.763774618976614]}],\n",
       " [{'weights': [0.2550690257394217, 0.49543508709194095]},\n",
       "  {'weights': [0.4494910647887381, 0.651592972722763]}]]"
      ]
     },
     "execution_count": 3,
     "metadata": {},
     "output_type": "execute_result"
    }
   ],
   "source": [
    "network # 똑같다: forward propagation은 weight에 전혀 영향을 주지 않는다 "
   ]
  },
  {
   "cell_type": "code",
   "execution_count": 4,
   "metadata": {
    "scrolled": false
   },
   "outputs": [
    {
     "name": "stdout",
     "output_type": "stream",
     "text": [
      "[0.6629970129852887, 0.7253160725279748]\n"
     ]
    }
   ],
   "source": [
    "row = [1, 0, None] # None = bias 의미 \n",
    "output = forward_propagate(network, row)\n",
    "print(output)"
   ]
  },
  {
   "cell_type": "code",
   "execution_count": 5,
   "metadata": {},
   "outputs": [],
   "source": [
    "def sigmoid_derivative(output):\n",
    "    return output * (1 - output) # 시그모이드 미분\n",
    "\n",
    "def backward_propagate_error(network, expected): # expected = 예측값: NN 통과해서 나온 값, ouput = 실제값: target 변수의 값 \n",
    "    for i in reversed(range(len(network))): # network 층 거꾸로 간다 \n",
    "        layer = network[i] # 마지막 층부터 고려한다 \n",
    "        errors = []\n",
    "        if i != len(network)-1: # 출력단인 경우\n",
    "            for j in range(len(layer)):\n",
    "                error = 0.0\n",
    "                for neuron in network[i + 1]: \n",
    "                    error += (neuron['weights'][j] * neuron['delta']) \n",
    "                errors.append(error) \n",
    "        else: # 출력단이 아닌 경우   \n",
    "            for j in range(len(layer)):\n",
    "                neuron = layer[j]\n",
    "                errors.append(expected[j] - neuron['output'])  \n",
    "        \n",
    "            # hidden layer의 error = (가중치 * 에러) * 활성함수 미분(예측값)\n",
    "            # backpropagation에서 hidden -> input 으로 갈 때, (U1으로 미분 과정에서) \n",
    "            # 오류 역전파의 유도 과정에서 결론적으로 다 미분하면 가중치만 남게 되므로 \n",
    "            # 가중치를 곱해 주면서 에러를 업데이트 한다 \n",
    "            \n",
    "        \n",
    "        for j in range(len(layer)):\n",
    "            neuron = layer[j]\n",
    "            neuron['delta'] = errors[j] * sigmoid_derivative(neuron['output'])  \n",
    "            \n",
    "            # output node의 error = (실제값 - 예측값) * 활성함수 미분(예측값)\n",
    "            # output -> hidden으로 갈 때, (U2로 미분 과정에서)\n",
    "            # 결론적으로 Zj만 남게 되므로\n",
    "            # 업데이트 된 에러와 활성함수 미분값을 곱해 delta에 저장한다 "
   ]
  },
  {
   "cell_type": "code",
   "execution_count": 6,
   "metadata": {
    "scrolled": false
   },
   "outputs": [
    {
     "name": "stdout",
     "output_type": "stream",
     "text": [
      "[{'weights': [0.13436424411240122, 0.8474337369372327, 0.763774618976614], 'output': 0.7105668883115941, 'delta': -0.002711797799238243}]\n",
      "[{'weights': [0.2550690257394217, 0.49543508709194095], 'output': 0.6629970129852887, 'delta': -0.14813473120687762}, {'weights': [0.4494910647887381, 0.651592972722763], 'output': 0.7253160725279748, 'delta': 0.05472601157879688}]\n"
     ]
    }
   ],
   "source": [
    "expected = [0, 1] # label\n",
    "\n",
    "backward_propagate_error(network, expected)\n",
    "for layer in network:\n",
    "    print(layer)"
   ]
  },
  {
   "cell_type": "code",
   "execution_count": 7,
   "metadata": {},
   "outputs": [],
   "source": [
    "def weights_update(network, row, l_rate): # 한 단계 가중치 업데이트\n",
    "    for i in range(len(network)):\n",
    "        inputs = row[:-1]\n",
    "        if i != 0:\n",
    "            inputs = [neuron['output'] for neuron in network[i - 1]]\n",
    "        for neuron in network[i]:\n",
    "            for j in range(len(inputs)):\n",
    "                neuron['weights'][j] += l_rate * neuron['delta'] * inputs[j] # 가중치 갱신 : w\n",
    "            neuron['weights'][-1] += l_rate * neuron['delta'] # 퍼셉트론 학습 규칙: bias - Yk의 유무의 따라서 달라지기 때문 \n",
    "            \n",
    "\n",
    "def train_network(network, train, l_rate, n_epoch, n_outputs): # 전체 학습 과정 - 무수히 가중치 업데이트 과정을 반복\n",
    "    for epoch in range(n_epoch): \n",
    "        sum_error = 0\n",
    "        for row in train: # train data set의 하나하나의 row \n",
    "            outputs = forward_propagate(network, row) # 순전파: 예상값  \n",
    "            expected = [0 for i in range(n_outputs)] # label \n",
    "            expected[row[-1]] = 1  # 0 / 1 classification - 값이 있으면 1, 없으면 0으로 채워준다  \n",
    "            sum_error += sum([(expected[i] - outputs[i])**2 for i in range(len(expected))]) # 예측값의 오차 합: euclidean distance \n",
    "            backward_propagate_error(network, expected)\n",
    "            weights_update(network, row, l_rate)\n",
    "        if epoch%100==0:\n",
    "            print('>epoch=%d, lrate=%.3f, error=%.3f' % (epoch, l_rate, sum_error))"
   ]
  },
  {
   "cell_type": "code",
   "execution_count": 8,
   "metadata": {},
   "outputs": [],
   "source": [
    "seed(1)\n",
    "dataset = [[2.7810836,2.550537003,0],\n",
    "    [1.465489372,2.362125076,0],\n",
    "    [3.396561688,4.400293529,0],\n",
    "    [1.38807019,1.850220317,0],\n",
    "    [3.06407232,3.005305973,0],\n",
    "    [7.627531214,2.759262235,1],\n",
    "    [5.332441248,2.088626775,1],\n",
    "    [6.922596716,1.77106367,1],\n",
    "    [8.675418651,-0.242068655,1],\n",
    "    [7.673756466,3.508563011,1]]"
   ]
  },
  {
   "cell_type": "code",
   "execution_count": 9,
   "metadata": {
    "scrolled": false
   },
   "outputs": [
    {
     "name": "stdout",
     "output_type": "stream",
     "text": [
      ">epoch=0, lrate=0.020, error=6.697\n",
      ">epoch=100, lrate=0.020, error=4.299\n",
      ">epoch=200, lrate=0.020, error=3.007\n",
      ">epoch=300, lrate=0.020, error=2.037\n",
      ">epoch=400, lrate=0.020, error=1.415\n",
      ">epoch=500, lrate=0.020, error=1.020\n",
      ">epoch=600, lrate=0.020, error=0.754\n",
      ">epoch=700, lrate=0.020, error=0.570\n",
      ">epoch=800, lrate=0.020, error=0.444\n",
      ">epoch=900, lrate=0.020, error=0.356\n",
      ">epoch=1000, lrate=0.020, error=0.293\n",
      ">epoch=1100, lrate=0.020, error=0.247\n",
      ">epoch=1200, lrate=0.020, error=0.212\n",
      ">epoch=1300, lrate=0.020, error=0.185\n",
      ">epoch=1400, lrate=0.020, error=0.163\n",
      ">epoch=1500, lrate=0.020, error=0.146\n",
      ">epoch=1600, lrate=0.020, error=0.131\n",
      ">epoch=1700, lrate=0.020, error=0.119\n",
      ">epoch=1800, lrate=0.020, error=0.109\n",
      ">epoch=1900, lrate=0.020, error=0.101\n",
      ">epoch=2000, lrate=0.020, error=0.093\n",
      ">epoch=2100, lrate=0.020, error=0.087\n",
      ">epoch=2200, lrate=0.020, error=0.081\n",
      ">epoch=2300, lrate=0.020, error=0.076\n",
      ">epoch=2400, lrate=0.020, error=0.072\n",
      ">epoch=2500, lrate=0.020, error=0.068\n",
      ">epoch=2600, lrate=0.020, error=0.064\n",
      ">epoch=2700, lrate=0.020, error=0.061\n",
      ">epoch=2800, lrate=0.020, error=0.058\n",
      ">epoch=2900, lrate=0.020, error=0.055\n",
      ">epoch=3000, lrate=0.020, error=0.053\n",
      ">epoch=3100, lrate=0.020, error=0.050\n",
      ">epoch=3200, lrate=0.020, error=0.048\n",
      ">epoch=3300, lrate=0.020, error=0.046\n",
      ">epoch=3400, lrate=0.020, error=0.045\n",
      ">epoch=3500, lrate=0.020, error=0.043\n",
      ">epoch=3600, lrate=0.020, error=0.041\n",
      ">epoch=3700, lrate=0.020, error=0.040\n",
      ">epoch=3800, lrate=0.020, error=0.039\n",
      ">epoch=3900, lrate=0.020, error=0.037\n",
      ">epoch=4000, lrate=0.020, error=0.036\n",
      ">epoch=4100, lrate=0.020, error=0.035\n",
      ">epoch=4200, lrate=0.020, error=0.034\n",
      ">epoch=4300, lrate=0.020, error=0.033\n",
      ">epoch=4400, lrate=0.020, error=0.032\n",
      ">epoch=4500, lrate=0.020, error=0.031\n",
      ">epoch=4600, lrate=0.020, error=0.030\n",
      ">epoch=4700, lrate=0.020, error=0.030\n",
      ">epoch=4800, lrate=0.020, error=0.029\n",
      ">epoch=4900, lrate=0.020, error=0.028\n",
      ">epoch=5000, lrate=0.020, error=0.027\n"
     ]
    }
   ],
   "source": [
    "n_inputs = len(dataset[0])-1 # 입력 노드의 개수는 training data의 독립변수 개수 (X1, X2)\n",
    "n_outputs = len(set([dataset[i][-1] for i in range(len(dataset))])) # output의 target 개수 = 여기에서는 2 (0, 1) \n",
    "network = initialize_network(n_inputs, 2, n_outputs)\n",
    "\n",
    "train_network(network, dataset, 0.02, 5001, n_outputs) # 자유롭게 설정하고 최적을 찾아보세요."
   ]
  },
  {
   "cell_type": "code",
   "execution_count": 10,
   "metadata": {},
   "outputs": [
    {
     "name": "stdout",
     "output_type": "stream",
     "text": [
      "[{'weights': [-1.9544732139957548, 2.704321541499767, 1.427507893789529], 'output': 0.016593738310259763, 'delta': -0.000252180328244517}, {'weights': [1.134364357068215, -1.6866805418327002, -0.3324719515881516], 'output': 0.9208338348540293, 'delta': 0.0005597952940571184}]\n",
      "[{'weights': [4.903406947389829, -2.108155861429033, -1.2721372756183076], 'output': 0.04180758754504879, 'delta': -0.0016747999653304656}, {'weights': [-4.566502112347264, 2.615993561526247, 0.8280139001392679], 'output': 0.9593429092162126, 'delta': 0.0015857928993322072}]\n"
     ]
    }
   ],
   "source": [
    "# 업데이트 된 가중치 \n",
    "for layer in network:\n",
    "    print(layer)"
   ]
  },
  {
   "cell_type": "code",
   "execution_count": 11,
   "metadata": {},
   "outputs": [],
   "source": [
    "# 학습한 네트워크로 예측값을 뽑아보자.\n",
    "\n",
    "def predict(network, row):\n",
    "    outputs = forward_propagate(network, row)\n",
    "    return outputs.index(max(outputs))\n",
    "\n",
    "# 데이터셋 별로 예측하는 것 = 0 / 1 라벨에 속할 '확률'값 \n",
    "# 이 중에 더 큰 것이 최종적으로 예측한 값 \n",
    "# output의 max의 index를 구하면 된다 "
   ]
  },
  {
   "cell_type": "code",
   "execution_count": 12,
   "metadata": {},
   "outputs": [
    {
     "name": "stdout",
     "output_type": "stream",
     "text": [
      "실제값=0, 예측값=0\n",
      "실제값=0, 예측값=0\n",
      "실제값=0, 예측값=0\n",
      "실제값=0, 예측값=0\n",
      "실제값=0, 예측값=0\n",
      "실제값=1, 예측값=1\n",
      "실제값=1, 예측값=1\n",
      "실제값=1, 예측값=1\n",
      "실제값=1, 예측값=1\n",
      "실제값=1, 예측값=1\n"
     ]
    }
   ],
   "source": [
    "# 네트워크가 잘 학습되었는지 확인해보자. \n",
    "\n",
    "for row in dataset:\n",
    "    prediction = predict(network, row) # 앞서 최적(학습)시킨 네트워크로 잘 학습되었는지 평가 \n",
    "    print('실제값=%d, 예측값=%d' % (row[-1], prediction))"
   ]
  }
 ],
 "metadata": {
  "kernelspec": {
   "display_name": "Python 3",
   "language": "python",
   "name": "python3"
  },
  "language_info": {
   "codemirror_mode": {
    "name": "ipython",
    "version": 3
   },
   "file_extension": ".py",
   "mimetype": "text/x-python",
   "name": "python",
   "nbconvert_exporter": "python",
   "pygments_lexer": "ipython3",
   "version": "3.6.8rc1"
  },
  "toc": {
   "base_numbering": 1,
   "nav_menu": {},
   "number_sections": true,
   "sideBar": true,
   "skip_h1_title": false,
   "title_cell": "Table of Contents",
   "title_sidebar": "Contents",
   "toc_cell": false,
   "toc_position": {},
   "toc_section_display": true,
   "toc_window_display": false
  },
  "varInspector": {
   "cols": {
    "lenName": 16,
    "lenType": 16,
    "lenVar": 40
   },
   "kernels_config": {
    "python": {
     "delete_cmd_postfix": "",
     "delete_cmd_prefix": "del ",
     "library": "var_list.py",
     "varRefreshCmd": "print(var_dic_list())"
    },
    "r": {
     "delete_cmd_postfix": ") ",
     "delete_cmd_prefix": "rm(",
     "library": "var_list.r",
     "varRefreshCmd": "cat(var_dic_list()) "
    }
   },
   "types_to_exclude": [
    "module",
    "function",
    "builtin_function_or_method",
    "instance",
    "_Feature"
   ],
   "window_display": false
  }
 },
 "nbformat": 4,
 "nbformat_minor": 2
}
