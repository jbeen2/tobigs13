{
 "cells": [
  {
   "cell_type": "markdown",
   "metadata": {},
   "source": [
    "# 1번"
   ]
  },
  {
   "cell_type": "code",
   "execution_count": 10,
   "metadata": {},
   "outputs": [
    {
     "name": "stdout",
     "output_type": "stream",
     "text": [
      "4\n"
     ]
    }
   ],
   "source": [
    "N = int(input())"
   ]
  },
  {
   "cell_type": "code",
   "execution_count": 18,
   "metadata": {},
   "outputs": [
    {
     "name": "stdout",
     "output_type": "stream",
     "text": [
      "11\n"
     ]
    }
   ],
   "source": [
    "print(int(\"1\"*(N//2)) if N%2 == 0 else int(\"7\"+\"1\"*(N//2-1)))"
   ]
  },
  {
   "cell_type": "markdown",
   "metadata": {},
   "source": [
    "# 2번"
   ]
  },
  {
   "cell_type": "markdown",
   "metadata": {},
   "source": [
    "```C++\n",
    "#include <iostream>\n",
    "#include <string.h>\n",
    "using namespace std;\n",
    "int board[51][51];\n",
    "int color[51][51];\n",
    "int main() {\n",
    "   int T;\n",
    "   cin >> T;\n",
    "   int N, M;\n",
    "   while(T--){\n",
    "      memset(board, -1, sizeof(board));\n",
    "      memset(color, 0, sizeof(color));\n",
    "      cin >> N >> M;\n",
    "      for(int i=1;i<=N;i++){\n",
    "         for(int j=1;j<=M;j++){\n",
    "            cin >> board[i][j];\n",
    "         }\n",
    "      }\n",
    "      for(int i=1;i<=N;i++){\n",
    "         for(int j=1;j<=M;j++){\n",
    "            if((i+1)<=N && (j+1)<=M){\n",
    "               if(board[i][j]==1 && board[i+1][j]==1 && board[i][j+1]==1 && board[i+1][j+1]==1){\n",
    "                  color[i][j] = 1;\n",
    "                  color[i+1][j] = 1;\n",
    "                  color[i][j+1] = 1;\n",
    "                  color[i+1][j+1] = 1;\n",
    "               }\n",
    "            }\n",
    "         }\n",
    "      }\n",
    "      bool check = true;\n",
    "      for(int i=1;i<=N;i++){\n",
    "         for(int j=1;j<=M;j++){\n",
    "            if(board[i][j]!=color[i][j]){\n",
    "               check = false;\n",
    "            }\n",
    "         }\n",
    "      }\n",
    "      \n",
    "      if(check) printf(\"YES\\n\");\n",
    "      else printf(\"NO\\n\");\n",
    "   }\n",
    "   return 0;\n",
    "}\n",
    "```"
   ]
  },
  {
   "cell_type": "code",
   "execution_count": 35,
   "metadata": {
    "scrolled": true
   },
   "outputs": [
    {
     "name": "stdout",
     "output_type": "stream",
     "text": [
      "2\n",
      "2 2\n",
      "1 1 \n",
      "1 0\n",
      "2 2\n",
      "1 1 \n",
      "1 1\n"
     ]
    }
   ],
   "source": [
    "testnum = int(input())\n",
    "tablelist = []\n",
    "\n",
    "for test in range(testnum): \n",
    "    n, m = map(int, input().split())\n",
    "    tablelist.append([list(map(int, input().split())) for _ in range(n)])"
   ]
  },
  {
   "cell_type": "code",
   "execution_count": 37,
   "metadata": {},
   "outputs": [
    {
     "name": "stdout",
     "output_type": "stream",
     "text": [
      "NO\n",
      "YES\n"
     ]
    }
   ],
   "source": [
    "for table in tablelist: \n",
    "    for i in range(n-1):\n",
    "        for j in range(m-1):\n",
    "            checklist = [table[i][j], table[i][j+1], table[i+1][j], table[i+1][j+1]] # 타일 \n",
    "            if 0 not in checklist: # 비워두고 싶은 부분이 없으면 다 2로 색칠한다 \n",
    "                table[i][j], table[i][j+1], table[i+1][j], table[i+1][j+1] = 2,2,2,2 \n",
    "                \n",
    "    answer = 0\n",
    "    for t in table: \n",
    "        if 1 in t: \n",
    "            answer += 1 \n",
    "\n",
    "    print(\"NO\" if answer != 0 else \"YES\")"
   ]
  }
 ],
 "metadata": {
  "kernelspec": {
   "display_name": "Python 3",
   "language": "python",
   "name": "python3"
  },
  "language_info": {
   "codemirror_mode": {
    "name": "ipython",
    "version": 3
   },
   "file_extension": ".py",
   "mimetype": "text/x-python",
   "name": "python",
   "nbconvert_exporter": "python",
   "pygments_lexer": "ipython3",
   "version": "3.6.8rc1"
  },
  "toc": {
   "base_numbering": 1,
   "nav_menu": {},
   "number_sections": true,
   "sideBar": true,
   "skip_h1_title": false,
   "title_cell": "Table of Contents",
   "title_sidebar": "Contents",
   "toc_cell": false,
   "toc_position": {},
   "toc_section_display": true,
   "toc_window_display": false
  },
  "varInspector": {
   "cols": {
    "lenName": 16,
    "lenType": 16,
    "lenVar": 40
   },
   "kernels_config": {
    "python": {
     "delete_cmd_postfix": "",
     "delete_cmd_prefix": "del ",
     "library": "var_list.py",
     "varRefreshCmd": "print(var_dic_list())"
    },
    "r": {
     "delete_cmd_postfix": ") ",
     "delete_cmd_prefix": "rm(",
     "library": "var_list.r",
     "varRefreshCmd": "cat(var_dic_list()) "
    }
   },
   "types_to_exclude": [
    "module",
    "function",
    "builtin_function_or_method",
    "instance",
    "_Feature"
   ],
   "window_display": false
  }
 },
 "nbformat": 4,
 "nbformat_minor": 2
}
