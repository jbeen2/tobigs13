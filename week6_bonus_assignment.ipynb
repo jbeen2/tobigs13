{
 "cells": [
  {
   "cell_type": "markdown",
   "metadata": {},
   "source": [
    "# Assignment 1"
   ]
  },
  {
   "cell_type": "markdown",
   "metadata": {},
   "source": [
    "## Matrix Shape 정리\n",
    "\n",
    "n : sample_data 수  \n",
    "d : input_dimension  \n",
    "h : hidden_layer_dimension  \n",
    "c : output_dimension  \n",
    "\n",
    "X : input_data  \n",
    "W1 : layer1_weight  \n",
    "b1 : layer1_bias  \n",
    "H : XW1+b1   \n",
    "A : activation function 거친 value   \n",
    "W2 : layer2_weight  \n",
    "b2 : layer2_bias  \n",
    "S : AW2+b2  \n",
    "P : softmax 거친 value  \n",
    "\n",
    "**X==(n,d)**  \n",
    "**W1==(d,h)** # d = 독립변수 개수, h = hidden layer의 차원의 개수      \n",
    "**b1==(h,)**  # bias에서 hidden layer 각각에 영향을 준 것      \n",
    "**H==(n,h)** # bias는 (n,d)* (d,h) = (n,h)에 broadcast로 더해짐          \n",
    "**A==(n,h)**  # H를 activation function에 넣어 값을 바꿔 줌      \n",
    "**W2==(h,c)** # h = hidden layer 차원의 개수, c = output layer 차원의 개수 (클래스의 개수)      \n",
    "**b2==(c,)** # bias에서 output layer 각각에 영향을 준 것       \n",
    "**S==(n,c)** # 위의 이유와 마찬가지         \n",
    "**P==(n,c)** # S를 activation function에 넣어 값을 바꿔 줌     "
   ]
  },
  {
   "cell_type": "markdown",
   "metadata": {},
   "source": [
    "## Matrix 미분 정리\n",
    "$H = XW+b　　　(n,h) = (n,d)x(d,h)+(h,)$  \n",
    "$L = f(H)$\n",
    "\n",
    "\n",
    "\n",
    "$\\frac{\\partial L}{\\partial W} = \\frac{\\partial H}{\\partial W} \\times \\frac{\\partial L}{\\partial H} = X^T \\times \\frac{\\partial L}{\\partial H}$ 　  \n",
    "$\\frac{\\partial L}{\\partial X} = \\frac{\\partial L}{\\partial H} \\times \\frac{\\partial H}{\\partial X} = \\frac{\\partial L}{\\partial H} \\times W^T $ 　  \n",
    "$\\frac{\\partial L}{\\partial b} = 1*\\frac{\\partial L}{\\partial H}$  "
   ]
  },
  {
   "cell_type": "markdown",
   "metadata": {},
   "source": [
    "## 2Layers Chain Rule 정리\n",
    "**Forward** \n",
    "\n",
    "$H = XW_{1} + b_{1}$  \n",
    "$A = ReLU(H)$  \n",
    "$S = AW_{2} + b_{2}$  \n",
    "$P = Softmax(S)$  \n",
    "$L = -LogLikelihood(P)$\n",
    "\n",
    "\n",
    "**Backward**\n",
    "\n",
    "$\\frac{\\partial L}{\\partial S} = P-T$　:　T는 Label  \n",
    "$\\frac{\\partial L}{\\partial W_{2}} = \\frac{\\partial S}{\\partial W_{2}}\\frac{\\partial L}{\\partial S} = {A^T}\\frac{\\partial L}{\\partial S} = {A^T}(P-T) $ 　    \n",
    "$\\frac{\\partial L}{\\partial b_{2}} = 1*\\frac{\\partial L}{\\partial S} = P-T$  \n",
    "$\\frac{\\partial L}{\\partial A} = \\frac{\\partial L}{\\partial S}\\frac{\\partial S}{\\partial A} = \\frac{\\partial L}{\\partial S}{W_{2}^T} =(P-T){W_{2}^T}$　    \n",
    "$\\frac{\\partial L}{\\partial H} = \\frac{\\partial A}{\\partial H}\\frac{\\partial L}{\\partial A}$  \n",
    "$\\frac{\\partial L}{\\partial W_{1}} = \\frac{\\partial H}{\\partial W_{1}}\\frac{\\partial L}{\\partial H} = X^{T}\\frac{\\partial L}{\\partial H}$  \n",
    "$\\frac{\\partial L}{\\partial b_{1}} = \\frac{\\partial L}{\\partial H}$  "
   ]
  },
  {
   "cell_type": "markdown",
   "metadata": {},
   "source": [
    "# Assignment 2"
   ]
  },
  {
   "cell_type": "markdown",
   "metadata": {},
   "source": [
    "`model.py`"
   ]
  },
  {
   "cell_type": "code",
   "execution_count": null,
   "metadata": {},
   "outputs": [],
   "source": [
    "import numpy as np\n",
    "import math\n",
    "\n",
    "class TwoLayerNet():\n",
    "    \"\"\"\n",
    "    2 Layer Network를 만드려고 합니다.\n",
    "\n",
    "    해당 네트워크는 아래의 구조를 따릅니다.\n",
    "\n",
    "    input - Linear - ReLU - Linear - Softmax\n",
    "\n",
    "    Softmax 결과는 입력 N개의 데이터에 대해 개별 클래스에 대한 확률입니다.\n",
    "    \"\"\"\n",
    "\n",
    "    def __init__(self, X, input_size, hidden_size, output_size, std=1e-4):\n",
    "         \"\"\"\n",
    "         네트워크에 필요한 가중치들을 initialization합니다.\n",
    "         initialized by random values\n",
    "         해당 가중치들은 self.params 라는 Dictionary에 담아둡니다.\n",
    "\n",
    "         input_size: 데이터의 변수 개수 - D\n",
    "         hidden_size: 히든 층의 H 개수 - H\n",
    "         output_size: 클래스 개수 - C\n",
    "\n",
    "         \"\"\"\n",
    "\n",
    "         self.params = {}\n",
    "         self.params[\"W1\"] = std * np.random.randn(input_size, hidden_size)\n",
    "         self.params[\"b1\"] = np.random.randn(hidden_size)\n",
    "         self.params[\"W2\"] = std * np.random.randn(hidden_size, output_size)\n",
    "         self.params[\"b2\"] = np.random.randn(output_size)\n",
    "\n",
    "    def forward(self, X, y=None):\n",
    "\n",
    "        \"\"\"\n",
    "\n",
    "        X: input 데이터 (N, D)\n",
    "        y: 레이블 (N,)\n",
    "\n",
    "        Linear - ReLU - Linear - Softmax - CrossEntropy Loss\n",
    "        \n",
    "        y가 주어지지 않으면 Softmax 결과 p와 Activation 결과 a를 return합니다. p와 a 모두 backward에서 미분할때 사용합니다.\n",
    "        y가 주어지면 CrossEntropy Error를 return합니다.\n",
    "\n",
    "        \"\"\"\n",
    "\n",
    "        W1, b1 = self.params[\"W1\"], self.params[\"b1\"]\n",
    "        W2, b2 = self.params[\"W2\"], self.params[\"b2\"]\n",
    "        N, D = X.shape\n",
    "\n",
    "\n",
    "        h = X.dot(W1)+b1 # Linear\n",
    "        a = np.maximum(0, h) # ReLU: h>0일 때에는 h, h<0일 때에는 0\n",
    "        o = np.dot(a,W2)+b2 # Linear\n",
    "        p = np.exp(o)/np.sum(np.exp(o),axis=1).reshape(-1,1) # softmax, bias shape에 맞게 늘려준다 \n",
    "\n",
    "        if y is None: # backpropagate를 수행하기 위해서는 y class 값에 None값이 들어가야 함 \n",
    "            return p, a\n",
    "\n",
    "       \n",
    "        # CrossEntropy Loss    \n",
    "        Loss = 0\n",
    "        for i in range(p.shape[0]):\n",
    "            for j in range(p.shape[1]):\n",
    "                if y[i] == j:\n",
    "                    Loss -= np.log(p[i][j])\n",
    "\n",
    "        return Loss\n",
    "\n",
    "\n",
    "\n",
    "    def backward(self, X, y, learning_rate=1e-5):\n",
    "        \"\"\"\n",
    "\n",
    "        X: input 데이터 (N, D)\n",
    "        y: 레이블 (N,)\n",
    "\n",
    "        grads에는 Loss에 대한 W1, b1, W2, b2 미분 값이 기록됩니다.\n",
    "\n",
    "        원래 backw 미분 결과를 return 하지만\n",
    "        여기서는 Gradient Descent방식으로 가중치 갱신까지 합니다.\n",
    "\n",
    "        \"\"\"\n",
    "        W1, b1 = self.params[\"W1\"], self.params[\"b1\"]\n",
    "        W2, b2 = self.params[\"W2\"], self.params[\"b2\"]\n",
    "        N = X.shape[0] # 데이터 개수\n",
    "        grads = {}\n",
    "\n",
    "        p, a = self.forward(X)\n",
    "        \n",
    "        \n",
    "        # (softmax+cross entropy) derivative\n",
    "        dp = p\n",
    "        for i in range(p.shape[0]):\n",
    "            for j in range(p.shape[1]):\n",
    "                if(j==y[i]): # 일치 / 불일치 \n",
    "                    dp[i][j]-=1 # p-y: 확률값에서 class 값을 빼준다 (일치하면 1, 아니면 0) \n",
    "          \n",
    "        # ReLU derivative\n",
    "        da = np.heaviside(a,0) # a<=0이면 da=0, a>0이면 da=1\n",
    "        \n",
    "        \n",
    "\n",
    "        grads[\"W2\"] = np.dot(a.T, dp) # A^T*(P-T)\n",
    "        grads[\"b2\"] = np.sum(dp, axis=0) # bias에 대한 영향을 모두 더해준다    \n",
    "        grads[\"W1\"] = np.dot(X.T, da*np.dot(dp,W2.T)) # X^T*(dZ/dY)\n",
    "        grads[\"b1\"] = np.sum(da*np.dot(dp,W2.T), axis=0)\n",
    "\n",
    "        self.params[\"W2\"] -= learning_rate * grads[\"W2\"]\n",
    "        self.params[\"b2\"] -= learning_rate * grads[\"b2\"]\n",
    "        self.params[\"W1\"] -= learning_rate * grads[\"W1\"]\n",
    "        self.params[\"b1\"] -= learning_rate * grads[\"b1\"]\n",
    "\n",
    "    def accuracy(self, X, y):\n",
    "\n",
    "        p, _ = self.forward(X)\n",
    "        \n",
    "        \n",
    "        pre_p = np.argmax(p,axis=1) # 두 클래스 중 어느 클래스에 속할 확률이 높은지 체크 \n",
    "\n",
    "        return np.sum(pre_p==y)/pre_p.shape[0]\n",
    "\n",
    "    \n",
    "\n",
    "    \n",
    "class ThreeLayerNet():\n",
    "\n",
    "    \"\"\"\n",
    "    3 Layer Network\n",
    "    input - [Linear - ReLU] - [Linear - ReLU] - Linear - Softmax\n",
    "    \"\"\"\n",
    "    \n",
    "    def __init__(self, X, input_size, hidden_size1, hidden_size2, output_size, std=1e-4):\n",
    "\n",
    "         self.params = {}\n",
    "         self.params[\"W1\"] = std * np.random.randn(input_size, hidden_size1)\n",
    "         self.params[\"b1\"] = np.random.randn(hidden_size1)\n",
    "         self.params[\"W2\"] = std * np.random.randn(hidden_size1, hidden_size2)\n",
    "         self.params[\"b2\"] = np.random.randn(hidden_size2)\n",
    "         self.params[\"W3\"] = std * np.random.randn(hidden_size2, output_size)\n",
    "         self.params[\"b3\"] = np.random.randn(output_size)\n",
    "\n",
    "    def forward(self, X, y=None):\n",
    "\n",
    "        \"\"\"\n",
    "        [Linear - ReLU] - [Linear - ReLU] - Linear - Softmax - CrossEntropy Loss        \n",
    "        \"\"\"\n",
    "\n",
    "        W1, b1 = self.params[\"W1\"], self.params[\"b1\"]\n",
    "        W2, b2 = self.params[\"W2\"], self.params[\"b2\"]\n",
    "        W3, b3 = self.params[\"W3\"], self.params[\"b3\"]\n",
    "        N, D = X.shape\n",
    "\n",
    "\n",
    "        h1 = X.dot(W1)+b1 # Linear\n",
    "        a1 = np.maximum(0, h1) # ReLU\n",
    "        h2 = np.dot(a1,W2)+b2 # Linear\n",
    "        a2 = np.maximum(0, h2) # ReLU\n",
    "        o = np.dot(a2,W3)+b3 # Linear\n",
    "        p = np.exp(o)/np.sum(np.exp(o),axis=1).reshape(-1,1) # softmax\n",
    "\n",
    "        if y is None: \n",
    "            return p, a1, a2\n",
    "\n",
    "       \n",
    "        # CrossEntropy Loss    \n",
    "        Loss = 0\n",
    "        for i in range(p.shape[0]):\n",
    "            for j in range(p.shape[1]):\n",
    "                if y[i] == j:\n",
    "                    Loss -= np.log(p[i][j])\n",
    "\n",
    "        return Loss\n",
    "\n",
    "\n",
    "\n",
    "    def backward(self, X, y, learning_rate=1e-5):\n",
    "\n",
    "        W1, b1 = self.params[\"W1\"], self.params[\"b1\"]\n",
    "        W2, b2 = self.params[\"W2\"], self.params[\"b2\"]\n",
    "        W3, b3 = self.params[\"W3\"], self.params[\"b3\"]\n",
    "        N = X.shape[0] # 데이터 개수\n",
    "        grads = {}\n",
    "\n",
    "        p, a1, a2 = self.forward(X)\n",
    "\n",
    "        \n",
    "        # (softmax+cross entropy) derivative\n",
    "        dp = p\n",
    "        for i in range(p.shape[0]):\n",
    "            for j in range(p.shape[1]):\n",
    "                if(j==y[i]): # 일치 / 불일치 \n",
    "                    dp[i][j]-=1 # p-y: 확률값에서 class 값을 빼준다 (일치하면 1, 아니면 0) \n",
    "          \n",
    "        # ReLU derivative\n",
    "        da1 = np.heaviside(a1,0)\n",
    "        da2 = np.heaviside(a2,0)\n",
    "\n",
    "        \n",
    "        grads[\"W3\"] = np.dot(a2.T, dp) \n",
    "        grads[\"b3\"] = np.sum(dp, axis=0)\n",
    "        grads[\"W2\"] = np.dot(a1.T, da2*np.dot(dp,W3.T)) \n",
    "        grads[\"b2\"] = np.sum(da2*np.dot(dp,W3.T), axis=0)\n",
    "        grads[\"W1\"] = np.dot(X.T, da1*np.dot(da2*np.dot(dp,W3.T),W2.T)) \n",
    "        grads[\"b1\"] = np.sum(da1*np.dot(da2*np.dot(dp,W3.T),W2.T), axis=0)\n",
    "        \n",
    "        \n",
    "        self.params[\"W3\"] -= learning_rate * grads[\"W3\"]\n",
    "        self.params[\"b3\"] -= learning_rate * grads[\"b3\"]\n",
    "        self.params[\"W2\"] -= learning_rate * grads[\"W2\"]\n",
    "        self.params[\"b2\"] -= learning_rate * grads[\"b2\"]\n",
    "        self.params[\"W1\"] -= learning_rate * grads[\"W1\"]\n",
    "        self.params[\"b1\"] -= learning_rate * grads[\"b1\"]\n",
    "\n",
    "    def accuracy(self, X, y):\n",
    "\n",
    "        p, _, _ = self.forward(X)\n",
    "                \n",
    "        pre_p = np.argmax(p,axis=1) # 두 클래스 중 어느 클래스에 속할 확률이 높은지 체크 \n",
    "\n",
    "        return np.sum(pre_p==y)/pre_p.shape[0]\n"
   ]
  },
  {
   "cell_type": "markdown",
   "metadata": {},
   "source": [
    "# Assignment 3"
   ]
  },
  {
   "cell_type": "markdown",
   "metadata": {},
   "source": [
    "### 데이터 load\n",
    "\n",
    "keras 프레임워크를 이용하여 데이터 로드       \n",
    "32* 32 * 3차원의 데이터 ->  3072차원"
   ]
  },
  {
   "cell_type": "code",
   "execution_count": 1,
   "metadata": {
    "scrolled": true
   },
   "outputs": [
    {
     "name": "stderr",
     "output_type": "stream",
     "text": [
      "Using TensorFlow backend.\n"
     ]
    }
   ],
   "source": [
    "from keras.datasets import cifar10\n",
    "import numpy as np\n",
    "from Model import TwoLayerNet, ThreeLayerNet\n",
    "from matplotlib import pyplot as plt"
   ]
  },
  {
   "cell_type": "code",
   "execution_count": 2,
   "metadata": {},
   "outputs": [],
   "source": [
    "(x_train, y_train), (x_test, y_test) = cifar10.load_data()"
   ]
  },
  {
   "cell_type": "code",
   "execution_count": 3,
   "metadata": {},
   "outputs": [],
   "source": [
    "def preprocessing_data(x_train, x_test, y_train, y_test):\n",
    "    #change dtype\n",
    "    x_train = np.array(x_train, dtype=np.float64)\n",
    "    x_test = np.array(x_test, dtype=np.float64)\n",
    "    \n",
    "    #reshaping\n",
    "    x_train = np.reshape(x_train, (x_train.shape[0], -1))\n",
    "    x_test = np.reshape(x_test, (x_test.shape[0], -1))\n",
    "    \n",
    "    y_train = np.reshape(y_train, (y_train.shape[0],))\n",
    "    y_test = np.reshape(y_test, (y_test.shape[0],))\n",
    "        \n",
    "    #normalizing\n",
    "    mean_value = np.mean(x_train, axis=0)\n",
    "    x_train -= mean_value\n",
    "    x_test -= mean_value\n",
    "    \n",
    "    return x_train, x_test, y_train, y_test"
   ]
  },
  {
   "cell_type": "code",
   "execution_count": 4,
   "metadata": {},
   "outputs": [],
   "source": [
    "x_train, x_test, y_train, y_test = preprocessing_data(x_train, x_test, y_train, y_test)"
   ]
  },
  {
   "cell_type": "code",
   "execution_count": 5,
   "metadata": {},
   "outputs": [
    {
     "name": "stdout",
     "output_type": "stream",
     "text": [
      "(50000, 3072)\n",
      "(10000, 3072)\n",
      "(50000,)\n",
      "(10000,)\n"
     ]
    }
   ],
   "source": [
    "print(x_train.shape)\n",
    "print(x_test.shape)\n",
    "print(y_train.shape)\n",
    "print(y_test.shape)"
   ]
  },
  {
   "cell_type": "code",
   "execution_count": 6,
   "metadata": {},
   "outputs": [],
   "source": [
    "# train 5000개, test 1000개만 사용 \n",
    "x_train = x_train[:5000]\n",
    "y_train = y_train[:5000]\n",
    "x_test = x_test[:1000]\n",
    "y_test = y_test[:1000]"
   ]
  },
  {
   "cell_type": "markdown",
   "metadata": {},
   "source": [
    "### 데이터 확인\n"
   ]
  },
  {
   "cell_type": "code",
   "execution_count": 7,
   "metadata": {},
   "outputs": [
    {
     "data": {
      "text/plain": [
       "array([[ -71.71074,  -74.05614,  -69.5538 , ...,   -3.63908,  -33.8503 ,\n",
       "         -42.38186],\n",
       "       [  23.28926,   40.94386,   54.4462 , ...,   16.36092,    7.1497 ,\n",
       "          29.61814],\n",
       "       [ 124.28926,  118.94386,  122.4462 , ...,  -46.63908,  -39.8503 ,\n",
       "         -30.38186],\n",
       "       ...,\n",
       "       [  36.28926,   26.94386,   12.4462 , ...,  -84.63908,  -47.8503 ,\n",
       "         -30.38186],\n",
       "       [  23.28926,   15.94386,   -7.5538 , ...,   67.36092,  121.1497 ,\n",
       "          -0.38186],\n",
       "       [ -85.71074, -104.05614, -111.5538 , ...,   29.36092,   16.1497 ,\n",
       "         -14.38186]])"
      ]
     },
     "execution_count": 7,
     "metadata": {},
     "output_type": "execute_result"
    }
   ],
   "source": [
    "x_train"
   ]
  },
  {
   "cell_type": "markdown",
   "metadata": {},
   "source": [
    "### 하이퍼파라미터 설정\n",
    "* hidden_size, epoch_size, batch_size, learning_rate"
   ]
  },
  {
   "cell_type": "code",
   "execution_count": 8,
   "metadata": {},
   "outputs": [],
   "source": [
    "input_size = 32 * 32 * 3\n",
    "hidden_size = 128 # hidden layer의 weight의 개수 \n",
    "output_size = 10 # output target 종류의 개수 \n",
    "epoch_size = 1500 # 반복 횟수 \n",
    "batch_size = 100 # n개의 train data 중에서 (다 사용해서 학습시키기에는 비효율적이므로) batch size 개수만큼 뽑아서 보는 것 \n",
    "learning_rate = 0.00005\n",
    "N = x_train.shape[0]"
   ]
  },
  {
   "cell_type": "markdown",
   "metadata": {},
   "source": [
    "### 모델 만들기"
   ]
  },
  {
   "cell_type": "code",
   "execution_count": 15,
   "metadata": {},
   "outputs": [],
   "source": [
    "batch_mask = np.random.choice(N, batch_size) #이번 배치에서 쓸 데이터들 인덱스 추출\n",
    "x_batch = x_train[batch_mask]"
   ]
  },
  {
   "cell_type": "code",
   "execution_count": 16,
   "metadata": {},
   "outputs": [],
   "source": [
    "nn = TwoLayerNet(x_batch, input_size=input_size, hidden_size=hidden_size, output_size=output_size)"
   ]
  },
  {
   "cell_type": "code",
   "execution_count": 17,
   "metadata": {},
   "outputs": [
    {
     "name": "stdout",
     "output_type": "stream",
     "text": [
      "0 test accuracy : 0.103\n",
      "0 test loss     : 2530.5576536523995\n",
      "50 test accuracy : 0.21\n",
      "50 test loss     : 2122.8904870853808\n",
      "100 test accuracy : 0.263\n",
      "100 test loss     : 1984.34811017418\n",
      "150 test accuracy : 0.322\n",
      "150 test loss     : 1896.6418573880455\n",
      "200 test accuracy : 0.352\n",
      "200 test loss     : 1835.961531855829\n",
      "250 test accuracy : 0.365\n",
      "250 test loss     : 1788.0987932195706\n",
      "300 test accuracy : 0.367\n",
      "300 test loss     : 1748.0641940996861\n",
      "350 test accuracy : 0.385\n",
      "350 test loss     : 1716.3556974222147\n",
      "400 test accuracy : 0.387\n",
      "400 test loss     : 1695.1599419906433\n",
      "450 test accuracy : 0.401\n",
      "450 test loss     : 1676.0968958220699\n",
      "500 test accuracy : 0.4\n",
      "500 test loss     : 1663.1826727584516\n",
      "550 test accuracy : 0.399\n",
      "550 test loss     : 1649.2319647155562\n",
      "600 test accuracy : 0.402\n",
      "600 test loss     : 1638.9833782514443\n",
      "650 test accuracy : 0.403\n",
      "650 test loss     : 1632.3261224713156\n",
      "700 test accuracy : 0.41\n",
      "700 test loss     : 1627.593809882068\n",
      "750 test accuracy : 0.416\n",
      "750 test loss     : 1620.7285544467854\n",
      "800 test accuracy : 0.412\n",
      "800 test loss     : 1618.8339853352786\n",
      "850 test accuracy : 0.416\n",
      "850 test loss     : 1619.7211409691563\n",
      "900 test accuracy : 0.426\n",
      "900 test loss     : 1623.8464376246732\n",
      "950 test accuracy : 0.427\n",
      "950 test loss     : 1629.602835292533\n",
      "1000 test accuracy : 0.429\n",
      "1000 test loss     : 1638.769852286409\n",
      "1050 test accuracy : 0.422\n",
      "1050 test loss     : 1647.0076891824726\n",
      "1100 test accuracy : 0.425\n",
      "1100 test loss     : 1655.6629319521608\n",
      "1150 test accuracy : 0.429\n",
      "1150 test loss     : 1663.6488452689248\n",
      "1200 test accuracy : 0.42\n",
      "1200 test loss     : 1680.7046256494148\n",
      "1250 test accuracy : 0.429\n",
      "1250 test loss     : 1690.6418388765426\n",
      "1300 test accuracy : 0.428\n",
      "1300 test loss     : 1705.9154785718492\n",
      "1350 test accuracy : 0.426\n",
      "1350 test loss     : 1725.315085200147\n",
      "1400 test accuracy : 0.429\n",
      "1400 test loss     : 1741.8365242983873\n",
      "1450 test accuracy : 0.426\n",
      "1450 test loss     : 1762.2839421632154\n"
     ]
    }
   ],
   "source": [
    "history = {'val_acc': [],'val_loss': []} #기록해서 그림 그리자!\n",
    "\n",
    "#코드를 보며 epoch, batch에 대해서 이해해봅시다.\n",
    "for i in range(epoch_size):\n",
    "    for j in range(N//batch_size):\n",
    "        batch_mask = np.random.choice(N, batch_size) #이번 배치에서 쓸 데이터들 인덱스 추출\n",
    "        x_batch = x_train[batch_mask]\n",
    "        t_batch = y_train[batch_mask]\n",
    "        \n",
    "        nn.backward(x_batch, t_batch, 1e-7) # 가중치 갱신\n",
    "    \n",
    "    #accuracy와 loss를 기록해둡시다.\n",
    "    history[\"val_acc\"].append(nn.accuracy(x_test, y_test))\n",
    "    history[\"val_loss\"].append(nn.forward(x_test, y_test))\n",
    "    \n",
    "    if i % 50 == 0:\n",
    "        print(i, \"test accuracy :\", nn.accuracy(x_test, y_test))\n",
    "        print(i, \"test loss     :\", nn.forward(x_test, y_test))"
   ]
  },
  {
   "cell_type": "markdown",
   "metadata": {},
   "source": [
    "### 그림 그리기"
   ]
  },
  {
   "cell_type": "code",
   "execution_count": 18,
   "metadata": {
    "scrolled": true
   },
   "outputs": [
    {
     "data": {
      "image/png": "[encoded data removed]",
      "text/plain": [
       "<Figure size 432x288 with 2 Axes>"
      ]
     },
     "metadata": {
      "needs_background": "light"
     },
     "output_type": "display_data"
    },
    {
     "name": "stdout",
     "output_type": "stream",
     "text": [
      "나의 최고 validation accuracy :  0.435\n"
     ]
    }
   ],
   "source": [
    "fig = plt.figure()\n",
    "ax_acc = fig.add_subplot(111)\n",
    "\n",
    "ax_acc.plot(range(epoch_size), history['val_acc'], label='정확도(%)', color='darkred')\n",
    "\n",
    "plt.xlabel('epochs')\n",
    "plt.ylabel('Validation Accuracy(%)')\n",
    "ax_acc.grid(linestyle='--', color='lavender')\n",
    "ax_loss = ax_acc.twinx()\n",
    "ax_loss.plot(range(epoch_size), history['val_loss'], label='오차', color='darkblue')\n",
    "\n",
    "plt.ylabel('Validation Error')\n",
    "ax_loss.yaxis.tick_right()\n",
    "ax_loss.grid(linestyle='--', color='lavender')\n",
    "\n",
    "plt.show()\n",
    "\n",
    "# 나의 최고 validation accuracy는? 두구두구~\n",
    "print(\"나의 최고 validation accuracy : \",max(history['val_acc']))"
   ]
  },
  {
   "cell_type": "markdown",
   "metadata": {},
   "source": [
    "epoch=800 정도에서 loss가 가장 낮게 형성되어 있습니다. accuracy는 수렴하는 것 처럼 보입니다."
   ]
  },
  {
   "cell_type": "markdown",
   "metadata": {},
   "source": [
    "##### +) hidden_size = 256, epoch_size = 2500, learning_rate = 0.00005"
   ]
  },
  {
   "cell_type": "code",
   "execution_count": 39,
   "metadata": {},
   "outputs": [
    {
     "name": "stdout",
     "output_type": "stream",
     "text": [
      "(50000, 3072) (10000, 3072) (50000,) (10000,)\n"
     ]
    }
   ],
   "source": [
    "(x_train, y_train), (x_test, y_test) = cifar10.load_data()\n",
    "x_train, x_test, y_train, y_test = preprocessing_data(x_train, x_test, y_train, y_test)\n",
    "print(x_train.shape, x_test.shape, y_train.shape, y_test.shape)"
   ]
  },
  {
   "cell_type": "code",
   "execution_count": 40,
   "metadata": {},
   "outputs": [],
   "source": [
    "x_train = x_train[:5000]\n",
    "y_train = y_train[:5000]\n",
    "x_test = x_test[:1000]\n",
    "y_test = y_test[:1000]"
   ]
  },
  {
   "cell_type": "code",
   "execution_count": 43,
   "metadata": {},
   "outputs": [],
   "source": [
    "# hyperparameter setting\n",
    "input_size = 32 * 32 * 3\n",
    "hidden_size = 256 \n",
    "output_size = 10\n",
    "epoch_size = 2500\n",
    "batch_size = 100\n",
    "learning_rate = 0.00005\n",
    "N = x_train.shape[0]"
   ]
  },
  {
   "cell_type": "code",
   "execution_count": 44,
   "metadata": {},
   "outputs": [],
   "source": [
    "batch_mask = np.random.choice(N, batch_size) #이번 배치에서 쓸 데이터들 인덱스 추출\n",
    "x_batch = x_train[batch_mask]"
   ]
  },
  {
   "cell_type": "code",
   "execution_count": 45,
   "metadata": {},
   "outputs": [],
   "source": [
    "nn = TwoLayerNet(x_batch, input_size=input_size, hidden_size=hidden_size, output_size=output_size)"
   ]
  },
  {
   "cell_type": "code",
   "execution_count": 46,
   "metadata": {},
   "outputs": [
    {
     "name": "stdout",
     "output_type": "stream",
     "text": [
      "0  test accuracy : 0.109   |   test loss : 2567.0864251874364\n",
      "50  test accuracy : 0.239   |   test loss : 2137.6350926202326\n",
      "100  test accuracy : 0.27   |   test loss : 2002.7304565554716\n",
      "150  test accuracy : 0.308   |   test loss : 1922.3608717876039\n",
      "200  test accuracy : 0.338   |   test loss : 1850.376616012727\n",
      "250  test accuracy : 0.359   |   test loss : 1787.4289688261752\n",
      "300  test accuracy : 0.376   |   test loss : 1740.588140244084\n",
      "350  test accuracy : 0.379   |   test loss : 1705.950022308784\n",
      "400  test accuracy : 0.38   |   test loss : 1679.9333186546432\n",
      "450  test accuracy : 0.384   |   test loss : 1660.038020879837\n",
      "500  test accuracy : 0.402   |   test loss : 1644.7425949396415\n",
      "550  test accuracy : 0.412   |   test loss : 1632.4288594375232\n",
      "600  test accuracy : 0.408   |   test loss : 1625.7311140665304\n",
      "650  test accuracy : 0.417   |   test loss : 1618.643904134875\n",
      "700  test accuracy : 0.419   |   test loss : 1613.4183828622479\n",
      "750  test accuracy : 0.428   |   test loss : 1611.7931211205118\n",
      "800  test accuracy : 0.425   |   test loss : 1613.3246198813429\n",
      "850  test accuracy : 0.426   |   test loss : 1614.6421929544424\n",
      "900  test accuracy : 0.423   |   test loss : 1621.3871953397618\n",
      "950  test accuracy : 0.431   |   test loss : 1629.5707358353923\n",
      "1000  test accuracy : 0.429   |   test loss : 1635.9584695254334\n",
      "1050  test accuracy : 0.428   |   test loss : 1646.7459409719606\n",
      "1100  test accuracy : 0.424   |   test loss : 1659.4836436691955\n",
      "1150  test accuracy : 0.428   |   test loss : 1672.1440063459033\n",
      "1200  test accuracy : 0.427   |   test loss : 1689.6511845498483\n",
      "1250  test accuracy : 0.423   |   test loss : 1707.1032365057697\n",
      "1300  test accuracy : 0.421   |   test loss : 1723.0412914517012\n",
      "1350  test accuracy : 0.417   |   test loss : 1744.520613073952\n",
      "1400  test accuracy : 0.42   |   test loss : 1766.5055378595282\n",
      "1450  test accuracy : 0.418   |   test loss : 1786.3920120465364\n",
      "1500  test accuracy : 0.416   |   test loss : 1806.4838867898327\n",
      "1550  test accuracy : 0.417   |   test loss : 1835.177739637923\n",
      "1600  test accuracy : 0.419   |   test loss : 1855.1337496627118\n",
      "1650  test accuracy : 0.412   |   test loss : 1878.6804811934849\n",
      "1700  test accuracy : 0.415   |   test loss : 1900.8641155135751\n",
      "1750  test accuracy : 0.414   |   test loss : 1930.1192728018218\n",
      "1800  test accuracy : 0.418   |   test loss : 1953.0747941307259\n",
      "1850  test accuracy : 0.413   |   test loss : 1987.1067837454136\n",
      "1900  test accuracy : 0.41   |   test loss : 2010.470095713483\n",
      "1950  test accuracy : 0.414   |   test loss : 2033.2032803138195\n",
      "2000  test accuracy : 0.418   |   test loss : 2060.8632278461155\n",
      "2050  test accuracy : 0.412   |   test loss : 2087.7842089154096\n",
      "2100  test accuracy : 0.414   |   test loss : 2109.534180922407\n",
      "2150  test accuracy : 0.41   |   test loss : 2142.0415300309137\n",
      "2200  test accuracy : 0.412   |   test loss : 2158.9195415890786\n",
      "2250  test accuracy : 0.411   |   test loss : 2188.1443523343364\n",
      "2300  test accuracy : 0.408   |   test loss : 2213.542014032105\n",
      "2350  test accuracy : 0.409   |   test loss : 2232.4956772885907\n",
      "2400  test accuracy : 0.416   |   test loss : 2255.015160557715\n",
      "2450  test accuracy : 0.409   |   test loss : 2279.2863885571196\n"
     ]
    }
   ],
   "source": [
    "history = {'val_acc': [],'val_loss': []} #기록해서 그림 그리자!\n",
    "\n",
    "#코드를 보며 epoch, batch에 대해서 이해해봅시다.\n",
    "for i in range(epoch_size):\n",
    "    for j in range(N//batch_size):\n",
    "        batch_mask = np.random.choice(N, batch_size) #이번 배치에서 쓸 데이터들 인덱스 추출\n",
    "        x_batch = x_train[batch_mask]\n",
    "        t_batch = y_train[batch_mask]\n",
    "        \n",
    "        nn.backward(x_batch, t_batch, 1e-7) # 가중치 갱신\n",
    "    \n",
    "    #accuracy와 loss를 기록해둡시다.\n",
    "    history[\"val_acc\"].append(nn.accuracy(x_test, y_test))\n",
    "    history[\"val_loss\"].append(nn.forward(x_test, y_test))\n",
    "    \n",
    "    if i % 50 == 0:\n",
    "        print(i, \" test accuracy :\", nn.accuracy(x_test, y_test), \"  |   test loss :\", nn.forward(x_test, y_test))"
   ]
  },
  {
   "cell_type": "code",
   "execution_count": 47,
   "metadata": {},
   "outputs": [
    {
     "data": {
      "image/png": "[encoded data removed]",
      "text/plain": [
       "<Figure size 432x288 with 2 Axes>"
      ]
     },
     "metadata": {
      "needs_background": "light"
     },
     "output_type": "display_data"
    },
    {
     "name": "stdout",
     "output_type": "stream",
     "text": [
      "나의 최고 validation accuracy :  0.437\n"
     ]
    }
   ],
   "source": [
    "fig = plt.figure()\n",
    "ax_acc = fig.add_subplot(111)\n",
    "\n",
    "ax_acc.plot(range(epoch_size), history['val_acc'], label='정확도(%)', color='darkred')\n",
    "\n",
    "plt.xlabel('epochs')\n",
    "plt.ylabel('Validation Accuracy(%)')\n",
    "ax_acc.grid(linestyle='--', color='lavender')\n",
    "ax_loss = ax_acc.twinx()\n",
    "ax_loss.plot(range(epoch_size), history['val_loss'], label='오차', color='darkblue')\n",
    "\n",
    "plt.ylabel('Validation Error')\n",
    "ax_loss.yaxis.tick_right()\n",
    "ax_loss.grid(linestyle='--', color='lavender')\n",
    "\n",
    "plt.show()\n",
    "\n",
    "# 나의 최고 validation accuracy는? 두구두구~\n",
    "print(\"나의 최고 validation accuracy : \",max(history['val_acc']))"
   ]
  },
  {
   "cell_type": "markdown",
   "metadata": {},
   "source": [
    "epoch=800정도에서 loss가 가장 낮고, 그 이후에 계속 가파르게 loss가 증가하고 있습니다.     \n",
    "accuracy같은 경우에는 증가하다 수렴하는 형태를 보입니다.    \n",
    "(epoch=1000정도에서 멈췄으면 좋았을 것 같습니다 ㅎㅁㅎ;;;) "
   ]
  },
  {
   "cell_type": "markdown",
   "metadata": {},
   "source": [
    "### +) 3 Layer NN"
   ]
  },
  {
   "cell_type": "markdown",
   "metadata": {},
   "source": [
    "#### Chain Rule\n",
    "**Forward** \n",
    "\n",
    "$H_{1} = XW_{1} + b_{1}$  \n",
    "$A_{1} = ReLU(H_{1})$  \n",
    "$H_{2} = A_{1}W_{2} + b_{2}$  \n",
    "$A_{2} = ReLU(H_{2})$  \n",
    "$S = A_{2}W_{3} + b_{3}$  \n",
    "$P = Softmax(S)$  \n",
    "$L = -LogLikelihood(P)$\n",
    "\n",
    "\n",
    "**Backward**\n",
    "\n",
    "$\\frac{\\partial L}{\\partial O} = P-T$　    \n",
    "$\\frac{\\partial L}{\\partial W_{3}} = {A_{2}^T}\\frac{\\partial L}{\\partial S} = {A_{2}^T}(P-T) $ 　    \n",
    "$\\frac{\\partial L}{\\partial b_{3}} =  P-T$    \n",
    "\n",
    "\n",
    "$\\frac{\\partial L}{\\partial W_{2}} = {A_{1}^T}\\frac{\\partial L}{\\partial H_{2}} =      \n",
    "{A_{1}^T}[\\frac{\\partial A_{2}}{\\partial H_{2}}\\frac{\\partial L}{\\partial A_{2}}] \n",
    "= {A_{1}^T}[\\frac{\\partial A_{2}}{\\partial H_{2}}\\frac{\\partial L}{\\partial H_{3}}{W_{3}^T}]\n",
    "= {A_{1}^T}[\\frac{\\partial A_{2}}{\\partial H_{2}}[P-T]{W_{3}^T}]$        \n",
    "$\\frac{\\partial L}{\\partial b_{2}} = [P-T]{W_{3}^T}$  \n",
    "\n",
    "$\\frac{\\partial L}{\\partial W_{1}} = {X^T}\\frac{\\partial L}{\\partial H_{1}} = \n",
    "{X^T}[\\frac{\\partial A_{1}}{\\partial H_{1}}\\frac{\\partial L}{\\partial A_{1}}] \n",
    "= {X^T}[\\frac{\\partial A_{1}}{\\partial H_{1}}[\\frac{\\partial H_{2}}{\\partial A_{1}}\\frac{\\partial L}{\\partial H_{2}}]]\n",
    "= {X^T}[\\frac{\\partial A_{1}}{\\partial H_{1}}[{\\frac{\\partial A_{2}}{\\partial H_{2}}}[P-T]{W_{3}^T}]{W_{2}^T}]$        \n",
    "$\\frac{\\partial L}{\\partial b_{1}} = \\frac{\\partial A_{1}}{\\partial H_{1}}[{\\frac{\\partial A_{2}}{\\partial H_{2}}}[P-T]{W_{3}^T}]{W_{2}^T}$   "
   ]
  },
  {
   "cell_type": "markdown",
   "metadata": {},
   "source": [
    "##### 1) hidden_size = 64, epoch_size = 1000, learning_rate = 0.0001"
   ]
  },
  {
   "cell_type": "code",
   "execution_count": 3,
   "metadata": {},
   "outputs": [
    {
     "name": "stdout",
     "output_type": "stream",
     "text": [
      "(50000, 3072) (10000, 3072) (50000,) (10000,)\n"
     ]
    }
   ],
   "source": [
    "(x_train, y_train), (x_test, y_test) = cifar10.load_data()\n",
    "x_train, x_test, y_train, y_test = preprocessing_data(x_train, x_test, y_train, y_test)\n",
    "print(x_train.shape, x_test.shape, y_train.shape, y_test.shape)"
   ]
  },
  {
   "cell_type": "code",
   "execution_count": 4,
   "metadata": {},
   "outputs": [],
   "source": [
    "x_train = x_train[:5000]\n",
    "y_train = y_train[:5000]\n",
    "x_test = x_test[:1000]\n",
    "y_test = y_test[:1000]"
   ]
  },
  {
   "cell_type": "code",
   "execution_count": 5,
   "metadata": {},
   "outputs": [],
   "source": [
    "# hyperparameter setting\n",
    "input_size = 32 * 32 * 3\n",
    "hidden_size = 64 # 64 -> 32 -> 10\n",
    "output_size = 10\n",
    "epoch_size = 1000\n",
    "batch_size = 100\n",
    "learning_rate = 0.0001\n",
    "N = x_train.shape[0]"
   ]
  },
  {
   "cell_type": "code",
   "execution_count": 6,
   "metadata": {},
   "outputs": [],
   "source": [
    "batch_mask = np.random.choice(N, batch_size)\n",
    "x_batch = x_train[batch_mask]"
   ]
  },
  {
   "cell_type": "code",
   "execution_count": 7,
   "metadata": {},
   "outputs": [],
   "source": [
    "nn = ThreeLayerNet(x_batch, input_size=input_size, \n",
    "                   hidden_size1=hidden_size, hidden_size2=hidden_size//2, output_size=output_size)"
   ]
  },
  {
   "cell_type": "code",
   "execution_count": 8,
   "metadata": {},
   "outputs": [
    {
     "name": "stdout",
     "output_type": "stream",
     "text": [
      "0 test accuracy : 0.1\n",
      "0 test loss     : 2850.185241387935\n",
      "50 test accuracy : 0.1\n",
      "50 test loss     : 2830.7012857624054\n",
      "100 test accuracy : 0.1\n",
      "100 test loss     : 2812.012225837772\n",
      "150 test accuracy : 0.1\n",
      "150 test loss     : 2794.009311965368\n",
      "200 test accuracy : 0.1\n",
      "200 test loss     : 2776.5800941208363\n",
      "250 test accuracy : 0.1\n",
      "250 test loss     : 2759.6156011894764\n",
      "300 test accuracy : 0.1\n",
      "300 test loss     : 2742.1406126967427\n",
      "350 test accuracy : 0.1\n",
      "350 test loss     : 2719.696685866075\n",
      "400 test accuracy : 0.1\n",
      "400 test loss     : 2672.9653911264186\n",
      "450 test accuracy : 0.119\n",
      "450 test loss     : 2554.417849161001\n",
      "500 test accuracy : 0.147\n",
      "500 test loss     : 2436.7034989706576\n",
      "550 test accuracy : 0.147\n",
      "550 test loss     : 2364.6116261299676\n",
      "600 test accuracy : 0.149\n",
      "600 test loss     : 2310.1784030015506\n",
      "650 test accuracy : 0.155\n",
      "650 test loss     : 2284.8764358991502\n",
      "700 test accuracy : 0.149\n",
      "700 test loss     : 2281.291829297368\n",
      "750 test accuracy : 0.147\n",
      "750 test loss     : 2279.445897636504\n",
      "800 test accuracy : 0.149\n",
      "800 test loss     : 2277.203900836023\n",
      "850 test accuracy : 0.149\n",
      "850 test loss     : 2274.554633190761\n",
      "900 test accuracy : 0.15\n",
      "900 test loss     : 2271.3578805373313\n",
      "950 test accuracy : 0.147\n",
      "950 test loss     : 2268.360325566987\n"
     ]
    }
   ],
   "source": [
    "history = {'val_acc': [],'val_loss': []} \n",
    "\n",
    "for i in range(epoch_size):\n",
    "    for j in range(N//batch_size):\n",
    "        batch_mask = np.random.choice(N, batch_size) \n",
    "        x_batch = x_train[batch_mask]\n",
    "        t_batch = y_train[batch_mask]\n",
    "\n",
    "        nn.backward(x_batch, t_batch, 1e-7) # 가중치 갱신\n",
    "\n",
    "    #accuracy와 loss를 기록해둡시다.\n",
    "    history[\"val_acc\"].append(nn.accuracy(x_test, y_test))\n",
    "    history[\"val_loss\"].append(nn.forward(x_test, y_test))\n",
    "\n",
    "    if i % 50 == 0:\n",
    "        print(i, \"test accuracy :\", nn.accuracy(x_test, y_test))\n",
    "        print(i, \"test loss     :\", nn.forward(x_test, y_test))"
   ]
  },
  {
   "cell_type": "code",
   "execution_count": 9,
   "metadata": {},
   "outputs": [
    {
     "data": {
      "image/png": "[encoded data removed]",
      "text/plain": [
       "<Figure size 432x288 with 2 Axes>"
      ]
     },
     "metadata": {
      "needs_background": "light"
     },
     "output_type": "display_data"
    },
    {
     "name": "stdout",
     "output_type": "stream",
     "text": [
      "나의 최고 validation accuracy :  0.158\n"
     ]
    }
   ],
   "source": [
    "fig = plt.figure()\n",
    "ax_acc = fig.add_subplot(111)\n",
    "\n",
    "ax_acc.plot(range(epoch_size), history['val_acc'], label='정확도(%)', color='darkred')\n",
    "\n",
    "plt.xlabel('epochs')\n",
    "plt.ylabel('Validation Accuracy(%)')\n",
    "ax_acc.grid(linestyle='--', color='lavender')\n",
    "ax_loss = ax_acc.twinx()\n",
    "ax_loss.plot(range(epoch_size), history['val_loss'], label='오차', color='darkblue')\n",
    "\n",
    "plt.ylabel('Validation Error')\n",
    "ax_loss.yaxis.tick_right()\n",
    "ax_loss.grid(linestyle='--', color='lavender')\n",
    "\n",
    "plt.show()\n",
    "\n",
    "# 나의 최고 validation accuracy는? 두구두구~\n",
    "print(\"나의 최고 validation accuracy : \",max(history['val_acc']))"
   ]
  },
  {
   "cell_type": "markdown",
   "metadata": {},
   "source": [
    "accuracy는 증가하고, loss는 감소하고 있습니다. 조금 더 추세를 살펴 보아야 한다고 생각했습니다"
   ]
  },
  {
   "cell_type": "markdown",
   "metadata": {},
   "source": [
    "##### 2) hidden_size = 64, epoch_size = 3000, learning_rate = 0.0001"
   ]
  },
  {
   "cell_type": "code",
   "execution_count": 10,
   "metadata": {},
   "outputs": [
    {
     "name": "stdout",
     "output_type": "stream",
     "text": [
      "(50000, 3072) (10000, 3072) (50000,) (10000,)\n"
     ]
    }
   ],
   "source": [
    "(x_train, y_train), (x_test, y_test) = cifar10.load_data()\n",
    "x_train, x_test, y_train, y_test = preprocessing_data(x_train, x_test, y_train, y_test)\n",
    "print(x_train.shape, x_test.shape, y_train.shape, y_test.shape)"
   ]
  },
  {
   "cell_type": "code",
   "execution_count": 11,
   "metadata": {},
   "outputs": [],
   "source": [
    "x_train = x_train[:5000]\n",
    "y_train = y_train[:5000]\n",
    "x_test = x_test[:1000]\n",
    "y_test = y_test[:1000]"
   ]
  },
  {
   "cell_type": "code",
   "execution_count": 12,
   "metadata": {},
   "outputs": [],
   "source": [
    "# hyperparameter setting\n",
    "input_size = 32 * 32 * 3\n",
    "hidden_size = 64 # 64 -> 32 -> 10\n",
    "output_size = 10\n",
    "epoch_size = 3000\n",
    "batch_size = 100\n",
    "learning_rate = 0.0001\n",
    "N = x_train.shape[0]"
   ]
  },
  {
   "cell_type": "code",
   "execution_count": 13,
   "metadata": {},
   "outputs": [],
   "source": [
    "batch_mask = np.random.choice(N, batch_size) \n",
    "x_batch = x_train[batch_mask]"
   ]
  },
  {
   "cell_type": "code",
   "execution_count": 14,
   "metadata": {},
   "outputs": [],
   "source": [
    "nn = ThreeLayerNet(x_batch, input_size=input_size, \n",
    "                   hidden_size1=hidden_size, hidden_size2=hidden_size//2, output_size=output_size)"
   ]
  },
  {
   "cell_type": "code",
   "execution_count": 15,
   "metadata": {},
   "outputs": [
    {
     "name": "stdout",
     "output_type": "stream",
     "text": [
      "0 test accuracy : 0.112\n",
      "0 test loss     : 2663.7273174627326\n",
      "50 test accuracy : 0.112\n",
      "50 test loss     : 2644.2536333258067\n",
      "100 test accuracy : 0.112\n",
      "100 test loss     : 2625.8951423826115\n",
      "150 test accuracy : 0.112\n",
      "150 test loss     : 2608.5035324894575\n",
      "200 test accuracy : 0.112\n",
      "200 test loss     : 2591.8010794295656\n",
      "250 test accuracy : 0.112\n",
      "250 test loss     : 2574.6465232979012\n",
      "300 test accuracy : 0.112\n",
      "300 test loss     : 2551.863005711561\n",
      "350 test accuracy : 0.112\n",
      "350 test loss     : 2501.4873193689555\n",
      "400 test accuracy : 0.147\n",
      "400 test loss     : 2397.060995920307\n",
      "450 test accuracy : 0.172\n",
      "450 test loss     : 2325.328424675155\n",
      "500 test accuracy : 0.168\n",
      "500 test loss     : 2296.995811079756\n",
      "550 test accuracy : 0.171\n",
      "550 test loss     : 2276.669843734255\n",
      "600 test accuracy : 0.181\n",
      "600 test loss     : 2262.2318614744927\n",
      "650 test accuracy : 0.189\n",
      "650 test loss     : 2252.943724386426\n",
      "700 test accuracy : 0.194\n",
      "700 test loss     : 2247.556976528889\n",
      "750 test accuracy : 0.196\n",
      "750 test loss     : 2243.653211939084\n",
      "800 test accuracy : 0.196\n",
      "800 test loss     : 2240.76510953013\n",
      "850 test accuracy : 0.191\n",
      "850 test loss     : 2238.6144149518022\n",
      "900 test accuracy : 0.198\n",
      "900 test loss     : 2236.6285663387325\n",
      "950 test accuracy : 0.198\n",
      "950 test loss     : 2235.3008355905363\n",
      "1000 test accuracy : 0.196\n",
      "1000 test loss     : 2234.0985790986665\n",
      "1050 test accuracy : 0.198\n",
      "1050 test loss     : 2232.860165914408\n",
      "1100 test accuracy : 0.199\n",
      "1100 test loss     : 2231.6914466833655\n",
      "1150 test accuracy : 0.198\n",
      "1150 test loss     : 2230.31673448611\n",
      "1200 test accuracy : 0.197\n",
      "1200 test loss     : 2228.9003105877905\n",
      "1250 test accuracy : 0.2\n",
      "1250 test loss     : 2227.4484915612124\n",
      "1300 test accuracy : 0.2\n",
      "1300 test loss     : 2226.257632180017\n",
      "1350 test accuracy : 0.201\n",
      "1350 test loss     : 2224.8828780920394\n",
      "1400 test accuracy : 0.203\n",
      "1400 test loss     : 2223.5834582849798\n",
      "1450 test accuracy : 0.203\n",
      "1450 test loss     : 2222.150161137511\n",
      "1500 test accuracy : 0.203\n",
      "1500 test loss     : 2220.975956738218\n",
      "1550 test accuracy : 0.2\n",
      "1550 test loss     : 2219.8885377715665\n",
      "1600 test accuracy : 0.201\n",
      "1600 test loss     : 2218.6904142801955\n",
      "1650 test accuracy : 0.2\n",
      "1650 test loss     : 2217.310388201457\n",
      "1700 test accuracy : 0.194\n",
      "1700 test loss     : 2216.4498253387146\n",
      "1750 test accuracy : 0.193\n",
      "1750 test loss     : 2215.4021571426865\n",
      "1800 test accuracy : 0.197\n",
      "1800 test loss     : 2214.457413892614\n",
      "1850 test accuracy : 0.194\n",
      "1850 test loss     : 2213.981517911807\n",
      "1900 test accuracy : 0.198\n",
      "1900 test loss     : 2213.4248477286865\n",
      "1950 test accuracy : 0.192\n",
      "1950 test loss     : 2212.5837006146535\n",
      "2000 test accuracy : 0.193\n",
      "2000 test loss     : 2212.51344087933\n",
      "2050 test accuracy : 0.194\n",
      "2050 test loss     : 2211.5018281263774\n",
      "2100 test accuracy : 0.195\n",
      "2100 test loss     : 2211.46824948055\n",
      "2150 test accuracy : 0.194\n",
      "2150 test loss     : 2210.9244289930557\n",
      "2200 test accuracy : 0.194\n",
      "2200 test loss     : 2210.7410161411467\n",
      "2250 test accuracy : 0.192\n",
      "2250 test loss     : 2210.0525249551247\n",
      "2300 test accuracy : 0.197\n",
      "2300 test loss     : 2209.980165426677\n",
      "2350 test accuracy : 0.194\n",
      "2350 test loss     : 2209.8270381783004\n",
      "2400 test accuracy : 0.192\n",
      "2400 test loss     : 2209.6045488404507\n",
      "2450 test accuracy : 0.193\n",
      "2450 test loss     : 2209.741843133176\n",
      "2500 test accuracy : 0.192\n",
      "2500 test loss     : 2209.3519496028193\n",
      "2550 test accuracy : 0.196\n",
      "2550 test loss     : 2208.8014406490274\n",
      "2600 test accuracy : 0.192\n",
      "2600 test loss     : 2208.504872966896\n",
      "2650 test accuracy : 0.194\n",
      "2650 test loss     : 2207.9185129916345\n",
      "2700 test accuracy : 0.197\n",
      "2700 test loss     : 2207.42334363931\n",
      "2750 test accuracy : 0.194\n",
      "2750 test loss     : 2206.811323125983\n",
      "2800 test accuracy : 0.199\n",
      "2800 test loss     : 2205.9365510072666\n",
      "2850 test accuracy : 0.19\n",
      "2850 test loss     : 2204.8502006240055\n",
      "2900 test accuracy : 0.195\n",
      "2900 test loss     : 2203.720503044041\n",
      "2950 test accuracy : 0.191\n",
      "2950 test loss     : 2203.3688982140598\n"
     ]
    }
   ],
   "source": [
    "history = {'val_acc': [],'val_loss': []} \n",
    "\n",
    "for i in range(epoch_size):\n",
    "    for j in range(N//batch_size):\n",
    "        batch_mask = np.random.choice(N, batch_size) \n",
    "        x_batch = x_train[batch_mask]\n",
    "        t_batch = y_train[batch_mask]\n",
    "\n",
    "        nn.backward(x_batch, t_batch, 1e-7) # 가중치 갱신\n",
    "\n",
    "    #accuracy와 loss를 기록해둡시다.\n",
    "    history[\"val_acc\"].append(nn.accuracy(x_test, y_test))\n",
    "    history[\"val_loss\"].append(nn.forward(x_test, y_test))\n",
    "\n",
    "    if i % 50 == 0:\n",
    "        print(i, \"test accuracy :\", nn.accuracy(x_test, y_test))\n",
    "        print(i, \"test loss     :\", nn.forward(x_test, y_test))"
   ]
  },
  {
   "cell_type": "code",
   "execution_count": 16,
   "metadata": {},
   "outputs": [
    {
     "data": {
      "image/png": "[encoded data removed]",
      "text/plain": [
       "<Figure size 432x288 with 2 Axes>"
      ]
     },
     "metadata": {
      "needs_background": "light"
     },
     "output_type": "display_data"
    },
    {
     "name": "stdout",
     "output_type": "stream",
     "text": [
      "나의 최고 validation accuracy :  0.205\n"
     ]
    }
   ],
   "source": [
    "fig = plt.figure()\n",
    "ax_acc = fig.add_subplot(111)\n",
    "\n",
    "ax_acc.plot(range(epoch_size), history['val_acc'], label='정확도(%)', color='darkred')\n",
    "\n",
    "plt.xlabel('epochs')\n",
    "plt.ylabel('Validation Accuracy(%)')\n",
    "ax_acc.grid(linestyle='--', color='lavender')\n",
    "ax_loss = ax_acc.twinx()\n",
    "ax_loss.plot(range(epoch_size), history['val_loss'], label='오차', color='darkblue')\n",
    "\n",
    "plt.ylabel('Validation Error')\n",
    "ax_loss.yaxis.tick_right()\n",
    "ax_loss.grid(linestyle='--', color='lavender')\n",
    "\n",
    "plt.show()\n",
    "\n",
    "# 나의 최고 validation accuracy는? 두구두구~\n",
    "print(\"나의 최고 validation accuracy : \",max(history['val_acc']))"
   ]
  },
  {
   "cell_type": "markdown",
   "metadata": {},
   "source": [
    "epoch도 좀 더 늘려보고, hidden size도 확 늘려보기로 했습니다 "
   ]
  },
  {
   "cell_type": "markdown",
   "metadata": {},
   "source": [
    "##### 3) hidden_size = 256, epoch_size = 5000, learning_rate = 0.00005"
   ]
  },
  {
   "cell_type": "code",
   "execution_count": 3,
   "metadata": {},
   "outputs": [
    {
     "name": "stdout",
     "output_type": "stream",
     "text": [
      "(50000, 3072) (10000, 3072) (50000,) (10000,)\n"
     ]
    }
   ],
   "source": [
    "(x_train, y_train), (x_test, y_test) = cifar10.load_data()\n",
    "x_train, x_test, y_train, y_test = preprocessing_data(x_train, x_test, y_train, y_test)\n",
    "print(x_train.shape, x_test.shape, y_train.shape, y_test.shape)"
   ]
  },
  {
   "cell_type": "code",
   "execution_count": 4,
   "metadata": {},
   "outputs": [],
   "source": [
    "x_train = x_train[:5000]\n",
    "y_train = y_train[:5000]\n",
    "x_test = x_test[:1000]\n",
    "y_test = y_test[:1000]"
   ]
  },
  {
   "cell_type": "code",
   "execution_count": 5,
   "metadata": {},
   "outputs": [],
   "source": [
    "# hyperparameter setting\n",
    "input_size = 32 * 32 * 3\n",
    "hidden_size = 256 # 256 -> 64 -> 10\n",
    "output_size = 10\n",
    "epoch_size = 5000\n",
    "batch_size = 100\n",
    "learning_rate = 0.00005\n",
    "N = x_train.shape[0]"
   ]
  },
  {
   "cell_type": "code",
   "execution_count": 6,
   "metadata": {},
   "outputs": [],
   "source": [
    "batch_mask = np.random.choice(N, batch_size) \n",
    "x_batch = x_train[batch_mask]"
   ]
  },
  {
   "cell_type": "code",
   "execution_count": 7,
   "metadata": {},
   "outputs": [],
   "source": [
    "nn = ThreeLayerNet(x_batch, input_size=input_size, \n",
    "                   hidden_size1=hidden_size, hidden_size2=hidden_size//4, output_size=output_size)"
   ]
  },
  {
   "cell_type": "code",
   "execution_count": 11,
   "metadata": {},
   "outputs": [
    {
     "name": "stdout",
     "output_type": "stream",
     "text": [
      "0 test accuracy : 0.103\n",
      "0 test loss     : 2776.0877912760197\n",
      "100 test accuracy : 0.103\n",
      "100 test loss     : 2663.4846796654815\n",
      "200 test accuracy : 0.103\n",
      "200 test loss     : 2574.8324076251806\n",
      "300 test accuracy : 0.12\n",
      "300 test loss     : 2458.646382927145\n",
      "400 test accuracy : 0.145\n",
      "400 test loss     : 2313.526666255363\n",
      "500 test accuracy : 0.145\n",
      "500 test loss     : 2276.7271552593083\n",
      "600 test accuracy : 0.143\n",
      "600 test loss     : 2262.7544962070797\n",
      "700 test accuracy : 0.152\n",
      "700 test loss     : 2254.3356267832733\n",
      "800 test accuracy : 0.162\n",
      "800 test loss     : 2247.6567175292157\n",
      "900 test accuracy : 0.164\n",
      "900 test loss     : 2243.223394523343\n",
      "1000 test accuracy : 0.161\n",
      "1000 test loss     : 2240.64809451953\n",
      "1100 test accuracy : 0.158\n",
      "1100 test loss     : 2239.0940788245516\n",
      "1200 test accuracy : 0.157\n",
      "1200 test loss     : 2237.1421980267664\n",
      "1300 test accuracy : 0.16\n",
      "1300 test loss     : 2234.6469234773544\n",
      "1400 test accuracy : 0.162\n",
      "1400 test loss     : 2229.6848515665783\n",
      "1500 test accuracy : 0.162\n",
      "1500 test loss     : 2220.156896115207\n",
      "1600 test accuracy : 0.193\n",
      "1600 test loss     : 2202.3201530024958\n",
      "1700 test accuracy : 0.219\n",
      "1700 test loss     : 2173.786278811367\n",
      "1800 test accuracy : 0.232\n",
      "1800 test loss     : 2138.742267912327\n",
      "1900 test accuracy : 0.222\n",
      "1900 test loss     : 2108.207467511202\n",
      "2000 test accuracy : 0.229\n",
      "2000 test loss     : 2086.543359964012\n",
      "2100 test accuracy : 0.234\n",
      "2100 test loss     : 2070.341978833017\n",
      "2200 test accuracy : 0.231\n",
      "2200 test loss     : 2057.639352979735\n",
      "2300 test accuracy : 0.23\n",
      "2300 test loss     : 2046.829286016358\n",
      "2400 test accuracy : 0.224\n",
      "2400 test loss     : 2037.958373960892\n",
      "2500 test accuracy : 0.231\n",
      "2500 test loss     : 2031.2134892929923\n",
      "2600 test accuracy : 0.235\n",
      "2600 test loss     : 2025.2590557682117\n",
      "2700 test accuracy : 0.238\n",
      "2700 test loss     : 2019.669010610055\n",
      "2800 test accuracy : 0.24\n",
      "2800 test loss     : 2014.4440808000813\n",
      "2900 test accuracy : 0.24\n",
      "2900 test loss     : 2009.6339967797655\n",
      "3000 test accuracy : 0.243\n",
      "3000 test loss     : 2004.7880644359004\n",
      "3100 test accuracy : 0.249\n",
      "3100 test loss     : 2000.0275196062876\n",
      "3200 test accuracy : 0.246\n",
      "3200 test loss     : 1995.8573590845385\n",
      "3300 test accuracy : 0.252\n",
      "3300 test loss     : 1991.3458912107135\n",
      "3400 test accuracy : 0.25\n",
      "3400 test loss     : 1985.8517664561637\n",
      "3500 test accuracy : 0.253\n",
      "3500 test loss     : 1979.8738315803255\n",
      "3600 test accuracy : 0.256\n",
      "3600 test loss     : 1973.8419565157915\n",
      "3700 test accuracy : 0.262\n",
      "3700 test loss     : 1966.461217496079\n",
      "3800 test accuracy : 0.27\n",
      "3800 test loss     : 1957.9282681400016\n",
      "3900 test accuracy : 0.28\n",
      "3900 test loss     : 1947.2049894456993\n",
      "4000 test accuracy : 0.278\n",
      "4000 test loss     : 1933.6159542465107\n",
      "4100 test accuracy : 0.285\n",
      "4100 test loss     : 1918.7603803132715\n",
      "4200 test accuracy : 0.295\n",
      "4200 test loss     : 1903.155568326587\n",
      "4300 test accuracy : 0.297\n",
      "4300 test loss     : 1889.2895652580698\n",
      "4400 test accuracy : 0.302\n",
      "4400 test loss     : 1877.199889645213\n",
      "4500 test accuracy : 0.309\n",
      "4500 test loss     : 1865.7865882990327\n",
      "4600 test accuracy : 0.313\n",
      "4600 test loss     : 1856.4025945235642\n",
      "4700 test accuracy : 0.315\n",
      "4700 test loss     : 1849.6981474932913\n",
      "4800 test accuracy : 0.314\n",
      "4800 test loss     : 1843.1826244134966\n",
      "4900 test accuracy : 0.323\n",
      "4900 test loss     : 1837.4727827877093\n"
     ]
    }
   ],
   "source": [
    "history = {'val_acc': [],'val_loss': []} \n",
    "\n",
    "for i in range(epoch_size):\n",
    "    for j in range(N//batch_size):\n",
    "        batch_mask = np.random.choice(N, batch_size) #이번 배치에서 쓸 데이터들 인덱스 추출\n",
    "        x_batch = x_train[batch_mask]\n",
    "        t_batch = y_train[batch_mask]\n",
    "\n",
    "        nn.backward(x_batch, t_batch, 1e-7) # 가중치 갱신\n",
    "\n",
    "    #accuracy와 loss를 기록해둡시다.\n",
    "    history[\"val_acc\"].append(nn.accuracy(x_test, y_test))\n",
    "    history[\"val_loss\"].append(nn.forward(x_test, y_test))\n",
    "\n",
    "    if i % 100 == 0:\n",
    "        print(i, \"test accuracy :\", nn.accuracy(x_test, y_test))\n",
    "        print(i, \"test loss     :\", nn.forward(x_test, y_test))"
   ]
  },
  {
   "cell_type": "code",
   "execution_count": 12,
   "metadata": {},
   "outputs": [
    {
     "data": {
      "image/png": "[encoded data removed]",
      "text/plain": [
       "<Figure size 432x288 with 2 Axes>"
      ]
     },
     "metadata": {
      "needs_background": "light"
     },
     "output_type": "display_data"
    },
    {
     "name": "stdout",
     "output_type": "stream",
     "text": [
      "나의 최고 validation accuracy :  0.326\n"
     ]
    }
   ],
   "source": [
    "fig = plt.figure()\n",
    "ax_acc = fig.add_subplot(111)\n",
    "\n",
    "ax_acc.plot(range(epoch_size), history['val_acc'], label='정확도(%)', color='darkred')\n",
    "\n",
    "plt.xlabel('epochs')\n",
    "plt.ylabel('Validation Accuracy(%)')\n",
    "ax_acc.grid(linestyle='--', color='lavender')\n",
    "ax_loss = ax_acc.twinx()\n",
    "ax_loss.plot(range(epoch_size), history['val_loss'], label='오차', color='darkblue')\n",
    "\n",
    "plt.ylabel('Validation Error')\n",
    "ax_loss.yaxis.tick_right()\n",
    "ax_loss.grid(linestyle='--', color='lavender')\n",
    "\n",
    "plt.show()\n",
    "\n",
    "# 나의 최고 validation accuracy는? 두구두구~\n",
    "print(\"나의 최고 validation accuracy : \",max(history['val_acc']))"
   ]
  },
  {
   "cell_type": "markdown",
   "metadata": {},
   "source": [
    "loss는 계속 감소하고 있고, accuracy는 계속 증가하고 있습니다! "
   ]
  },
  {
   "cell_type": "markdown",
   "metadata": {},
   "source": [
    "##### 4) hidden_size = 256, epoch_size = 7000, learning_rate = 0.00005"
   ]
  },
  {
   "cell_type": "code",
   "execution_count": 25,
   "metadata": {},
   "outputs": [
    {
     "name": "stdout",
     "output_type": "stream",
     "text": [
      "(50000, 3072) (10000, 3072) (50000,) (10000,)\n"
     ]
    }
   ],
   "source": [
    "(x_train, y_train), (x_test, y_test) = cifar10.load_data()\n",
    "x_train, x_test, y_train, y_test = preprocessing_data(x_train, x_test, y_train, y_test)\n",
    "print(x_train.shape, x_test.shape, y_train.shape, y_test.shape)"
   ]
  },
  {
   "cell_type": "code",
   "execution_count": 26,
   "metadata": {},
   "outputs": [],
   "source": [
    "x_train = x_train[:5000]\n",
    "y_train = y_train[:5000]\n",
    "x_test = x_test[:1000]\n",
    "y_test = y_test[:1000]"
   ]
  },
  {
   "cell_type": "code",
   "execution_count": 34,
   "metadata": {},
   "outputs": [],
   "source": [
    "# hyperparameter setting\n",
    "input_size = 32 * 32 * 3\n",
    "hidden_size = 256 # 256 -> 64 -> 10\n",
    "output_size = 10\n",
    "epoch_size = 7000\n",
    "batch_size = 100\n",
    "learning_rate = 0.00005\n",
    "N = x_train.shape[0]"
   ]
  },
  {
   "cell_type": "code",
   "execution_count": 35,
   "metadata": {},
   "outputs": [],
   "source": [
    "batch_mask = np.random.choice(N, batch_size) #이번 배치에서 쓸 데이터들 인덱스 추출\n",
    "x_batch = x_train[batch_mask]"
   ]
  },
  {
   "cell_type": "code",
   "execution_count": 36,
   "metadata": {},
   "outputs": [],
   "source": [
    "nn = ThreeLayerNet(x_batch, input_size=input_size, \n",
    "                   hidden_size1=hidden_size, hidden_size2=hidden_size//4, output_size=output_size)"
   ]
  },
  {
   "cell_type": "code",
   "execution_count": 37,
   "metadata": {},
   "outputs": [
    {
     "name": "stdout",
     "output_type": "stream",
     "text": [
      "0  test accuracy : 0.106   |   test loss : 3006.4629371802494\n",
      "50  test accuracy : 0.106   |   test loss : 2902.9828833812185\n",
      "100  test accuracy : 0.106   |   test loss : 2813.202496623831\n",
      "150  test accuracy : 0.106   |   test loss : 2730.921075268775\n",
      "200  test accuracy : 0.11   |   test loss : 2621.407716751015\n",
      "250  test accuracy : 0.154   |   test loss : 2491.9629675298756\n",
      "300  test accuracy : 0.163   |   test loss : 2428.9264414984295\n",
      "350  test accuracy : 0.133   |   test loss : 2362.7211275371433\n",
      "400  test accuracy : 0.147   |   test loss : 2315.2273649791578\n",
      "450  test accuracy : 0.147   |   test loss : 2292.6421059079503\n",
      "500  test accuracy : 0.135   |   test loss : 2278.9031373903863\n",
      "550  test accuracy : 0.117   |   test loss : 2270.59489348193\n",
      "600  test accuracy : 0.121   |   test loss : 2265.890682932031\n",
      "650  test accuracy : 0.124   |   test loss : 2262.3281361343406\n",
      "700  test accuracy : 0.123   |   test loss : 2259.9720527903037\n",
      "750  test accuracy : 0.125   |   test loss : 2258.018505433175\n",
      "800  test accuracy : 0.123   |   test loss : 2256.578113238963\n",
      "850  test accuracy : 0.119   |   test loss : 2255.097676151999\n",
      "900  test accuracy : 0.122   |   test loss : 2254.1478633611196\n",
      "950  test accuracy : 0.117   |   test loss : 2253.7008469774933\n",
      "1000  test accuracy : 0.113   |   test loss : 2253.1726903518356\n",
      "1050  test accuracy : 0.112   |   test loss : 2252.7615296503536\n",
      "1100  test accuracy : 0.111   |   test loss : 2252.5945084072223\n",
      "1150  test accuracy : 0.115   |   test loss : 2252.1654414119885\n",
      "1200  test accuracy : 0.112   |   test loss : 2251.715898805035\n",
      "1250  test accuracy : 0.113   |   test loss : 2251.5073106120753\n",
      "1300  test accuracy : 0.116   |   test loss : 2251.625072229202\n",
      "1350  test accuracy : 0.113   |   test loss : 2251.6321791231344\n",
      "1400  test accuracy : 0.117   |   test loss : 2251.795019864448\n",
      "1450  test accuracy : 0.116   |   test loss : 2251.9579502420042\n",
      "1500  test accuracy : 0.114   |   test loss : 2252.2402777549205\n",
      "1550  test accuracy : 0.113   |   test loss : 2252.3197420045117\n",
      "1600  test accuracy : 0.114   |   test loss : 2252.075125075494\n",
      "1650  test accuracy : 0.117   |   test loss : 2252.2165166516497\n",
      "1700  test accuracy : 0.116   |   test loss : 2252.4241595830786\n",
      "1750  test accuracy : 0.117   |   test loss : 2252.2295312686983\n",
      "1800  test accuracy : 0.12   |   test loss : 2252.238581107016\n",
      "1850  test accuracy : 0.119   |   test loss : 2252.5593440474117\n",
      "1900  test accuracy : 0.119   |   test loss : 2253.0386715724703\n",
      "1950  test accuracy : 0.12   |   test loss : 2253.121239763146\n",
      "2000  test accuracy : 0.116   |   test loss : 2253.39212415735\n",
      "2050  test accuracy : 0.119   |   test loss : 2253.3710382111417\n",
      "2100  test accuracy : 0.12   |   test loss : 2252.7262585795106\n",
      "2150  test accuracy : 0.12   |   test loss : 2252.5222061479258\n",
      "2200  test accuracy : 0.127   |   test loss : 2251.550577381303\n",
      "2250  test accuracy : 0.136   |   test loss : 2250.8660551993507\n",
      "2300  test accuracy : 0.134   |   test loss : 2249.807992758397\n",
      "2350  test accuracy : 0.143   |   test loss : 2248.829963963639\n",
      "2400  test accuracy : 0.146   |   test loss : 2247.9476705766015\n",
      "2450  test accuracy : 0.149   |   test loss : 2247.0557898154993\n",
      "2500  test accuracy : 0.156   |   test loss : 2245.842603130311\n",
      "2550  test accuracy : 0.16   |   test loss : 2245.2505861264804\n",
      "2600  test accuracy : 0.16   |   test loss : 2243.7936909806776\n",
      "2650  test accuracy : 0.161   |   test loss : 2242.980415975968\n",
      "2700  test accuracy : 0.164   |   test loss : 2241.439219459728\n",
      "2750  test accuracy : 0.166   |   test loss : 2238.3130016178598\n",
      "2800  test accuracy : 0.17   |   test loss : 2234.121404954299\n",
      "2850  test accuracy : 0.177   |   test loss : 2227.720589092632\n",
      "2900  test accuracy : 0.187   |   test loss : 2217.19579828795\n",
      "2950  test accuracy : 0.193   |   test loss : 2201.8960990218893\n",
      "3000  test accuracy : 0.204   |   test loss : 2181.223116489309\n",
      "3050  test accuracy : 0.208   |   test loss : 2158.4229844206443\n",
      "3100  test accuracy : 0.209   |   test loss : 2138.288174537101\n",
      "3150  test accuracy : 0.211   |   test loss : 2122.048786112615\n",
      "3200  test accuracy : 0.212   |   test loss : 2110.3453864163716\n",
      "3250  test accuracy : 0.214   |   test loss : 2099.759315362749\n",
      "3300  test accuracy : 0.21   |   test loss : 2091.323093496551\n",
      "3350  test accuracy : 0.207   |   test loss : 2083.7905705795115\n",
      "3400  test accuracy : 0.213   |   test loss : 2077.80466751291\n",
      "3450  test accuracy : 0.215   |   test loss : 2072.610960168217\n",
      "3500  test accuracy : 0.214   |   test loss : 2068.58227047743\n",
      "3550  test accuracy : 0.21   |   test loss : 2064.429783634986\n",
      "3600  test accuracy : 0.211   |   test loss : 2061.686171495152\n",
      "3650  test accuracy : 0.216   |   test loss : 2058.9717688987175\n",
      "3700  test accuracy : 0.219   |   test loss : 2056.664154331472\n",
      "3750  test accuracy : 0.219   |   test loss : 2055.5235021293884\n",
      "3800  test accuracy : 0.217   |   test loss : 2055.0798420152882\n",
      "3850  test accuracy : 0.213   |   test loss : 2053.923802756695\n",
      "3900  test accuracy : 0.217   |   test loss : 2052.938523277447\n",
      "3950  test accuracy : 0.219   |   test loss : 2052.05724151002\n",
      "4000  test accuracy : 0.221   |   test loss : 2051.801303309783\n",
      "4050  test accuracy : 0.225   |   test loss : 2051.317549426404\n",
      "4100  test accuracy : 0.226   |   test loss : 2051.6354674160593\n",
      "4150  test accuracy : 0.23   |   test loss : 2050.626864331205\n",
      "4200  test accuracy : 0.232   |   test loss : 2050.8274178393335\n",
      "4250  test accuracy : 0.236   |   test loss : 2050.384378484535\n",
      "4300  test accuracy : 0.239   |   test loss : 2050.6368478098825\n",
      "4350  test accuracy : 0.233   |   test loss : 2049.9688454188877\n",
      "4400  test accuracy : 0.237   |   test loss : 2048.975866584853\n",
      "4450  test accuracy : 0.236   |   test loss : 2047.9372327038975\n",
      "4500  test accuracy : 0.233   |   test loss : 2047.8203209945857\n",
      "4550  test accuracy : 0.239   |   test loss : 2046.7896850647824\n",
      "4600  test accuracy : 0.241   |   test loss : 2046.6947489686638\n",
      "4650  test accuracy : 0.241   |   test loss : 2045.8280908652898\n",
      "4700  test accuracy : 0.24   |   test loss : 2046.1390634442862\n",
      "4750  test accuracy : 0.243   |   test loss : 2045.2058402449904\n",
      "4800  test accuracy : 0.244   |   test loss : 2046.1931105662827\n",
      "4850  test accuracy : 0.25   |   test loss : 2044.2877624258833\n",
      "4900  test accuracy : 0.249   |   test loss : 2045.093556804485\n",
      "4950  test accuracy : 0.248   |   test loss : 2043.5597741451857\n",
      "5000  test accuracy : 0.257   |   test loss : 2041.7688950321217\n",
      "5050  test accuracy : 0.253   |   test loss : 2040.8742285317644\n",
      "5100  test accuracy : 0.253   |   test loss : 2039.494168828943\n",
      "5150  test accuracy : 0.261   |   test loss : 2036.227931099542\n",
      "5200  test accuracy : 0.267   |   test loss : 2032.5741259238805\n",
      "5250  test accuracy : 0.267   |   test loss : 2029.4402183080756\n",
      "5300  test accuracy : 0.279   |   test loss : 2024.7854340075626\n",
      "5350  test accuracy : 0.28   |   test loss : 2020.2968152213243\n",
      "5400  test accuracy : 0.288   |   test loss : 2013.987858732114\n",
      "5450  test accuracy : 0.293   |   test loss : 2009.5623799115508\n",
      "5500  test accuracy : 0.294   |   test loss : 2005.015374473044\n",
      "5550  test accuracy : 0.289   |   test loss : 2000.3028606812286\n",
      "5600  test accuracy : 0.287   |   test loss : 1996.8769130824653\n",
      "5650  test accuracy : 0.296   |   test loss : 1992.9907103078979\n",
      "5700  test accuracy : 0.294   |   test loss : 1990.2400559627688\n",
      "5750  test accuracy : 0.296   |   test loss : 1987.024194548711\n",
      "5800  test accuracy : 0.295   |   test loss : 1985.5957253733652\n",
      "5850  test accuracy : 0.298   |   test loss : 1984.3236583399362\n",
      "5900  test accuracy : 0.297   |   test loss : 1982.3732446793654\n",
      "5950  test accuracy : 0.304   |   test loss : 1981.2873312402653\n",
      "6000  test accuracy : 0.304   |   test loss : 1980.698773838095\n",
      "6050  test accuracy : 0.309   |   test loss : 1979.5005550394928\n",
      "6100  test accuracy : 0.308   |   test loss : 1979.1934045116823\n",
      "6150  test accuracy : 0.307   |   test loss : 1979.3269248547836\n",
      "6200  test accuracy : 0.304   |   test loss : 1980.6391420537684\n",
      "6250  test accuracy : 0.308   |   test loss : 1981.0892870967448\n",
      "6300  test accuracy : 0.309   |   test loss : 1981.74885304643\n",
      "6350  test accuracy : 0.308   |   test loss : 1984.4471150016711\n"
     ]
    },
    {
     "name": "stdout",
     "output_type": "stream",
     "text": [
      "6400  test accuracy : 0.308   |   test loss : 1985.0587883570402\n",
      "6450  test accuracy : 0.308   |   test loss : 1987.2444681093186\n",
      "6500  test accuracy : 0.315   |   test loss : 1988.9944363486434\n",
      "6550  test accuracy : 0.318   |   test loss : 1990.9516926252143\n",
      "6600  test accuracy : 0.32   |   test loss : 1994.3000354646672\n",
      "6650  test accuracy : 0.32   |   test loss : 1996.937814000179\n",
      "6700  test accuracy : 0.32   |   test loss : 2002.3253669896071\n",
      "6750  test accuracy : 0.321   |   test loss : 2006.8562665271354\n",
      "6800  test accuracy : 0.325   |   test loss : 2012.1515823462812\n",
      "6850  test accuracy : 0.329   |   test loss : 2015.3658526973038\n",
      "6900  test accuracy : 0.33   |   test loss : 2022.2883083469292\n",
      "6950  test accuracy : 0.332   |   test loss : 2025.1486761255594\n"
     ]
    }
   ],
   "source": [
    "history = {'val_acc': [],'val_loss': []} \n",
    "\n",
    "for i in range(epoch_size):\n",
    "    for j in range(N//batch_size):\n",
    "        batch_mask = np.random.choice(N, batch_size) #이번 배치에서 쓸 데이터들 인덱스 추출\n",
    "        x_batch = x_train[batch_mask]\n",
    "        t_batch = y_train[batch_mask]\n",
    "\n",
    "        nn.backward(x_batch, t_batch, 1e-7) # 가중치 갱신\n",
    "\n",
    "    #accuracy와 loss를 기록해둡시다.\n",
    "    history[\"val_acc\"].append(nn.accuracy(x_test, y_test))\n",
    "    history[\"val_loss\"].append(nn.forward(x_test, y_test))\n",
    "\n",
    "    if i % 50 == 0:\n",
    "        print(i, \" test accuracy :\", nn.accuracy(x_test, y_test), \"  |   test loss :\", nn.forward(x_test, y_test))"
   ]
  },
  {
   "cell_type": "code",
   "execution_count": 38,
   "metadata": {},
   "outputs": [
    {
     "data": {
      "image/png": "[encoded data removed]",
      "text/plain": [
       "<Figure size 432x288 with 2 Axes>"
      ]
     },
     "metadata": {
      "needs_background": "light"
     },
     "output_type": "display_data"
    },
    {
     "name": "stdout",
     "output_type": "stream",
     "text": [
      "나의 최고 validation accuracy :  0.335\n"
     ]
    }
   ],
   "source": [
    "fig = plt.figure()\n",
    "ax_acc = fig.add_subplot(111)\n",
    "\n",
    "ax_acc.plot(range(epoch_size), history['val_acc'], label='정확도(%)', color='darkred')\n",
    "\n",
    "plt.xlabel('epochs')\n",
    "plt.ylabel('Validation Accuracy(%)')\n",
    "ax_acc.grid(linestyle='--', color='lavender')\n",
    "ax_loss = ax_acc.twinx()\n",
    "ax_loss.plot(range(epoch_size), history['val_loss'], label='오차', color='darkblue')\n",
    "\n",
    "plt.ylabel('Validation Error')\n",
    "ax_loss.yaxis.tick_right()\n",
    "ax_loss.grid(linestyle='--', color='lavender')\n",
    "\n",
    "plt.show()\n",
    "\n",
    "# 나의 최고 validation accuracy는? 두구두구~\n",
    "print(\"나의 최고 validation accuracy : \",max(history['val_acc']))"
   ]
  },
  {
   "cell_type": "markdown",
   "metadata": {},
   "source": [
    "epoch을 더 늘려서 살펴보았더니, accuracy는 쭉쭉 증가하지만, epoch=6000정도부터 오히려 loss가 증가하는 형태를 보이기 시작합니다......"
   ]
  },
  {
   "cell_type": "markdown",
   "metadata": {},
   "source": [
    "### 결론"
   ]
  },
  {
   "cell_type": "markdown",
   "metadata": {},
   "source": [
    "#### 1. 결과 정리 "
   ]
  },
  {
   "cell_type": "markdown",
   "metadata": {},
   "source": [
    "**2 Layer NN**       \n",
    "\n",
    "\n",
    "| No.| hidden_size | epoch_size | learning_rate | accuracy | 최적 epoch 위치 |   \n",
    "|:---:|:---:|:---:|:---:|:---:|:---:|  \n",
    "| 1 | 128 | 1500 | 0.00005 | 0.435 | 800 정도 |  \n",
    "| 2 | 256 | 2500 | 0.00005 | 0.437 | 800 정도 |"
   ]
  },
  {
   "cell_type": "markdown",
   "metadata": {},
   "source": [
    "**3 Layer NN**    \n",
    "\n",
    "\n",
    "\n",
    "| No.| hidden_size | epoch_size | learning_rate | accuracy | 최적 epoch 위치 |   \n",
    "|:---:|:---:|:---:|:---:|:---:|:---:|  \n",
    "| 3 | 64 | 1000 | 0.0001 | 0.158 |   |  \n",
    "| 4 | 64 | 3000 | 0.0001 | 0.205 |   |\n",
    "| 5 | 256 | 5000 | 0.00005 | 0.326 |   |\n",
    "| 6 | 256 | 7000 | 0.00005 | 0.335 | 6000 정도 |"
   ]
  },
  {
   "cell_type": "markdown",
   "metadata": {},
   "source": [
    "#### 2. 결과 해석"
   ]
  },
  {
   "cell_type": "markdown",
   "metadata": {},
   "source": [
    "**1. Why 2 Layer > 3 Layer?**\n",
    "- **최적화** 문제 \n",
    "    - 층을 깊게 쌓아가는 MLP에서는 loss function을 최소화하기 위한 방법으로 gradient descent를 잘 사용하지 않습니다      \n",
    "      (모든 training data에 대해 gradient를 전부 계산하고, 한 번 update 한 뒤에 다시 찾는 과정이 너무 비효율적이기 때문에...) \n",
    "    - 적절한 Optimizer를 사용하거나, dropout을 추가하는 등의 방법을 통해 학습식을 개선해야 성능이 더욱 높아질 것이라 생각됩니다       \n",
    "      (MLP로 깊게 층을 쌓으면 성능이 올라가는 것은 사실이지만, parameter가 늘어나면서 수렴하기 어려운 현상이 발생하기 때문)\n",
    "      \n",
    "**2. Accuracy & Loss**\n",
    "\n",
    "- **Overfitting**: <U>High Validation Accuracy + High Loss Function</U> (2번, 6번 case)   \n",
    "    - Training Data에 Overfitting 되어 있다는 것을 의미합니다    \n",
    "    \n",
    "    - overfitting의 경우 accuracy로 체크하기 보다는 loss로 체크해 보아야 합니다      \n",
    "      ex) binary classification에서 softmax output = (0.6, 0.4)이라는 결과가 나왔을 때, (1,0)으로 분류해 줄 것입니다        \n",
    "      accuracy의 경우 discontinuous 하므로 <-> output의 크기를 고려해서 반환해 주는 것이 아니기 때문에      \n",
    "      accuracy는 늘어나도 loss가 줄어드는 결과가 나타날 수 있는 것입니다       \n",
    "- 따라서 적절한 batch size, epoch size, learning rate를 설정하는 것이 무엇보다 중요합니다    "
   ]
  }
 ],
 "metadata": {
  "kernelspec": {
   "display_name": "Python 3",
   "language": "python",
   "name": "python3"
  },
  "language_info": {
   "codemirror_mode": {
    "name": "ipython",
    "version": 3
   },
   "file_extension": ".py",
   "mimetype": "text/x-python",
   "name": "python",
   "nbconvert_exporter": "python",
   "pygments_lexer": "ipython3",
   "version": "3.6.8rc1"
  },
  "toc": {
   "base_numbering": 1,
   "nav_menu": {},
   "number_sections": true,
   "sideBar": true,
   "skip_h1_title": false,
   "title_cell": "Table of Contents",
   "title_sidebar": "Contents",
   "toc_cell": false,
   "toc_position": {},
   "toc_section_display": true,
   "toc_window_display": false
  },
  "varInspector": {
   "cols": {
    "lenName": 16,
    "lenType": 16,
    "lenVar": 40
   },
   "kernels_config": {
    "python": {
     "delete_cmd_postfix": "",
     "delete_cmd_prefix": "del ",
     "library": "var_list.py",
     "varRefreshCmd": "print(var_dic_list())"
    },
    "r": {
     "delete_cmd_postfix": ") ",
     "delete_cmd_prefix": "rm(",
     "library": "var_list.r",
     "varRefreshCmd": "cat(var_dic_list()) "
    }
   },
   "types_to_exclude": [
    "module",
    "function",
    "builtin_function_or_method",
    "instance",
    "_Feature"
   ],
   "window_display": false
  }
 },
 "nbformat": 4,
 "nbformat_minor": 2
}
