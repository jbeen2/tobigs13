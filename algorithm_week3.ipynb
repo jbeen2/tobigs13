{
 "cells": [
  {
   "cell_type": "markdown",
   "metadata": {},
   "source": [
    "# assignment 1"
   ]
  },
  {
   "cell_type": "code",
   "execution_count": 10,
   "metadata": {},
   "outputs": [
    {
     "name": "stdout",
     "output_type": "stream",
     "text": [
      "5\n",
      "1 2 2\n",
      "3 1 1\n",
      "3 2 1\n",
      "2 1 3\n",
      "2 3 1\n",
      "2\n"
     ]
    }
   ],
   "source": [
    "num = int(input())\n",
    "\n",
    "score = 0\n",
    "location = []\n",
    "\n",
    "for i in range(num): \n",
    "    location.append(list(map(int, input().split())))\n",
    "    \n",
    "    if (location[i][0] == location[i][2] or location[i][1] == location[i][2]):\n",
    "        score += 1\n",
    "        \n",
    "print(score)"
   ]
  },
  {
   "cell_type": "markdown",
   "metadata": {},
   "source": [
    "# assignment 2"
   ]
  },
  {
   "cell_type": "markdown",
   "metadata": {},
   "source": [
    "예제 입력1\n",
    "\n",
    "* 5\n",
    "* 5 2 3\n",
    "* 1 2 3\n",
    "* 4 3 3\n",
    "* 4 1 2\n",
    "* 10 2 6\n",
    "* 1 2 3 4 5 7\n",
    "* 2 1 1\n",
    "* 2\n",
    "* 100 76 8\n",
    "* 76 75 36 67 41 74 10 77\n",
    "\n",
    "\n",
    "예제 출력1\n",
    "\n",
    "* 2\n",
    "* 0\n",
    "* 4\n",
    "* 0\n",
    "* 2"
   ]
  },
  {
   "cell_type": "code",
   "execution_count": 13,
   "metadata": {},
   "outputs": [
    {
     "name": "stdout",
     "output_type": "stream",
     "text": [
      "5\n",
      "5 2 3\n",
      "1 2 3\n",
      "2\n",
      "4 3 3\n",
      "4 1 2\n",
      "0\n",
      "10 2 6\n",
      "1 2 3 4 5 7\n",
      "2\n",
      "100 76 8\n",
      "76 75 36 67 41 74 10 77\n",
      "2\n",
      "\n",
      "\n"
     ]
    },
    {
     "ename": "IndexError",
     "evalue": "list index out of range",
     "output_type": "error",
     "traceback": [
      "\u001b[1;31m---------------------------------------------------------------------------\u001b[0m",
      "\u001b[1;31mIndexError\u001b[0m                                Traceback (most recent call last)",
      "\u001b[1;32m<ipython-input-13-738a7cb559a8>\u001b[0m in \u001b[0;36m<module>\u001b[1;34m\u001b[0m\n\u001b[0;32m     23\u001b[0m                 \u001b[1;32mreturn\u001b[0m \u001b[0mstair\u001b[0m\u001b[1;33m\u001b[0m\u001b[1;33m\u001b[0m\u001b[0m\n\u001b[0;32m     24\u001b[0m \u001b[1;33m\u001b[0m\u001b[0m\n\u001b[1;32m---> 25\u001b[1;33m     \u001b[0mprint\u001b[0m\u001b[1;33m(\u001b[0m\u001b[0mmin\u001b[0m\u001b[1;33m(\u001b[0m\u001b[0mascending\u001b[0m\u001b[1;33m(\u001b[0m\u001b[0mnsk\u001b[0m\u001b[1;33m[\u001b[0m\u001b[1;36m1\u001b[0m\u001b[1;33m]\u001b[0m\u001b[1;33m,\u001b[0m \u001b[0mclose_k\u001b[0m\u001b[1;33m,\u001b[0m \u001b[0mstair\u001b[0m\u001b[1;33m)\u001b[0m\u001b[1;33m,\u001b[0m \u001b[0mdescending\u001b[0m\u001b[1;33m(\u001b[0m\u001b[0mnsk\u001b[0m\u001b[1;33m[\u001b[0m\u001b[1;36m1\u001b[0m\u001b[1;33m]\u001b[0m\u001b[1;33m,\u001b[0m \u001b[0mclose_k\u001b[0m\u001b[1;33m,\u001b[0m \u001b[0mstair\u001b[0m\u001b[1;33m)\u001b[0m\u001b[1;33m)\u001b[0m\u001b[1;33m)\u001b[0m\u001b[1;33m\u001b[0m\u001b[1;33m\u001b[0m\u001b[0m\n\u001b[0m",
      "\u001b[1;31mIndexError\u001b[0m: list index out of range"
     ]
    }
   ],
   "source": [
    "num = int(input())\n",
    "stair = 0\n",
    "\n",
    "for i in range(num): \n",
    "    nsk = list(map(int, input().split()))\n",
    "    close_k = list(map(int, input().split()))\n",
    "\n",
    "    def ascending(s, close_k, stair):\n",
    "        if s in close_k: \n",
    "            stair += 1 \n",
    "            return ascending(s+1, close_k, stair)\n",
    "        else: \n",
    "            return stair\n",
    "\n",
    "    def descending(s, close_k, stair): \n",
    "        if s in close_k: \n",
    "            stair += 1 \n",
    "            return descending(s-1, close_k, stair)\n",
    "        else:\n",
    "            if s < 0: \n",
    "                return 100 \n",
    "            else: \n",
    "                return stair\n",
    "   \n",
    "    print(min(ascending(nsk[1], close_k, stair), descending(nsk[1], close_k, stair)))"
   ]
  },
  {
   "cell_type": "markdown",
   "metadata": {},
   "source": [
    "# assignment 3"
   ]
  },
  {
   "cell_type": "markdown",
   "metadata": {},
   "source": [
    "입력\n",
    "\n",
    "* 첫째 줄에는 아이스크림의 개수 N(1 ≤ N ≤ 10^5)이 주어진다.\n",
    "\n",
    "* 다음 N개만큼 아이스크림의 길이가 주어진다. (1~10000)\n",
    "\n",
    "\n",
    "출력\n",
    "\n",
    "* 승현이가 얻을 수 있는 합이 3의 배수인 아이스크림 순서쌍의 개수\n",
    "\n",
    "\n",
    "Input1\n",
    "* 5\n",
    "* 1 4 2 3 3\n",
    "\n",
    "\n",
    "Output1\n",
    "* 3\n",
    "\n",
    "\n",
    "Input2\n",
    "* 4\n",
    "* 3 3 3 6\n",
    "\n",
    "\n",
    "Output2\n",
    "* 6\n",
    "\n",
    "\n",
    "Input3\n",
    "* 8\n",
    "* 1 1 7 2 11 3 6 9\n",
    "\n",
    "\n",
    "Output3\n",
    "* 9"
   ]
  },
  {
   "cell_type": "markdown",
   "metadata": {},
   "source": [
    "brainstorming \n",
    "* (input - 1) + (input - 2) + ... + 1 개의 순서쌍이 있음 \n",
    "* 순서쌍 내에서의 합을 구해야 함 -> 그래서 이게 3으로 나누어떨어지는지 본다 "
   ]
  },
  {
   "cell_type": "markdown",
   "metadata": {},
   "source": [
    "* 하나하나 보면 시간복잡도 - 조합 아님 \n",
    "* 코드 다섯~열줄 \n",
    "* 3k, 3k-1, 3k+1"
   ]
  },
  {
   "cell_type": "code",
   "execution_count": 5,
   "metadata": {},
   "outputs": [
    {
     "name": "stdout",
     "output_type": "stream",
     "text": [
      "5\n",
      "1 4 2 3 3\n",
      "3.0\n"
     ]
    }
   ],
   "source": [
    "num = int(input())\n",
    "icecream = list(map(int, input().split()))\n",
    "\n",
    "ans1 = 0\n",
    "ans2 = 0 \n",
    "ans3 = 0\n",
    "\n",
    "for i in range(num):\n",
    "    if icecream[i] % 3 == 0: \n",
    "        ans1 += 1 \n",
    "    elif icecream[i] % 3 == 1: \n",
    "        ans2 += 1\n",
    "    elif icecream[i] % 3 == 2: \n",
    "        ans3 += 1 \n",
    "        \n",
    "print((ans1 * (ans1 -1) / 2) + (ans2 * ans3))"
   ]
  }
 ],
 "metadata": {
  "kernelspec": {
   "display_name": "Python 3",
   "language": "python",
   "name": "python3"
  },
  "language_info": {
   "codemirror_mode": {
    "name": "ipython",
    "version": 3
   },
   "file_extension": ".py",
   "mimetype": "text/x-python",
   "name": "python",
   "nbconvert_exporter": "python",
   "pygments_lexer": "ipython3",
   "version": "3.6.8rc1"
  },
  "toc": {
   "base_numbering": 1,
   "nav_menu": {},
   "number_sections": true,
   "sideBar": true,
   "skip_h1_title": false,
   "title_cell": "Table of Contents",
   "title_sidebar": "Contents",
   "toc_cell": false,
   "toc_position": {},
   "toc_section_display": true,
   "toc_window_display": false
  },
  "varInspector": {
   "cols": {
    "lenName": 16,
    "lenType": 16,
    "lenVar": 40
   },
   "kernels_config": {
    "python": {
     "delete_cmd_postfix": "",
     "delete_cmd_prefix": "del ",
     "library": "var_list.py",
     "varRefreshCmd": "print(var_dic_list())"
    },
    "r": {
     "delete_cmd_postfix": ") ",
     "delete_cmd_prefix": "rm(",
     "library": "var_list.r",
     "varRefreshCmd": "cat(var_dic_list()) "
    }
   },
   "types_to_exclude": [
    "module",
    "function",
    "builtin_function_or_method",
    "instance",
    "_Feature"
   ],
   "window_display": false
  }
 },
 "nbformat": 4,
 "nbformat_minor": 2
}
